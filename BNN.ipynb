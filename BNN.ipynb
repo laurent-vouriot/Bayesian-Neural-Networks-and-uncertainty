{
 "cells": [
  {
   "cell_type": "markdown",
   "metadata": {
    "id": "NAIrMHNXuUtc"
   },
   "source": [
    "# BNN"
   ]
  },
  {
   "cell_type": "markdown",
   "metadata": {
    "id": "MEmQoJhnnpID"
   },
   "source": [
    "Bayesian neural networks are in the family of probabilistic neural networks. Instead of learning deterministic weight for the hidden layers, they learn a distribution of probability of those weights. \n",
    "\n",
    "\"Bayesian inference allows us to learn a probability distribution over possible neural networks.\"\n",
    "\n",
    "One could ask what's the utility of such neural networks, and the main answers are :  \n",
    "\n",
    " * to reduce overfitting,\n",
    " * allow learning on small dataset \n",
    " * give a grasp of the uncertainity of the predictions."
   ]
  },
  {
   "cell_type": "markdown",
   "metadata": {
    "id": "L8SMHzu6r-eD"
   },
   "source": [
    "In BNN weights **not** are hard values :\n",
    "\n",
    "\\begin{align}\n",
    "  y &= f(W^Tx) \\\\\n",
    "    &= f(w_1x_1 + w_2x_2 + \\cdots + w_n x_n)\\\\\\\\\n",
    "    & w_n \\sim \\mathcal{N}(\\mu_n, \\sigma_n),\\: \\forall n \\in \\mathbb{N}\n",
    "\\end{align}\n",
    "\n",
    "\n",
    "therefor the optimization problem is different from classical NN, we want to learn $ \\{\\mu_n,\\: \\sigma_n\\} $\n",
    "\n",
    "\n",
    "### In a Standard NN \n",
    "\n",
    "* Training \n",
    "\n",
    "we want to maximise the log likelihood of our training data :\n",
    "\n",
    "\\begin{align}\n",
    "  \\theta^* &= \\arg\\,max_{\\theta} \\;\\; \\Sigma_{(x_i, y_i) \\in \\mathcal{D_{tr}}} \\; log[p(y_i|x_i, \\mathcal{D_{tr}})]  \n",
    "\\end{align}\n",
    "\n",
    "In practice it means minimizing our loss function\n",
    "\n",
    "\\begin{align}\n",
    "  \\theta^* &=  \\Sigma_{(x_i, y_i) \\in \\mathcal{D_{tr}}} \\; \\mathcal{L}(F_\\theta(x_i), y_i)\n",
    "\\end{align}\n",
    "\n",
    "* Prediction \n",
    "\n",
    "test likelihood : $p(\\hat{y}| \\hat{x}, \\theta^*) $\n",
    "\n",
    "in practice forward pass in our trained network : $\\hat{y} = F_{\\theta^*}(\\hat{x}) $\n",
    "\n",
    "### In Bayesian Neural Network \n",
    "\n",
    "* Training \n",
    "\n",
    "As no hard values for $\\theta$ we want to learn **the parameters of the distribution** that $\\theta$ will be sampled from :\n",
    "\n",
    "lets consider the weight distribution as a multivariate gaussian \n",
    "\n",
    "\\begin{align}\n",
    "  \\mu^*, \\Sigma^* = \\Sigma_{(x_i, y_i) \\in \\mathcal{D_{tr}}} \\; log[p(y_i|x_i, \\mathcal{D_{tr}})] - KL[p(\\theta), p(\\theta_0)] \n",
    "\\end{align}\n",
    "\n",
    "Here KL acts as a regularisation terme to prevent too big sampled weights values and hence prevents overfitting. \n",
    "\n",
    "$\\theta \\sim \\mathcal{N}(\\mu, \\Sigma) \\\\\n",
    " \\theta_0 \\sim \\mathcal{N}(0, I)$\n",
    "\n",
    "In practice : \n",
    "\n",
    "\\begin{align}\n",
    "  \\mu^*, \\Sigma^* = arg\\,min_{\\mu, \\Sigma} \\;\\; \\Sigma_{(x_i, y_i) \\in \\mathcal{D_{tr}}} \\; \\mathcal{L}(F_{\\theta}(x_i, y_i)) + KL[p(\\theta), p(\\theta_0)] \n",
    "\\end{align} \n",
    "\n",
    "* Prediction \n",
    "\n",
    "\\begin{align} \n",
    "  & p(\\hat{y} | \\hat{x}, \\mathcal{D_{tr}}) = \\int p(\\hat{y} | \\hat{x}, \\theta^*)p(\\theta^* | \\mathcal{D_{tr}})d\\theta^* \\\\\n",
    "  & \\theta^* \\sim \\mathcal{N}(\\mu^*, \\Sigma^*)\n",
    "\\end{align}\n",
    "\n",
    "i.e the expectation of the test likelihood wrt to the posterior distribution\n",
    "\n",
    "In practice  : \n",
    "\n",
    "$\\hat{y} = \\frac{1}{K} \\Sigma_{k=1}^K F_{\\theta_k^*}(\\hat{x})$\n",
    "\n",
    "$\\theta_k^* \\sim \\mathcal{N}(\\mu^*, \\Sigma^*)$\n",
    "\n",
    "\n",
    "\n",
    "\n",
    "source : https://www.youtube.com/watch?v=OVne8jDKGUI"
   ]
  },
  {
   "cell_type": "markdown",
   "metadata": {},
   "source": [
    "Bayesian statistics is a common statistical\n",
    "modelling paradigm which involves the fusion of prior knowledge about the unknown quantity to\n",
    "be inferred with observed data. The result is a posterior measure over the unknown quantity."
   ]
  },
  {
   "cell_type": "markdown",
   "metadata": {
    "id": "1V_BfdH9VKBW"
   },
   "source": [
    "https://people.inf.elte.hu/kiss/11dwhdm/roc.pdf"
   ]
  },
  {
   "cell_type": "markdown",
   "metadata": {
    "id": "N3SuQthAoEZu"
   },
   "source": [
    "# 1. Imports, Utilities and Data preprocessing "
   ]
  },
  {
   "cell_type": "markdown",
   "metadata": {
    "id": "dKQvi1OxpmWE"
   },
   "source": [
    "## 1.1 Imports"
   ]
  },
  {
   "cell_type": "code",
   "execution_count": 1,
   "metadata": {
    "id": "LIcmdYlTPGZK"
   },
   "outputs": [
    {
     "name": "stdout",
     "output_type": "stream",
     "text": [
      "Note: you may need to restart the kernel to use updated packages.\n"
     ]
    }
   ],
   "source": [
    "%pip install --user -q -U keras-tuner"
   ]
  },
  {
   "cell_type": "code",
   "execution_count": 2,
   "metadata": {
    "id": "WH44hYnmu6cz"
   },
   "outputs": [],
   "source": [
    "import os\n",
    "import numpy as np\n",
    "import pandas as pd\n",
    "import time\n",
    "\n",
    "import matplotlib.pyplot as plt\n",
    "import tensorflow as tf\n",
    "import seaborn as sns\n",
    "import sklearn.metrics\n",
    "\n",
    "from sklearn.metrics import ConfusionMatrixDisplay, roc_auc_score, precision_recall_fscore_support,f1_score, accuracy_score, roc_curve, classification_report, auc, precision_recall_curve\n",
    "from sklearn.preprocessing import MinMaxScaler, StandardScaler\n",
    "from sklearn.model_selection import train_test_split\n",
    "from sklearn.calibration import calibration_curve\n",
    "\n",
    "import tensorflow as tf\n",
    "from tensorflow import keras\n",
    "from tensorflow.keras.metrics import AUC, Accuracy \n",
    "from tensorflow.keras.models import Sequential\n",
    "from tensorflow.keras.layers import Dense,Dropout, InputLayer, BatchNormalization, LeakyReLU\n",
    "from tensorflow.keras.wrappers.scikit_learn import KerasClassifier\n",
    "from tensorflow.keras import callbacks\n",
    "from tensorflow.keras.models import load_model\n",
    "import tensorflow_probability as tfp\n",
    "\n",
    "from tensorflow_probability import distributions as tfd\n",
    "import keras_tuner as kt\n",
    "\n",
    "import tensorflow.keras.backend as K\n",
    "\n",
    "import warnings\n",
    "warnings.filterwarnings(\"ignore\")\n"
   ]
  },
  {
   "cell_type": "markdown",
   "metadata": {
    "id": "n7xmU6l7vVJ8"
   },
   "source": [
    "## 1.2 Load and transform the Dataset "
   ]
  },
  {
   "cell_type": "code",
   "execution_count": 34,
   "metadata": {
    "colab": {
     "base_uri": "https://localhost:8080/",
     "height": 352
    },
    "id": "Icp-bRugvg7b",
    "outputId": "bffc3c7e-1c71-4f70-84bd-798cb29a5478"
   },
   "outputs": [
    {
     "data": {
      "text/html": [
       "<div>\n",
       "<style scoped>\n",
       "    .dataframe tbody tr th:only-of-type {\n",
       "        vertical-align: middle;\n",
       "    }\n",
       "\n",
       "    .dataframe tbody tr th {\n",
       "        vertical-align: top;\n",
       "    }\n",
       "\n",
       "    .dataframe thead th {\n",
       "        text-align: right;\n",
       "    }\n",
       "</style>\n",
       "<table border=\"1\" class=\"dataframe\">\n",
       "  <thead>\n",
       "    <tr style=\"text-align: right;\">\n",
       "      <th></th>\n",
       "      <th>Date</th>\n",
       "      <th>Espece</th>\n",
       "      <th>Direct</th>\n",
       "      <th>Culture</th>\n",
       "      <th>Prelevement</th>\n",
       "      <th>Service</th>\n",
       "      <th>BMR_ATCD</th>\n",
       "      <th>Periode</th>\n",
       "      <th>Amoxicilline</th>\n",
       "      <th>Augmentin</th>\n",
       "      <th>...</th>\n",
       "      <th>Ceftazidime + Ciprofloxacine</th>\n",
       "      <th>Cefepime + Ciprofloxacine</th>\n",
       "      <th>Aztreonam + Ciprofloxacine</th>\n",
       "      <th>Imipenem + Ciprofloxacine</th>\n",
       "      <th>Meropenem + Ciprofloxacine</th>\n",
       "      <th>Tazocilline + Vancomycine</th>\n",
       "      <th>Cefepime + Vancomycine</th>\n",
       "      <th>Meropenem + Vancomycine</th>\n",
       "      <th>Cefotaxime - Ceftriaxone + Metronidazole</th>\n",
       "      <th>Cefepime + Metronidazole</th>\n",
       "    </tr>\n",
       "  </thead>\n",
       "  <tbody>\n",
       "    <tr>\n",
       "      <th>0</th>\n",
       "      <td>0.112285</td>\n",
       "      <td>157.0</td>\n",
       "      <td>0.0</td>\n",
       "      <td>5.0</td>\n",
       "      <td>0.0</td>\n",
       "      <td>1.0</td>\n",
       "      <td>1.0</td>\n",
       "      <td>0.0</td>\n",
       "      <td>0.0</td>\n",
       "      <td>0.0</td>\n",
       "      <td>...</td>\n",
       "      <td>0.0</td>\n",
       "      <td>0.0</td>\n",
       "      <td>0.0</td>\n",
       "      <td>1.0</td>\n",
       "      <td>1.0</td>\n",
       "      <td>0.0</td>\n",
       "      <td>0.0</td>\n",
       "      <td>1.0</td>\n",
       "      <td>0.0</td>\n",
       "      <td>0.0</td>\n",
       "    </tr>\n",
       "    <tr>\n",
       "      <th>1</th>\n",
       "      <td>0.112285</td>\n",
       "      <td>157.0</td>\n",
       "      <td>0.0</td>\n",
       "      <td>5.0</td>\n",
       "      <td>0.0</td>\n",
       "      <td>1.0</td>\n",
       "      <td>1.0</td>\n",
       "      <td>0.0</td>\n",
       "      <td>0.0</td>\n",
       "      <td>0.0</td>\n",
       "      <td>...</td>\n",
       "      <td>0.0</td>\n",
       "      <td>0.0</td>\n",
       "      <td>0.0</td>\n",
       "      <td>1.0</td>\n",
       "      <td>1.0</td>\n",
       "      <td>0.0</td>\n",
       "      <td>0.0</td>\n",
       "      <td>1.0</td>\n",
       "      <td>0.0</td>\n",
       "      <td>0.0</td>\n",
       "    </tr>\n",
       "    <tr>\n",
       "      <th>2</th>\n",
       "      <td>0.799296</td>\n",
       "      <td>253.0</td>\n",
       "      <td>4.0</td>\n",
       "      <td>8.0</td>\n",
       "      <td>0.0</td>\n",
       "      <td>3.0</td>\n",
       "      <td>-1.0</td>\n",
       "      <td>2.0</td>\n",
       "      <td>0.0</td>\n",
       "      <td>1.0</td>\n",
       "      <td>...</td>\n",
       "      <td>0.0</td>\n",
       "      <td>1.0</td>\n",
       "      <td>0.0</td>\n",
       "      <td>1.0</td>\n",
       "      <td>1.0</td>\n",
       "      <td>1.0</td>\n",
       "      <td>1.0</td>\n",
       "      <td>1.0</td>\n",
       "      <td>1.0</td>\n",
       "      <td>1.0</td>\n",
       "    </tr>\n",
       "    <tr>\n",
       "      <th>3</th>\n",
       "      <td>0.800078</td>\n",
       "      <td>253.0</td>\n",
       "      <td>4.0</td>\n",
       "      <td>8.0</td>\n",
       "      <td>0.0</td>\n",
       "      <td>0.0</td>\n",
       "      <td>-1.0</td>\n",
       "      <td>2.0</td>\n",
       "      <td>0.0</td>\n",
       "      <td>1.0</td>\n",
       "      <td>...</td>\n",
       "      <td>0.0</td>\n",
       "      <td>1.0</td>\n",
       "      <td>0.0</td>\n",
       "      <td>1.0</td>\n",
       "      <td>1.0</td>\n",
       "      <td>1.0</td>\n",
       "      <td>1.0</td>\n",
       "      <td>1.0</td>\n",
       "      <td>1.0</td>\n",
       "      <td>1.0</td>\n",
       "    </tr>\n",
       "    <tr>\n",
       "      <th>4</th>\n",
       "      <td>0.800078</td>\n",
       "      <td>253.0</td>\n",
       "      <td>4.0</td>\n",
       "      <td>8.0</td>\n",
       "      <td>0.0</td>\n",
       "      <td>0.0</td>\n",
       "      <td>0.0</td>\n",
       "      <td>2.0</td>\n",
       "      <td>0.0</td>\n",
       "      <td>1.0</td>\n",
       "      <td>...</td>\n",
       "      <td>0.0</td>\n",
       "      <td>1.0</td>\n",
       "      <td>0.0</td>\n",
       "      <td>1.0</td>\n",
       "      <td>1.0</td>\n",
       "      <td>1.0</td>\n",
       "      <td>1.0</td>\n",
       "      <td>1.0</td>\n",
       "      <td>1.0</td>\n",
       "      <td>1.0</td>\n",
       "    </tr>\n",
       "  </tbody>\n",
       "</table>\n",
       "<p>5 rows × 55 columns</p>\n",
       "</div>"
      ],
      "text/plain": [
       "       Date  Espece  Direct  Culture  Prelevement  Service  BMR_ATCD  Periode  \\\n",
       "0  0.112285   157.0     0.0      5.0          0.0      1.0       1.0      0.0   \n",
       "1  0.112285   157.0     0.0      5.0          0.0      1.0       1.0      0.0   \n",
       "2  0.799296   253.0     4.0      8.0          0.0      3.0      -1.0      2.0   \n",
       "3  0.800078   253.0     4.0      8.0          0.0      0.0      -1.0      2.0   \n",
       "4  0.800078   253.0     4.0      8.0          0.0      0.0       0.0      2.0   \n",
       "\n",
       "   Amoxicilline  Augmentin  ...  Ceftazidime + Ciprofloxacine  \\\n",
       "0           0.0        0.0  ...                           0.0   \n",
       "1           0.0        0.0  ...                           0.0   \n",
       "2           0.0        1.0  ...                           0.0   \n",
       "3           0.0        1.0  ...                           0.0   \n",
       "4           0.0        1.0  ...                           0.0   \n",
       "\n",
       "   Cefepime + Ciprofloxacine  Aztreonam + Ciprofloxacine  \\\n",
       "0                        0.0                         0.0   \n",
       "1                        0.0                         0.0   \n",
       "2                        1.0                         0.0   \n",
       "3                        1.0                         0.0   \n",
       "4                        1.0                         0.0   \n",
       "\n",
       "   Imipenem + Ciprofloxacine  Meropenem + Ciprofloxacine  \\\n",
       "0                        1.0                         1.0   \n",
       "1                        1.0                         1.0   \n",
       "2                        1.0                         1.0   \n",
       "3                        1.0                         1.0   \n",
       "4                        1.0                         1.0   \n",
       "\n",
       "   Tazocilline + Vancomycine  Cefepime + Vancomycine  Meropenem + Vancomycine  \\\n",
       "0                        0.0                     0.0                      1.0   \n",
       "1                        0.0                     0.0                      1.0   \n",
       "2                        1.0                     1.0                      1.0   \n",
       "3                        1.0                     1.0                      1.0   \n",
       "4                        1.0                     1.0                      1.0   \n",
       "\n",
       "   Cefotaxime - Ceftriaxone + Metronidazole  Cefepime + Metronidazole  \n",
       "0                                       0.0                       0.0  \n",
       "1                                       0.0                       0.0  \n",
       "2                                       1.0                       1.0  \n",
       "3                                       1.0                       1.0  \n",
       "4                                       1.0                       1.0  \n",
       "\n",
       "[5 rows x 55 columns]"
      ]
     },
     "execution_count": 34,
     "metadata": {},
     "output_type": "execute_result"
    }
   ],
   "source": [
    "SEED = 42\n",
    "df = pd.read_excel(\"cleanDS.xlsx\", engine='openpyxl')\n",
    "df.drop(['Unnamed: 0'], axis=1, inplace = True)\n",
    "df.head()"
   ]
  },
  {
   "cell_type": "code",
   "execution_count": 3,
   "metadata": {},
   "outputs": [],
   "source": [
    "antibiotiques = df.columns[8:]\n",
    "n_antibiotiques = len(antibiotiques)"
   ]
  },
  {
   "cell_type": "code",
   "execution_count": 4,
   "metadata": {
    "id": "ckO6mPYQY9th"
   },
   "outputs": [],
   "source": [
    "# Save period D, 2020 period Covid for validation\n",
    "df_D = df[df.Periode == 3]\n",
    "df_E = df[df.Periode == 4]\n",
    "df_F = df[df.Periode == 5]\n",
    "df_G = df[df.Periode == 6]\n",
    "df_H = df[df.Periode == 7]\n",
    "df   = df[df.Periode <3]"
   ]
  },
  {
   "cell_type": "code",
   "execution_count": 5,
   "metadata": {
    "id": "ynydDgbgY9tt"
   },
   "outputs": [
    {
     "ename": "IndentationError",
     "evalue": "unexpected indent (Temp/ipykernel_14580/21708014.py, line 3)",
     "output_type": "error",
     "traceback": [
      "\u001b[1;36m  File \u001b[1;32m\"C:\\Users\\YASSER~1.BAA\\AppData\\Local\\Temp/ipykernel_14580/21708014.py\"\u001b[1;36m, line \u001b[1;32m3\u001b[0m\n\u001b[1;33m    X = pd.DataFrame()\u001b[0m\n\u001b[1;37m    ^\u001b[0m\n\u001b[1;31mIndentationError\u001b[0m\u001b[1;31m:\u001b[0m unexpected indent\n"
     ]
    }
   ],
   "source": [
    "# Get the columns in each stage\n",
    "#def getXY (dataframe, Stade): \n",
    "    X = pd.DataFrame()\n",
    "    y = pd.DataFrame()\n",
    "    \n",
    "    if Stade == 0 :\n",
    "            X = dataframe[['Date','BMR_ATCD','Service']]\n",
    "            X[['Prelevement','Direct','Culture','Espece']] = -1\n",
    "     \n",
    "    elif Stade == 1 :\n",
    "            X = dataframe[['Date','BMR_ATCD','Service','Prelevement']]\n",
    "            X[['Direct','Culture','Espece']] = -1\n",
    "\n",
    "    elif Stade == 2 :\n",
    "            X = dataframe[['Date','BMR_ATCD','Service','Prelevement','Direct']]\n",
    "            X[['Culture','Espece']] = -1\n",
    "\n",
    "    elif Stade == 3 :\n",
    "            X = dataframe[['Date','BMR_ATCD','Service','Prelevement','Culture']] \n",
    "            X[['Direct','Espece']] = -1\n",
    "    \n",
    "    elif Stade == 4 :\n",
    "             X = dataframe[['Date','BMR_ATCD','Service','Prelevement','Culture','Espece']] \n",
    "             X[['Direct']] = -1\n",
    "    else: \n",
    "             raise ValueError('Stade not in [1,2,3,4]')\n",
    "        \n",
    "\n",
    "    antibiotiques = dataframe.columns[8:]\n",
    "    y = dataframe.loc[:,antibiotiques]\n",
    "\n",
    "    return (X,y)\n",
    "\n",
    "def createDataSet(dataframe) :\n",
    "  stades = [1,2,3]\n",
    "  X, y =  getXY (dataframe, 4) \n",
    "  for stade in stades: \n",
    "    X2,y2 =  getXY(dataframe, stade) \n",
    "    X = X.append(X2)\n",
    "    y = y.append(y2)\n",
    "\n",
    "  return (X,y)"
   ]
  },
  {
   "cell_type": "code",
   "execution_count": 6,
   "metadata": {},
   "outputs": [],
   "source": [
    "# Version 2\n",
    "def getXY(dataframe, stade): \n",
    "    X = pd.DataFrame()\n",
    "    y = pd.DataFrame()\n",
    "    \n",
    "    if stade == 0 :\n",
    "            X = dataframe[['Date','BMR_ATCD','Service']]\n",
    "            X[['Prelevement','Direct','Culture','Espece']] = -1\n",
    "     \n",
    "    elif stade == 1 :\n",
    "            X = dataframe[['Date','BMR_ATCD','Service','Prelevement']]\n",
    "            X[['Direct','Culture','Espece']] = -1\n",
    "\n",
    "    elif stade == 2 :\n",
    "            X = dataframe[['Date','BMR_ATCD','Service','Prelevement','Direct']]\n",
    "            X[['Culture','Espece']] = -1\n",
    "\n",
    "    elif stade == 3 :\n",
    "            X = dataframe[['Date','BMR_ATCD','Service','Prelevement','Direct','Culture']] \n",
    "            X[['Espece']] = -1\n",
    "    \n",
    "    elif stade == 4 :\n",
    "             X = dataframe[['Date','BMR_ATCD','Service','Prelevement','Direct','Culture','Espece']] \n",
    "    else: \n",
    "             raise ValueError('Stade not in [1,2,3,4]')\n",
    "        \n",
    "\n",
    "    antibiotiques = dataframe.columns[8:]\n",
    "    y = dataframe.loc[:,antibiotiques]\n",
    "\n",
    "    return (X,y)\n",
    "\n",
    "def createDataSet(dataframe) :\n",
    "  stades = [1,2,3]\n",
    "  X, y =  getXY(dataframe, 4) \n",
    "  for stade in stades: \n",
    "    X2,y2 =  getXY(dataframe, stade) \n",
    "    X = X.append(X2)\n",
    "    y = y.append(y2)\n",
    "\n",
    "  return (X,y)"
   ]
  },
  {
   "cell_type": "markdown",
   "metadata": {
    "id": "TEGd9RaPwE-U"
   },
   "source": [
    "## 1.3 Train test val split\n",
    "\n"
   ]
  },
  {
   "cell_type": "code",
   "execution_count": 38,
   "metadata": {
    "id": "g1BJmrWqwIAj"
   },
   "outputs": [],
   "source": [
    "X, y = createDataSet(df)\n",
    "X_train, X_test, y_train, y_test = train_test_split(X, y, test_size=.2)\n",
    "X_val, y_val = createDataSet(df_D)"
   ]
  },
  {
   "cell_type": "code",
   "execution_count": 8,
   "metadata": {
    "colab": {
     "base_uri": "https://localhost:8080/",
     "height": 740
    },
    "id": "SUE8aStNjJIa",
    "outputId": "41752a10-d5dc-4677-80c2-70baf13fcd63"
   },
   "outputs": [
    {
     "data": {
      "text/plain": [
       "\"\\nfig = plt.figure(figsize=(15, 10))\\nfor i in range(n_antibiotiques):\\n  plt.bar(y.columns[i], [np.count_nonzero(y.values[:,i])], color='blue', label='sensitive')\\n  plt.bar(y.columns[i], np.count_nonzero(y.values[:, i] == 0), color='red', label='resistant')\\n  plt.xticks(rotation='90')\\n  \\n\""
      ]
     },
     "execution_count": 8,
     "metadata": {},
     "output_type": "execute_result"
    }
   ],
   "source": [
    "\"\"\"\n",
    "fig = plt.figure(figsize=(15, 10))\n",
    "for i in range(n_antibiotiques):\n",
    "  plt.bar(y.columns[i], [np.count_nonzero(y.values[:,i])], color='blue', label='sensitive')\n",
    "  plt.bar(y.columns[i], np.count_nonzero(y.values[:, i] == 0), color='red', label='resistant')\n",
    "  plt.xticks(rotation='90')\n",
    "\"\"\""
   ]
  },
  {
   "cell_type": "markdown",
   "metadata": {
    "id": "QDj6yRxAp7y3"
   },
   "source": [
    "## 1.4 Utility functions"
   ]
  },
  {
   "cell_type": "markdown",
   "metadata": {
    "id": "NZL0wjUIq83i"
   },
   "source": [
    "### Evaluations"
   ]
  },
  {
   "cell_type": "code",
   "execution_count": null,
   "metadata": {
    "id": "asdJFFcbr3gO"
   },
   "outputs": [],
   "source": [
    "def single_input_evaluation(model, nb_iter=10):\n",
    "  sample = df.sample()\n",
    "  X_sample = sample[['Date', 'Espece', 'Direct', 'Culture', 'Prelevement', 'Service', 'BMR_ATCD']]\n",
    "  y_sample = sample[sample.columns[8:]]\n",
    "\n",
    "  print(X_sample)\n",
    "  \n",
    "  predicted = []\n",
    "  for _ in range(nb_iter):\n",
    "      predicted.append(model(X_sample.values))\n",
    "  \n",
    "  means = np.mean(predicted, axis=0)\n",
    "  ranges = np.std(predicted, axis=0)\n",
    "  \n",
    "  print('mean ranges : ', np.mean(ranges))\n",
    "  print('median ranges : ', np.median(ranges))\n",
    "  \n",
    "  print('precision recall f-score : ', precision_recall_fscore_support(y_sample, means.round(), average='weighted'))\n",
    "\n",
    "  correct_ranges = []\n",
    "  incorrect_ranges = []\n",
    "  for i in range(len(means[0])):\n",
    "    print('prediction mean : ', means[0][i], '=> ', means[0][i].round(), '\\t range : ', \n",
    "                                ranges[0][i],'\\t actual : ', y_sample.values[0][i],\n",
    "                                '\\t CORRECT ! ' if means[0][i].round() == y_sample.values[0][i] else '\\t INCORRECT !',\n",
    "                                '\\t', y_val.columns[i])\n",
    "    \n",
    "    if means[0][i].round() == y_sample.values[0][i]:\n",
    "      correct_ranges.append(ranges[0][i])\n",
    "    else:  \n",
    "      incorrect_ranges.append(ranges[0][i])\n",
    "  \n",
    "  print('\\n')\n",
    "  print('correct ranges mean : ', np.mean(correct_ranges))\n",
    "  print('incorrect ranges mean : ', np.mean(incorrect_ranges))\n",
    "\n",
    "  plt.boxplot(means[0])\n",
    "  plt.title('box plot of prediction means')\n",
    "\n",
    "  plt.show()\n",
    "\n",
    "  return means, ranges"
   ]
  },
  {
   "cell_type": "markdown",
   "metadata": {
    "id": "nkCJIxcurA87"
   },
   "source": [
    "### Others"
   ]
  },
  {
   "cell_type": "code",
   "execution_count": 10,
   "metadata": {
    "id": "-vla_wZuJW3Z"
   },
   "outputs": [],
   "source": [
    "def train_model(X_train, X_test, y_train, y_test, model, batch_size=32, epochs=200, es=True):\n",
    "  \n",
    "  device_name = tf.test.gpu_device_name()\n",
    "  if len(device_name) > 0:\n",
    "    print(\"Found GPU at: {}\".format(device_name))\n",
    "  else:\n",
    "    device_name = \"/device:CPU:0\"\n",
    "    print(\"No GPU, using {}.\".format(device_name))\n",
    "\n",
    "  with tf.device(device_name):\n",
    "    if es:\n",
    "      earlystopping = callbacks.EarlyStopping(monitor=\"val_AUC_PR\", \n",
    "                                          mode=\"min\", patience = 50,\n",
    "                                          min_delta=0.01, \n",
    "                                          verbose = 1, \n",
    "                                          restore_best_weights = True)\n",
    "    else:\n",
    "      earlystopping = None\n",
    "\n",
    "    model.fit(X_train, y_train, batch_size=batch_size,  verbose=1, epochs=epochs,\n",
    "                                validation_data=(X_test, y_test),\n",
    "                                callbacks=[earlystopping])\n",
    "\n",
    "  return model"
   ]
  },
  {
   "cell_type": "markdown",
   "metadata": {
    "id": "QKnZYLrPwcUT"
   },
   "source": [
    "# 2. Baseline Model\n",
    "\n",
    "Gobal Neural Network with missing values.\n",
    "\n",
    "> * 4 layer MLP \n",
    "> * 300 200 300 200\n",
    "> * leaky relu activation \n",
    "> * lr = 0.0014 \n",
    "> * batch size = 256 \n",
    "\n",
    "\n",
    "# Why the probability of a simple mlp does not give us the uncertainty ? \n",
    "\n",
    "in a clf problem the softmax/sigmoid output gives you a probability value for each class, but its not the same as uncertainty ! The softmax/sigmoid probability is the probability that an input us a given class relative to the other classes, hence it does not help to explain the model overall confidence. "
   ]
  },
  {
   "cell_type": "markdown",
   "metadata": {
    "id": "f7vdBJvPFIOV"
   },
   "source": [
    "# 3. First BNN attempt"
   ]
  },
  {
   "cell_type": "markdown",
   "metadata": {
    "id": "qRK4nJoZWv7I"
   },
   "source": [
    "[What Uncertainties Do We Need in Bayesian Deep\n",
    "Learning for Computer Vision?](https://arxiv.org/pdf/1703.04977.pdf)\n",
    "\n",
    "[bayesian nn classifier](https://github.com/kyle-dorman/bayesian-neural-network-blogpost)\n",
    "\n",
    "\n",
    "[Hands-on Bayesian Neural Networks - A Tutorial for Deep Learning Users](https://arxiv.org/pdf/2007.06823.pdf)\n",
    "\n",
    "[choosing \\sigma knowing the expected scale of the considered parameters](https://github.com/stan-dev/stan/wiki/Prior-Choice-Recommendations)\n",
    "\n",
    "[priors in Bayesian deep learning: a review](https://arxiv.org/pdf/2105.06868.pdf)\n",
    "\n",
    "[Radial and Directional Posteriors for Bayesian Neural Networks\n",
    "](https://arxiv.org/pdf/1902.02603.pdf)\n",
    "\n",
    "[Radial Bayesian Neural Networks: Beyond Discrete Support In\n",
    "Large-Scale Bayesian Deep Learning](https://arxiv.org/pdf/1907.00865.pdf)\n",
    "\n",
    "[Weight Uncertainty in Neural Networks](https://arxiv.org/pdf/1505.05424.pdf)"
   ]
  },
  {
   "cell_type": "markdown",
   "metadata": {
    "id": "tzqlLuJFw5BD"
   },
   "source": [
    "### Priors"
   ]
  },
  {
   "cell_type": "code",
   "execution_count": 20,
   "metadata": {
    "id": "v4HbgVALFc5V"
   },
   "outputs": [],
   "source": [
    "# @title Multivariate Gaussian Diag prior\n",
    "def gaussian_prior(kernel_size, bias_size, dtype=tf.float64): # p(w) ~ N(0, 1)\n",
    "    n = kernel_size + bias_size\n",
    "    alpha = 1\n",
    "    prior_model = keras.Sequential(\n",
    "        [\n",
    "            tfp.layers.DistributionLambda(\n",
    "                lambda t: tfp.distributions.MultivariateNormalDiag(\n",
    "                    loc=tf.zeros(n), scale_diag=tf.ones(n)*alpha\n",
    "                )\n",
    "            )\n",
    "        ]\n",
    "    )\n",
    "    return prior_model"
   ]
  },
  {
   "cell_type": "code",
   "execution_count": 10,
   "metadata": {
    "id": "F1tezSRtHpte"
   },
   "outputs": [],
   "source": [
    "def horseshoe_prior(kernel_size, bias_size, dtype=None):\n",
    "    n = kernel_size + bias_size\n",
    "    scale=1\n",
    "    prior_model = keras.Sequential(\n",
    "        [\n",
    "            tfp.layers.DistributionLambda(\n",
    "                lambda t: tfp.distributions.Horseshoe(scale=tf.ones(n))\n",
    "              )\n",
    "        ]\n",
    "    )\n",
    "    return prior_model"
   ]
  },
  {
   "cell_type": "code",
   "execution_count": 33,
   "metadata": {
    "id": "FvBjrLYvJxCO"
   },
   "outputs": [],
   "source": [
    "def laplace_prior(kernel_size, bias_size, dtype=None):\n",
    "    n = kernel_size + bias_size\n",
    "    prior_model = keras.Sequential(\n",
    "        [\n",
    "            tfp.layers.DistributionLambda(\n",
    "                lambda t: tfp.distributions.Laplace(loc=tf.zeros(n), scale=tf.ones(n))\n",
    "                )\n",
    "        ]\n",
    "    )\n",
    "    return prior_model"
   ]
  },
  {
   "cell_type": "code",
   "execution_count": 12,
   "metadata": {
    "id": "fYhO78uVM7uc"
   },
   "outputs": [],
   "source": [
    "def radial_prior(kernel_size, bias_size, dtype=None):\n",
    "    n = kernel_size + bias_size\n",
    "    scale=1\n",
    "    prior_model = keras.Sequential(\n",
    "        [\n",
    "            tfp.layers.DistributionLambda(\n",
    "                lambda t: Radial()\n",
    "            )\n",
    "        ]\n",
    "    )\n",
    "    return prior_model"
   ]
  },
  {
   "cell_type": "markdown",
   "metadata": {
    "id": "0VUEjOsBIr4F"
   },
   "source": [
    "### Posteriors"
   ]
  },
  {
   "cell_type": "code",
   "execution_count": 21,
   "metadata": {
    "id": "UBhFi5JQGW1W"
   },
   "outputs": [],
   "source": [
    "# MultivariateNormalTriL : multivariate normal dist on R^k \n",
    "# to approximate posterior q_phi(w) ~ p(w | D) \n",
    "# variational posterior weight distribution \n",
    "def gaussian_posterior(kernel_size, bias_size, dtype=tf.float64): \n",
    "    n = kernel_size + bias_size\n",
    "    posterior_model = keras.Sequential(\n",
    "        [\n",
    "            tfp.layers.VariableLayer(\n",
    "                tfp.layers.MultivariateNormalTriL.params_size(n), dtype=dtype\n",
    "            ),\n",
    "            tfp.layers.MultivariateNormalTriL(n),\n",
    "        ]\n",
    "    )\n",
    "    return posterior_model"
   ]
  },
  {
   "cell_type": "code",
   "execution_count": 81,
   "metadata": {},
   "outputs": [],
   "source": [
    "def normal_posterior(kernel_size, bias_size, dtype=None): \n",
    "    n = kernel_size + bias_size\n",
    "    posterior_model = keras.Sequential(\n",
    "        [\n",
    "            tfp.layers.VariableLayer(\n",
    "                tfp.layers.IndependentNormal.params_size(n), dtype=dtype\n",
    "            ),\n",
    "            tfp.layers.IndependentNormal(n),\n",
    "        ]\n",
    "    )\n",
    "    return posterior_model"
   ]
  },
  {
   "cell_type": "markdown",
   "metadata": {
    "id": "s7URyErD1D2Q"
   },
   "source": [
    "## Radial distribution"
   ]
  },
  {
   "cell_type": "markdown",
   "metadata": {
    "id": "TBcT7P9BxlQ6"
   },
   "source": [
    "* random direction : $\\epsilon_{\\text{MFVI}} \\sim \\mathcal{N}(0, I)$\n",
    "* distance : r $\\sim \\mathcal{N}(0, I)$\n",
    "* normalize each variational sample independently : direction = $ \\frac{\\epsilon_{\\text{MFVI}}}{\\|  \\epsilon_{\\text{MFVI}}\\|}$ (i.e Uniform)\n",
    "\n",
    "return $\\epsilon$-radial = direction * distance\n",
    "\n",
    "from https://github.com/SebFar/radial_bnn\n",
    "\n",
    "\n"
   ]
  },
  {
   "cell_type": "code",
   "execution_count": 27,
   "metadata": {
    "colab": {
     "base_uri": "https://localhost:8080/"
    },
    "id": "f1ubQkTB42m2",
    "outputId": "8d2f272d-6d81-4ae5-93f4-975d22923ff2"
   },
   "outputs": [
    {
     "data": {
      "text/plain": [
       "<tf.Tensor: shape=(3,), dtype=float32, numpy=array([0.64270085, 0.0301734 , 0.40459388], dtype=float32)>"
      ]
     },
     "execution_count": 27,
     "metadata": {},
     "output_type": "execute_result"
    }
   ],
   "source": [
    "class Radial(tfd.distribution.AutoCompositeTensorDistribution):\n",
    "  def __init__(self, loc=0.0, scale=1.0, validate_args=False, allow_nan_stats=False, name='Radial'):\n",
    "    parameters = dict(locals())\n",
    "\n",
    "    super(Radial, self).__init__(dtype=tf.float32,\n",
    "                                 reparameterization_type=tfd.FULLY_REPARAMETERIZED,\n",
    "                                 validate_args=validate_args,\n",
    "                                 allow_nan_stats=allow_nan_stats, \n",
    "                                 parameters=parameters,\n",
    "                                 name=name)\n",
    "    self.loc = loc \n",
    "    self.scale = scale \n",
    "    self._parameters = parameters\n",
    "    self.r = tfd.Normal(loc=loc, scale=scale)\n",
    "    self.dir = tfd.Normal(loc=loc, scale=scale)\n",
    "  \n",
    "  def _sample_n(self, n=1, seed=None):\n",
    "    dir = self.dir.sample(n, seed)\n",
    "    r = self.r.sample(n, seed)\n",
    "\n",
    "    return r * dir /tf.norm(dir)\n",
    "\n",
    "  def _log_prob(self, value):\n",
    "    log_r = self.r.log_prob(value)\n",
    "    log_dir = self.dir.log_prob(value)\n",
    "    u_log_dir = log_dir / tf.norm(log_dir) # log of a norm == norm of log ? \n",
    "    return log_r + u_log_dir\n",
    "\n",
    "  def _parameter_properties(self, num_classes=None):\n",
    "    return []\n",
    "\n",
    "radial = Radial()\n",
    "radial.sample(3)\n"
   ]
  },
  {
   "cell_type": "code",
   "execution_count": 28,
   "metadata": {
    "id": "VvhCfQVZkVM-"
   },
   "outputs": [],
   "source": [
    "def radial_posterior(kernel_size, bias_size, dtype=None): \n",
    "    n = kernel_size + bias_size\n",
    "    posterior_model = keras.Sequential(\n",
    "        [\n",
    "            tfp.layers.VariableLayer(\n",
    "              shape=(n, 2) # 2 for loc and scale (aka mu & sigma)\n",
    "            ),\n",
    "            tfp.layers.DistributionLambda(\n",
    "                lambda t : Radial(loc=t[..., 0], scale=t[..., 1])\n",
    "            )\n",
    "        ]\n",
    "    )\n",
    "    \n",
    "    return posterior_model"
   ]
  },
  {
   "cell_type": "code",
   "execution_count": 113,
   "metadata": {},
   "outputs": [
    {
     "ename": "TypeError",
     "evalue": "list indices must be integers or slices, not tuple",
     "output_type": "error",
     "traceback": [
      "\u001b[1;31m---------------------------------------------------------------------------\u001b[0m",
      "\u001b[1;31mTypeError\u001b[0m                                 Traceback (most recent call last)",
      "\u001b[1;32mC:\\Users\\YASSER~1.BAA\\AppData\\Local\\Temp/ipykernel_11728/4286117216.py\u001b[0m in \u001b[0;36m<module>\u001b[1;34m\u001b[0m\n\u001b[0;32m      4\u001b[0m \u001b[1;33m\u001b[0m\u001b[0m\n\u001b[0;32m      5\u001b[0m \u001b[1;33m\u001b[0m\u001b[0m\n\u001b[1;32m----> 6\u001b[1;33m \u001b[0mprint\u001b[0m\u001b[1;33m(\u001b[0m\u001b[0mt\u001b[0m\u001b[1;33m[\u001b[0m\u001b[1;33m...\u001b[0m\u001b[1;33m,\u001b[0m\u001b[1;36m2\u001b[0m\u001b[1;33m:\u001b[0m\u001b[1;33m]\u001b[0m\u001b[1;33m)\u001b[0m\u001b[1;33m\u001b[0m\u001b[1;33m\u001b[0m\u001b[0m\n\u001b[0m",
      "\u001b[1;31mTypeError\u001b[0m: list indices must be integers or slices, not tuple"
     ]
    }
   ],
   "source": [
    "t=[[1,2,3],\n",
    "   [1,2,3],\n",
    "   [1,2,3]]\n",
    "\n",
    "\n",
    "print(t[..., 2:])"
   ]
  },
  {
   "cell_type": "code",
   "execution_count": 11,
   "metadata": {},
   "outputs": [],
   "source": [
    "# Prior is not trainable\n",
    "def prior(kernel_size, bias_size, dtype = None):\n",
    "    n = kernel_size + bias_size # num of params\n",
    "    return Sequential([\n",
    "       tfp.layers.DistributionLambda(\n",
    "           lambda t: tfd.Laplace(loc = tf.zeros(n), scale= 2 * tf.ones(n))\n",
    "       )                     \n",
    "  ])\n",
    "\n",
    "def posterior(kernel_size, bias_size, dtype=None):\n",
    "    n = kernel_size + bias_size\n",
    "    return tf.keras.Sequential([\n",
    "      tfp.layers.VariableLayer(2 * n, dtype=dtype),\n",
    "      tfp.layers.DistributionLambda(lambda t: tfd.Independent(\n",
    "          tfd.Normal(loc=t[..., :n],\n",
    "                     scale= 1e-5 + 0.003 * tf.nn.softplus(t[..., n:])),\n",
    "          reinterpreted_batch_ndims=1)),\n",
    "    ])"
   ]
  },
  {
   "cell_type": "markdown",
   "metadata": {
    "id": "hMdeelO1LE2Y"
   },
   "source": [
    "### Base bnn"
   ]
  },
  {
   "cell_type": "code",
   "execution_count": 12,
   "metadata": {
    "id": "--mLG1wBbx1H"
   },
   "outputs": [],
   "source": [
    "def create_bnn_model(units=100, activation='relu', lr=0.005, \n",
    "                     prior=prior,  posterior=posterior): \n",
    "\n",
    "  # input layer \n",
    "  inputs = keras.Input(shape=(X_train.shape[1],))\n",
    "\n",
    "  # hidden layers\n",
    "  x = tfp.layers.DenseVariational(units=20, \n",
    "                                  make_prior_fn=prior,\n",
    "                                  make_posterior_fn=posterior,\n",
    "                                  kl_weight = 1 / X_train.shape[0],\n",
    "                                  activation=activation)(inputs)\n",
    "  \n",
    "  x = tfp.layers.DenseVariational(units=20, \n",
    "                                  make_prior_fn=prior,\n",
    "                                  make_posterior_fn=posterior,\n",
    "                                  kl_weight = 1 / X_train.shape[0],\n",
    "                                  activation=activation)(x)\n",
    "  \n",
    "  \n",
    "  outputs = Dense(units=n_antibiotiques,\n",
    "                  activation='sigmoid')(x)\n",
    "  \n",
    "  \"\"\"\n",
    "  outputs = tfp.layers.DenseVariational(units=n_antibiotiques, \n",
    "                                  make_prior_fn=prior,\n",
    "                                  make_posterior_fn=posterior,\n",
    "                                  kl_weight = 1 / X_train.shape[0],\n",
    "                                  activation='sigmoid')(x)\n",
    "  \"\"\"\n",
    "  \n",
    "  # model compile\n",
    "  model = keras.Model(inputs=inputs, outputs=outputs, name='base_BNN')\n",
    "\n",
    "  opt = keras.optimizers.Adam(learning_rate=lr)\n",
    "\n",
    "  model.compile(loss=tf.keras.losses.BinaryCrossentropy(), \n",
    "                optimizer=opt, metrics=['Precision',\n",
    "                                        'Recall',\n",
    "                                        AUC(name='AUC_PR', curve='PR', multi_label=True),\n",
    "                                        AUC(name='AUC_ROC', curve='ROC', multi_label=True),\n",
    "                                        ])\n",
    "  model.summary()\n",
    "\n",
    "  return model"
   ]
  },
  {
   "cell_type": "markdown",
   "metadata": {},
   "source": [
    "[Exploring the Limits of Epistemic Uncertainty\n",
    "Quantification in Low-Shot Settings](https://openreview.net/pdf?id=9HNQYYFfROB)\n",
    "\n",
    "[Calibration: the Achilles heel of predictive analytics](https://bmcmedicine.biomedcentral.com/articles/10.1186/s12916-019-1466-7)"
   ]
  },
  {
   "cell_type": "code",
   "execution_count": 13,
   "metadata": {
    "colab": {
     "base_uri": "https://localhost:8080/"
    },
    "id": "KHrif1uDei3F",
    "outputId": "354b3117-db69-4bf8-f960-a9fb900e1637"
   },
   "outputs": [
    {
     "name": "stdout",
     "output_type": "stream",
     "text": [
      "Model: \"base_BNN\"\n",
      "_________________________________________________________________\n",
      " Layer (type)                Output Shape              Param #   \n",
      "=================================================================\n",
      " input_1 (InputLayer)        [(None, 7)]               0         \n",
      "                                                                 \n",
      " dense_variational (DenseVar  (None, 20)               320       \n",
      " iational)                                                       \n",
      "                                                                 \n",
      " dense_variational_1 (DenseV  (None, 20)               840       \n",
      " ariational)                                                     \n",
      "                                                                 \n",
      " dense (Dense)               (None, 47)                987       \n",
      "                                                                 \n",
      "=================================================================\n",
      "Total params: 2,147\n",
      "Trainable params: 2,147\n",
      "Non-trainable params: 0\n",
      "_________________________________________________________________\n",
      "No GPU, using /device:CPU:0.\n",
      "Epoch 1/40\n",
      "2639/2639 [==============================] - 6s 2ms/step - loss: 7.5577 - precision: 0.8400 - recall: 0.9426 - AUC_PR: 0.8249 - AUC_ROC: 0.7391 - val_loss: 5.7413 - val_precision: 0.8478 - val_recall: 0.9472 - val_AUC_PR: 0.8497 - val_AUC_ROC: 0.7787\n",
      "Epoch 2/40\n",
      "2639/2639 [==============================] - 4s 1ms/step - loss: 4.8814 - precision: 0.8518 - recall: 0.9444 - AUC_PR: 0.8491 - AUC_ROC: 0.7743 - val_loss: 4.1535 - val_precision: 0.8505 - val_recall: 0.9472 - val_AUC_PR: 0.8550 - val_AUC_ROC: 0.7822\n",
      "Epoch 3/40\n",
      "2639/2639 [==============================] - 4s 1ms/step - loss: 3.5784 - precision: 0.8529 - recall: 0.9450 - AUC_PR: 0.8528 - AUC_ROC: 0.7780 - val_loss: 3.0737 - val_precision: 0.8520 - val_recall: 0.9404 - val_AUC_PR: 0.8483 - val_AUC_ROC: 0.7757\n",
      "Epoch 4/40\n",
      "2639/2639 [==============================] - 4s 1ms/step - loss: 2.6357 - precision: 0.8525 - recall: 0.9459 - AUC_PR: 0.8526 - AUC_ROC: 0.7776 - val_loss: 2.2527 - val_precision: 0.8454 - val_recall: 0.9526 - val_AUC_PR: 0.8542 - val_AUC_ROC: 0.7818\n",
      "Epoch 5/40\n",
      "2639/2639 [==============================] - 4s 1ms/step - loss: 1.9161 - precision: 0.8514 - recall: 0.9459 - AUC_PR: 0.8514 - AUC_ROC: 0.7735 - val_loss: 1.6074 - val_precision: 0.8423 - val_recall: 0.9570 - val_AUC_PR: 0.8526 - val_AUC_ROC: 0.7793\n",
      "Epoch 6/40\n",
      "2639/2639 [==============================] - 4s 1ms/step - loss: 1.3470 - precision: 0.8512 - recall: 0.9459 - AUC_PR: 0.8499 - AUC_ROC: 0.7723 - val_loss: 1.1053 - val_precision: 0.8503 - val_recall: 0.9415 - val_AUC_PR: 0.8495 - val_AUC_ROC: 0.7724\n",
      "Epoch 7/40\n",
      "2639/2639 [==============================] - 4s 2ms/step - loss: 0.8773 - precision: 0.8507 - recall: 0.9457 - AUC_PR: 0.8493 - AUC_ROC: 0.7697 - val_loss: 0.6757 - val_precision: 0.8482 - val_recall: 0.9456 - val_AUC_PR: 0.8504 - val_AUC_ROC: 0.7743\n",
      "Epoch 8/40\n",
      "2639/2639 [==============================] - 4s 1ms/step - loss: 0.4796 - precision: 0.8506 - recall: 0.9457 - AUC_PR: 0.8476 - AUC_ROC: 0.7651 - val_loss: 0.3033 - val_precision: 0.8494 - val_recall: 0.9463 - val_AUC_PR: 0.8490 - val_AUC_ROC: 0.7703\n",
      "Epoch 9/40\n",
      "2639/2639 [==============================] - 4s 1ms/step - loss: 0.1382 - precision: 0.8501 - recall: 0.9454 - AUC_PR: 0.8471 - AUC_ROC: 0.7647 - val_loss: -0.0137 - val_precision: 0.8506 - val_recall: 0.9434 - val_AUC_PR: 0.8470 - val_AUC_ROC: 0.7647\n",
      "Epoch 10/40\n",
      "2639/2639 [==============================] - 4s 1ms/step - loss: -0.1619 - precision: 0.8502 - recall: 0.9456 - AUC_PR: 0.8456 - AUC_ROC: 0.7612 - val_loss: -0.2967 - val_precision: 0.8439 - val_recall: 0.9528 - val_AUC_PR: 0.8460 - val_AUC_ROC: 0.7660\n",
      "Epoch 11/40\n",
      "2639/2639 [==============================] - 4s 2ms/step - loss: -0.4298 - precision: 0.8494 - recall: 0.9452 - AUC_PR: 0.8445 - AUC_ROC: 0.7596 - val_loss: -0.5520 - val_precision: 0.8450 - val_recall: 0.9490 - val_AUC_PR: 0.8437 - val_AUC_ROC: 0.7636\n",
      "Epoch 12/40\n",
      "2639/2639 [==============================] - 4s 1ms/step - loss: -0.6705 - precision: 0.8490 - recall: 0.9455 - AUC_PR: 0.8432 - AUC_ROC: 0.7566 - val_loss: -0.7774 - val_precision: 0.8514 - val_recall: 0.9397 - val_AUC_PR: 0.8437 - val_AUC_ROC: 0.7606\n",
      "Epoch 13/40\n",
      "2639/2639 [==============================] - 4s 1ms/step - loss: -0.8901 - precision: 0.8482 - recall: 0.9453 - AUC_PR: 0.8421 - AUC_ROC: 0.7548 - val_loss: -0.9891 - val_precision: 0.8533 - val_recall: 0.9328 - val_AUC_PR: 0.8421 - val_AUC_ROC: 0.7584\n",
      "Epoch 14/40\n",
      "2639/2639 [==============================] - 4s 2ms/step - loss: -1.0885 - precision: 0.8480 - recall: 0.9454 - AUC_PR: 0.8414 - AUC_ROC: 0.7529 - val_loss: -1.1845 - val_precision: 0.8474 - val_recall: 0.9466 - val_AUC_PR: 0.8425 - val_AUC_ROC: 0.7587\n",
      "Epoch 15/40\n",
      "2639/2639 [==============================] - 4s 2ms/step - loss: -1.2725 - precision: 0.8477 - recall: 0.9450 - AUC_PR: 0.8399 - AUC_ROC: 0.7507 - val_loss: -1.3563 - val_precision: 0.8475 - val_recall: 0.9385 - val_AUC_PR: 0.8425 - val_AUC_ROC: 0.7544\n",
      "Epoch 16/40\n",
      "2639/2639 [==============================] - 4s 1ms/step - loss: -1.4473 - precision: 0.8471 - recall: 0.9452 - AUC_PR: 0.8390 - AUC_ROC: 0.7480 - val_loss: -1.5238 - val_precision: 0.8463 - val_recall: 0.9439 - val_AUC_PR: 0.8423 - val_AUC_ROC: 0.7555\n",
      "Epoch 17/40\n",
      "2639/2639 [==============================] - 4s 1ms/step - loss: -1.6031 - precision: 0.8470 - recall: 0.9450 - AUC_PR: 0.8388 - AUC_ROC: 0.7479 - val_loss: -1.6805 - val_precision: 0.8466 - val_recall: 0.9418 - val_AUC_PR: 0.8393 - val_AUC_ROC: 0.7490\n",
      "Epoch 18/40\n",
      "2639/2639 [==============================] - 4s 1ms/step - loss: -1.7532 - precision: 0.8457 - recall: 0.9455 - AUC_PR: 0.8364 - AUC_ROC: 0.7444 - val_loss: -1.8253 - val_precision: 0.8429 - val_recall: 0.9511 - val_AUC_PR: 0.8382 - val_AUC_ROC: 0.7496\n",
      "Epoch 19/40\n",
      "2639/2639 [==============================] - 4s 1ms/step - loss: -1.8919 - precision: 0.8456 - recall: 0.9451 - AUC_PR: 0.8363 - AUC_ROC: 0.7438 - val_loss: -1.9560 - val_precision: 0.8472 - val_recall: 0.9404 - val_AUC_PR: 0.8382 - val_AUC_ROC: 0.7457\n",
      "Epoch 20/40\n",
      "2639/2639 [==============================] - 4s 2ms/step - loss: -2.0266 - precision: 0.8456 - recall: 0.9452 - AUC_PR: 0.8362 - AUC_ROC: 0.7433 - val_loss: -2.0762 - val_precision: 0.8440 - val_recall: 0.9454 - val_AUC_PR: 0.8373 - val_AUC_ROC: 0.7439\n",
      "Epoch 21/40\n",
      "2639/2639 [==============================] - 4s 2ms/step - loss: -2.1490 - precision: 0.8449 - recall: 0.9451 - AUC_PR: 0.8346 - AUC_ROC: 0.7411 - val_loss: -2.2040 - val_precision: 0.8429 - val_recall: 0.9450 - val_AUC_PR: 0.8309 - val_AUC_ROC: 0.7351\n",
      "Epoch 22/40\n",
      "2639/2639 [==============================] - 4s 1ms/step - loss: -2.2650 - precision: 0.8438 - recall: 0.9457 - AUC_PR: 0.8326 - AUC_ROC: 0.7360 - val_loss: -2.3154 - val_precision: 0.8435 - val_recall: 0.9421 - val_AUC_PR: 0.8271 - val_AUC_ROC: 0.7366\n",
      "Epoch 23/40\n",
      "2639/2639 [==============================] - 4s 2ms/step - loss: -2.3781 - precision: 0.8438 - recall: 0.9456 - AUC_PR: 0.8334 - AUC_ROC: 0.7369 - val_loss: -2.4321 - val_precision: 0.8423 - val_recall: 0.9442 - val_AUC_PR: 0.8342 - val_AUC_ROC: 0.7406\n",
      "Epoch 24/40\n",
      "2639/2639 [==============================] - 4s 2ms/step - loss: -2.4865 - precision: 0.8436 - recall: 0.9463 - AUC_PR: 0.8334 - AUC_ROC: 0.7364 - val_loss: -2.5399 - val_precision: 0.8423 - val_recall: 0.9439 - val_AUC_PR: 0.8373 - val_AUC_ROC: 0.7414\n",
      "Epoch 25/40\n",
      "2639/2639 [==============================] - 4s 2ms/step - loss: -2.5881 - precision: 0.8428 - recall: 0.9467 - AUC_PR: 0.8327 - AUC_ROC: 0.7343 - val_loss: -2.6389 - val_precision: 0.8509 - val_recall: 0.9315 - val_AUC_PR: 0.8352 - val_AUC_ROC: 0.7401\n",
      "Epoch 26/40\n",
      "2639/2639 [==============================] - 4s 2ms/step - loss: -2.6862 - precision: 0.8426 - recall: 0.9464 - AUC_PR: 0.8312 - AUC_ROC: 0.7325 - val_loss: -2.7322 - val_precision: 0.8401 - val_recall: 0.9473 - val_AUC_PR: 0.8329 - val_AUC_ROC: 0.7332\n",
      "Epoch 27/40\n",
      "2639/2639 [==============================] - 4s 2ms/step - loss: -2.7783 - precision: 0.8425 - recall: 0.9466 - AUC_PR: 0.8306 - AUC_ROC: 0.7298 - val_loss: -2.8268 - val_precision: 0.8337 - val_recall: 0.9596 - val_AUC_PR: 0.8328 - val_AUC_ROC: 0.7372\n"
     ]
    },
    {
     "name": "stdout",
     "output_type": "stream",
     "text": [
      "Epoch 28/40\n",
      "2639/2639 [==============================] - 4s 2ms/step - loss: -2.8699 - precision: 0.8422 - recall: 0.9468 - AUC_PR: 0.8300 - AUC_ROC: 0.7289 - val_loss: -2.9025 - val_precision: 0.8293 - val_recall: 0.9615 - val_AUC_PR: 0.8289 - val_AUC_ROC: 0.7251\n",
      "Epoch 29/40\n",
      "2639/2639 [==============================] - 4s 1ms/step - loss: -2.9583 - precision: 0.8415 - recall: 0.9472 - AUC_PR: 0.8287 - AUC_ROC: 0.7265 - val_loss: -2.9945 - val_precision: 0.8374 - val_recall: 0.9505 - val_AUC_PR: 0.8296 - val_AUC_ROC: 0.7327\n",
      "Epoch 30/40\n",
      "2639/2639 [==============================] - 4s 2ms/step - loss: -3.0373 - precision: 0.8424 - recall: 0.9458 - AUC_PR: 0.8289 - AUC_ROC: 0.7256 - val_loss: -3.0770 - val_precision: 0.8345 - val_recall: 0.9555 - val_AUC_PR: 0.8317 - val_AUC_ROC: 0.7340\n",
      "Epoch 31/40\n",
      "2639/2639 [==============================] - 4s 2ms/step - loss: -3.1187 - precision: 0.8417 - recall: 0.9466 - AUC_PR: 0.8284 - AUC_ROC: 0.7268 - val_loss: -3.1564 - val_precision: 0.8425 - val_recall: 0.9442 - val_AUC_PR: 0.8302 - val_AUC_ROC: 0.7297\n",
      "Epoch 32/40\n",
      "2639/2639 [==============================] - 4s 2ms/step - loss: -3.1950 - precision: 0.8417 - recall: 0.9458 - AUC_PR: 0.8268 - AUC_ROC: 0.7233 - val_loss: -3.2282 - val_precision: 0.8495 - val_recall: 0.9308 - val_AUC_PR: 0.8299 - val_AUC_ROC: 0.7352\n",
      "Epoch 33/40\n",
      "2639/2639 [==============================] - 4s 2ms/step - loss: -3.2682 - precision: 0.8416 - recall: 0.9455 - AUC_PR: 0.8259 - AUC_ROC: 0.7218 - val_loss: -3.3028 - val_precision: 0.8473 - val_recall: 0.9333 - val_AUC_PR: 0.8302 - val_AUC_ROC: 0.7271\n",
      "Epoch 34/40\n",
      "2639/2639 [==============================] - 4s 2ms/step - loss: -3.3401 - precision: 0.8408 - recall: 0.9454 - AUC_PR: 0.8247 - AUC_ROC: 0.7200 - val_loss: -3.3802 - val_precision: 0.8447 - val_recall: 0.9364 - val_AUC_PR: 0.8295 - val_AUC_ROC: 0.7296\n",
      "Epoch 35/40\n",
      "2639/2639 [==============================] - 4s 2ms/step - loss: -3.4156 - precision: 0.8413 - recall: 0.9452 - AUC_PR: 0.8251 - AUC_ROC: 0.7220 - val_loss: -3.4370 - val_precision: 0.8321 - val_recall: 0.9518 - val_AUC_PR: 0.8235 - val_AUC_ROC: 0.7199\n",
      "Epoch 36/40\n",
      "2639/2639 [==============================] - 4s 2ms/step - loss: -3.4818 - precision: 0.8405 - recall: 0.9459 - AUC_PR: 0.8247 - AUC_ROC: 0.7198 - val_loss: -3.5170 - val_precision: 0.8397 - val_recall: 0.9480 - val_AUC_PR: 0.8312 - val_AUC_ROC: 0.7315\n",
      "Epoch 37/40\n",
      "2639/2639 [==============================] - 4s 2ms/step - loss: -3.5467 - precision: 0.8411 - recall: 0.9453 - AUC_PR: 0.8250 - AUC_ROC: 0.7214 - val_loss: -3.5797 - val_precision: 0.8384 - val_recall: 0.9458 - val_AUC_PR: 0.8274 - val_AUC_ROC: 0.7306\n",
      "Epoch 38/40\n",
      "2639/2639 [==============================] - 4s 1ms/step - loss: -3.6108 - precision: 0.8410 - recall: 0.9444 - AUC_PR: 0.8225 - AUC_ROC: 0.7167 - val_loss: -3.6319 - val_precision: 0.8407 - val_recall: 0.9440 - val_AUC_PR: 0.8200 - val_AUC_ROC: 0.7139\n",
      "Epoch 39/40\n",
      "2639/2639 [==============================] - 4s 2ms/step - loss: -3.6724 - precision: 0.8411 - recall: 0.9441 - AUC_PR: 0.8216 - AUC_ROC: 0.7175 - val_loss: -3.7026 - val_precision: 0.8390 - val_recall: 0.9491 - val_AUC_PR: 0.8211 - val_AUC_ROC: 0.7130\n",
      "Epoch 40/40\n",
      "2639/2639 [==============================] - 4s 1ms/step - loss: -3.7333 - precision: 0.8412 - recall: 0.9444 - AUC_PR: 0.8226 - AUC_ROC: 0.7171 - val_loss: -3.7600 - val_precision: 0.8403 - val_recall: 0.9447 - val_AUC_PR: 0.8247 - val_AUC_ROC: 0.7261\n"
     ]
    }
   ],
   "source": [
    "base_bnn = create_bnn_model()\n",
    "base_bnn = train_model(X_train, X_test, y_train, y_test, base_bnn, epochs=40, es=True)"
   ]
  },
  {
   "cell_type": "code",
   "execution_count": 14,
   "metadata": {},
   "outputs": [],
   "source": [
    "def epistemic_eval(model, dataframe=df_D, iter=10):\n",
    "  results = pd.DataFrame(index=['precision', 'recall', 'AUC_PR', 'AUC_ROC', 'std'], \n",
    "                         columns=['Stade 1','Stade 2', 'Stade 3', 'Stade 4', 'Mean'])\n",
    "  \n",
    "  for stade in range(1,5):\n",
    "    X_val, y_val = getXY(dataframe, stade)\n",
    "    \n",
    "    predictions = np.empty((iter, y_val.shape[0], y_val.shape[1]))\n",
    "    \n",
    "    for i in range(iter):\n",
    "      predictions[i] = model(X_val.to_numpy())\n",
    "\n",
    "    predictions_means = np.mean(predictions, axis=0)\n",
    "\n",
    "    \n",
    "    ranges = np.std(predictions, axis=0)\n",
    "    means_ranges = np.mean(ranges, axis=0)\n",
    "\n",
    "    auc_pr = tf.keras.metrics.AUC(curve='PR', multi_label=True)\n",
    "    auc_pr.update_state(y_val.values, predictions_means) \n",
    "\n",
    "    auc_roc = tf.keras.metrics.AUC(curve='ROC', multi_label=True)\n",
    "    auc_roc.update_state(y_val.values, predictions_means) \n",
    "\n",
    "    precision, recall, _ , _ = precision_recall_fscore_support(y_val, predictions_means.round(), average='weighted')\n",
    "\n",
    "    results['Stade '+str(stade)].loc['precision'] = precision\n",
    "    results['Stade '+str(stade)].loc['recall'] = recall\n",
    "    results['Stade '+str(stade)].loc['AUC_ROC'] = auc_roc.result().numpy()\n",
    "    results['Stade '+str(stade)].loc['AUC_PR'] = auc_pr.result().numpy()\n",
    "    results['Stade '+str(stade)].loc['std'] = means_ranges.mean()\n",
    "  \n",
    "  results['Mean'] = results.mean(axis=1)\n",
    "\n",
    "  return results"
   ]
  },
  {
   "cell_type": "markdown",
   "metadata": {
    "id": "LuXWnnsmSSjv"
   },
   "source": [
    "## Evaluation of baseline bnn\n"
   ]
  },
  {
   "cell_type": "code",
   "execution_count": 112,
   "metadata": {
    "colab": {
     "base_uri": "https://localhost:8080/"
    },
    "id": "WuqbE901dW03",
    "outputId": "26b5da24-7cd1-4624-f561-3d5eedb48d49"
   },
   "outputs": [
    {
     "data": {
      "text/html": [
       "<div>\n",
       "<style scoped>\n",
       "    .dataframe tbody tr th:only-of-type {\n",
       "        vertical-align: middle;\n",
       "    }\n",
       "\n",
       "    .dataframe tbody tr th {\n",
       "        vertical-align: top;\n",
       "    }\n",
       "\n",
       "    .dataframe thead th {\n",
       "        text-align: right;\n",
       "    }\n",
       "</style>\n",
       "<table border=\"1\" class=\"dataframe\">\n",
       "  <thead>\n",
       "    <tr style=\"text-align: right;\">\n",
       "      <th></th>\n",
       "      <th>Stade 1</th>\n",
       "      <th>Stade 2</th>\n",
       "      <th>Stade 3</th>\n",
       "      <th>Stade 4</th>\n",
       "      <th>Mean</th>\n",
       "    </tr>\n",
       "  </thead>\n",
       "  <tbody>\n",
       "    <tr>\n",
       "      <th>precision</th>\n",
       "      <td>0.768507</td>\n",
       "      <td>0.819609</td>\n",
       "      <td>0.862205</td>\n",
       "      <td>0.853733</td>\n",
       "      <td>0.826013</td>\n",
       "    </tr>\n",
       "    <tr>\n",
       "      <th>recall</th>\n",
       "      <td>0.945642</td>\n",
       "      <td>0.955646</td>\n",
       "      <td>0.971087</td>\n",
       "      <td>0.973794</td>\n",
       "      <td>0.961542</td>\n",
       "    </tr>\n",
       "    <tr>\n",
       "      <th>AUC_PR</th>\n",
       "      <td>0.711987</td>\n",
       "      <td>0.827532</td>\n",
       "      <td>0.896362</td>\n",
       "      <td>0.884797</td>\n",
       "      <td>0.830170</td>\n",
       "    </tr>\n",
       "    <tr>\n",
       "      <th>AUC_ROC</th>\n",
       "      <td>0.599903</td>\n",
       "      <td>0.741348</td>\n",
       "      <td>0.827866</td>\n",
       "      <td>0.794134</td>\n",
       "      <td>0.740813</td>\n",
       "    </tr>\n",
       "    <tr>\n",
       "      <th>std</th>\n",
       "      <td>0.015703</td>\n",
       "      <td>0.055221</td>\n",
       "      <td>0.044</td>\n",
       "      <td>0.055952</td>\n",
       "      <td>0.042719</td>\n",
       "    </tr>\n",
       "  </tbody>\n",
       "</table>\n",
       "</div>"
      ],
      "text/plain": [
       "            Stade 1   Stade 2   Stade 3   Stade 4      Mean\n",
       "precision  0.768507  0.819609  0.862205  0.853733  0.826013\n",
       "recall     0.945642  0.955646  0.971087  0.973794  0.961542\n",
       "AUC_PR     0.711987  0.827532  0.896362  0.884797  0.830170\n",
       "AUC_ROC    0.599903  0.741348  0.827866  0.794134  0.740813\n",
       "std        0.015703  0.055221     0.044  0.055952  0.042719"
      ]
     },
     "execution_count": 112,
     "metadata": {},
     "output_type": "execute_result"
    }
   ],
   "source": [
    "results = epistemic_eval(base_bnn)\n",
    "results.head()"
   ]
  },
  {
   "cell_type": "code",
   "execution_count": 15,
   "metadata": {},
   "outputs": [
    {
     "name": "stdout",
     "output_type": "stream",
     "text": [
      "WARNING:tensorflow:5 out of the last 5 calls to <function pfor.<locals>.f at 0x000001FE110A0280> triggered tf.function retracing. Tracing is expensive and the excessive number of tracings could be due to (1) creating @tf.function repeatedly in a loop, (2) passing tensors with different shapes, (3) passing Python objects instead of tensors. For (1), please define your @tf.function outside of the loop. For (2), @tf.function has reduce_retracing=True option that can avoid unnecessary retracing. For (3), please refer to https://www.tensorflow.org/guide/function#controlling_retracing and https://www.tensorflow.org/api_docs/python/tf/function for  more details.\n",
      "WARNING:tensorflow:6 out of the last 6 calls to <function pfor.<locals>.f at 0x000001FE110A04C0> triggered tf.function retracing. Tracing is expensive and the excessive number of tracings could be due to (1) creating @tf.function repeatedly in a loop, (2) passing tensors with different shapes, (3) passing Python objects instead of tensors. For (1), please define your @tf.function outside of the loop. For (2), @tf.function has reduce_retracing=True option that can avoid unnecessary retracing. For (3), please refer to https://www.tensorflow.org/guide/function#controlling_retracing and https://www.tensorflow.org/api_docs/python/tf/function for  more details.\n"
     ]
    },
    {
     "data": {
      "text/html": [
       "<div>\n",
       "<style scoped>\n",
       "    .dataframe tbody tr th:only-of-type {\n",
       "        vertical-align: middle;\n",
       "    }\n",
       "\n",
       "    .dataframe tbody tr th {\n",
       "        vertical-align: top;\n",
       "    }\n",
       "\n",
       "    .dataframe thead th {\n",
       "        text-align: right;\n",
       "    }\n",
       "</style>\n",
       "<table border=\"1\" class=\"dataframe\">\n",
       "  <thead>\n",
       "    <tr style=\"text-align: right;\">\n",
       "      <th></th>\n",
       "      <th>Stade 1</th>\n",
       "      <th>Stade 2</th>\n",
       "      <th>Stade 3</th>\n",
       "      <th>Stade 4</th>\n",
       "      <th>Mean</th>\n",
       "    </tr>\n",
       "  </thead>\n",
       "  <tbody>\n",
       "    <tr>\n",
       "      <th>precision</th>\n",
       "      <td>0.758467</td>\n",
       "      <td>0.827216</td>\n",
       "      <td>0.857704</td>\n",
       "      <td>0.860154</td>\n",
       "      <td>0.825885</td>\n",
       "    </tr>\n",
       "    <tr>\n",
       "      <th>recall</th>\n",
       "      <td>0.93097</td>\n",
       "      <td>0.941983</td>\n",
       "      <td>0.978741</td>\n",
       "      <td>0.973004</td>\n",
       "      <td>0.956175</td>\n",
       "    </tr>\n",
       "    <tr>\n",
       "      <th>AUC_PR</th>\n",
       "      <td>0.717971</td>\n",
       "      <td>0.8301</td>\n",
       "      <td>0.890086</td>\n",
       "      <td>0.895244</td>\n",
       "      <td>0.833350</td>\n",
       "    </tr>\n",
       "    <tr>\n",
       "      <th>AUC_ROC</th>\n",
       "      <td>0.621253</td>\n",
       "      <td>0.746893</td>\n",
       "      <td>0.831478</td>\n",
       "      <td>0.805637</td>\n",
       "      <td>0.751315</td>\n",
       "    </tr>\n",
       "    <tr>\n",
       "      <th>std</th>\n",
       "      <td>0.021037</td>\n",
       "      <td>0.059367</td>\n",
       "      <td>0.040701</td>\n",
       "      <td>0.067971</td>\n",
       "      <td>0.047269</td>\n",
       "    </tr>\n",
       "  </tbody>\n",
       "</table>\n",
       "</div>"
      ],
      "text/plain": [
       "            Stade 1   Stade 2   Stade 3   Stade 4      Mean\n",
       "precision  0.758467  0.827216  0.857704  0.860154  0.825885\n",
       "recall      0.93097  0.941983  0.978741  0.973004  0.956175\n",
       "AUC_PR     0.717971    0.8301  0.890086  0.895244  0.833350\n",
       "AUC_ROC    0.621253  0.746893  0.831478  0.805637  0.751315\n",
       "std        0.021037  0.059367  0.040701  0.067971  0.047269"
      ]
     },
     "execution_count": 15,
     "metadata": {},
     "output_type": "execute_result"
    }
   ],
   "source": [
    "results = epistemic_eval(base_bnn)\n",
    "results.head()"
   ]
  },
  {
   "cell_type": "markdown",
   "metadata": {},
   "source": [
    "1. one hidden layer with 20 neurons and earrly stopping \n",
    "\n",
    "| prior                  | stade 1 | stade 2 | stade 3 | stade 4 | all stades | \n",
    "|------------------------|:-------:|:-------:|:-------:|:-------:|:----------:|\n",
    "|gaussian multivariate   |0.6906615| 0.77590555|0.7306517|0.7169477|0.69806963| \n",
    "|epistemic uncertainty   |0.02391025057023407|0.016526079838547002|0.018238700957736092|0.12053297076644776|\n",
    "\n",
    "| prior                  | stade 1 | stade 2 | stade 3 | stade 4 | all stades | \n",
    "|------------------------|:-------:|:-------:|:-------:|:-------:|:----------:|\n",
    "|gaussian multivariate   |0.6906615| 0.77590555|0.7306517|0.7169477|0.69806963| \n",
    "|epistemic uncertainty   |0.02391025057023407|0.016526079838547002|0.018238700957736092|0.12053297076644776|\n"
   ]
  },
  {
   "cell_type": "markdown",
   "metadata": {
    "id": "8fVq86GdNtCH"
   },
   "source": [
    "# 4. Optimization with Hyperband"
   ]
  },
  {
   "cell_type": "code",
   "execution_count": 76,
   "metadata": {
    "id": "Ic4YTtzgXyqH"
   },
   "outputs": [],
   "source": [
    "class HyperModel(kt.HyperModel):\n",
    "  def build(self, hp):\n",
    "    # input layer \n",
    "    inputs = keras.Input(shape=(X_train.shape[1],))\n",
    "\n",
    "    \"\"\"\n",
    "    # choice of the prior\n",
    "    prior_choice =  hp.Choice('prior', ['gaussian_prior', 'horseshoe_prior', 'laplace_prior', 'radial_prior'])\n",
    "    if prior_choice == 'gaussian_prior':\n",
    "      prior = gaussian_prior\n",
    "    elif prior_choice == 'horseshoe_prior':\n",
    "      prior = horseshoe_prior\n",
    "    elif prior_choice == 'laplace_prior':\n",
    "      prior = laplace_prior\n",
    "    elif prior_choice == 'radial_prior':\n",
    "      prior = radial_prior\n",
    "   \"\"\" \n",
    "\n",
    "    # hidden 1\n",
    "    dense = tfp.layers.DenseVariational(units=hp.Int('units0', min_value=5, max_value=30, step=5), \n",
    "                                        make_prior_fn=gaussian_prior,\n",
    "                                        make_posterior_fn=gaussian_posterior,\n",
    "                                        kl_weight = hp.Float('kl_weight0', min_value=1e-8, max_value=1e-2, sampling='log'),\n",
    "                                        activation= hp.Choice('activation0', ['sigmoid', 'relu', 'tanh', 'elu']))(inputs)\n",
    "    \n",
    "\n",
    "    \"\"\"\n",
    "    dense = tfp.layers.DenseVariational(units=hp.Int('units0', min_value=5, max_value=30, step=5), \n",
    "                                        make_prior_fn=gaussian_prior,\n",
    "                                        make_posterior_fn=gaussian_posterior,\n",
    "                                        kl_weight = hp.Float('kl_weight0', min_value=1e-8, max_value=1e-2, sampling='log'),\n",
    "                                        activation= hp.Choice('activation0', ['sigmoid', 'relu', 'tanh', 'elu']))(inputs)\n",
    "    \"\"\" \n",
    "    # output \n",
    "    outputs = Dense(n_antibiotiques, activation='sigmoid')(dense)\n",
    "\n",
    "    # model compile\n",
    "    model = keras.Model(inputs=inputs, outputs=outputs, name='optim_BNN')\n",
    "\n",
    "    opt = keras.optimizers.Adam(learning_rate=hp.Float('lr', min_value=1e-5, max_value=1e-1, sampling='log'))\n",
    "  \n",
    "    model.compile(loss=tf.keras.losses.BinaryCrossentropy(), \n",
    "                  optimizer=opt, metrics=['Precision',\n",
    "                                          'Recall',\n",
    "                                          AUC(name='AUC_PR', curve='PR', multi_label=True),\n",
    "                                          AUC(name='AUC_ROC', curve='ROC', multi_label=True),\n",
    "                                          ])\n",
    "    model.summary()\n",
    "  \n",
    "    return model\n",
    "\n",
    "  def fit(self, hp, model, *args, **kwargs):\n",
    "    return model.fit(\n",
    "        *args,\n",
    "        batch_size=32,#hp.Choice('batch_size', [16, 32, 64]),\n",
    "        **kwargs\n",
    "    )\n",
    "  "
   ]
  },
  {
   "cell_type": "code",
   "execution_count": 80,
   "metadata": {
    "colab": {
     "base_uri": "https://localhost:8080/"
    },
    "id": "tYsU_oztOTr6",
    "outputId": "8cfcd0b1-0838-4b26-e5b3-c6e0557cad79"
   },
   "outputs": [
    {
     "name": "stdout",
     "output_type": "stream",
     "text": [
      "Model: \"optim_BNN\"\n",
      "_________________________________________________________________\n",
      " Layer (type)                Output Shape              Param #   \n",
      "=================================================================\n",
      " input_2 (InputLayer)        [(None, 7)]               0         \n",
      "                                                                 \n",
      " dense_variational_1 (DenseV  (None, 5)                860       \n",
      " ariational)                                                     \n",
      "                                                                 \n",
      " dense_1 (Dense)             (None, 47)                282       \n",
      "                                                                 \n",
      "=================================================================\n",
      "Total params: 1,142\n",
      "Trainable params: 1,142\n",
      "Non-trainable params: 0\n",
      "_________________________________________________________________\n",
      "Search space summary\n",
      "Default search space size: 4\n",
      "units0 (Int)\n",
      "{'default': None, 'conditions': [], 'min_value': 5, 'max_value': 30, 'step': 5, 'sampling': 'linear'}\n",
      "kl_weight0 (Float)\n",
      "{'default': 1e-08, 'conditions': [], 'min_value': 1e-08, 'max_value': 0.01, 'step': None, 'sampling': 'log'}\n",
      "activation0 (Choice)\n",
      "{'default': 'sigmoid', 'conditions': [], 'values': ['sigmoid', 'relu', 'tanh', 'elu'], 'ordered': False}\n",
      "lr (Float)\n",
      "{'default': 1e-05, 'conditions': [], 'min_value': 1e-05, 'max_value': 0.1, 'step': None, 'sampling': 'log'}\n"
     ]
    }
   ],
   "source": [
    "tuner = kt.Hyperband(hypermodel=HyperModel(), \n",
    "                     objective=kt.Objective(\"val_AUC_PR\", direction=\"min\"),\n",
    "                     max_epochs=100,\n",
    "                     factor=3,\n",
    "                     overwrite=True)\n",
    "\n",
    "early_stopping = callbacks.EarlyStopping(monitor='val_loss', patience=20,\n",
    "                                         verbose=1, restore_best_weights=True)\n",
    "\n",
    "tuner.search_space_summary()"
   ]
  },
  {
   "cell_type": "code",
   "execution_count": null,
   "metadata": {
    "colab": {
     "base_uri": "https://localhost:8080/"
    },
    "id": "8H4yR_0sUrrI",
    "outputId": "53a385d8-9689-4737-d4ee-b98aec927beb"
   },
   "outputs": [
    {
     "name": "stdout",
     "output_type": "stream",
     "text": [
      "Trial 232 Complete [00h 05m 24s]\n",
      "val_AUC_PR: 0.6758559942245483\n",
      "\n",
      "Best val_AUC_PR So Far: 0.6739405989646912\n",
      "Total elapsed time: 05h 32m 33s\n",
      "\n",
      "Search: Running Trial #233\n",
      "\n",
      "Value             |Best Value So Far |Hyperparameter\n",
      "5                 |25                |units0\n",
      "6.3566e-05        |4.2389e-07        |kl_weight0\n",
      "sigmoid           |relu              |activation0\n",
      "0.015176          |0.03388           |lr\n",
      "34                |12                |tuner/epochs\n",
      "12                |4                 |tuner/initial_epoch\n",
      "2                 |4                 |tuner/bracket\n",
      "1                 |2                 |tuner/round\n",
      "0210              |0099              |tuner/trial_id\n",
      "\n",
      "Model: \"optim_BNN\"\n",
      "_________________________________________________________________\n",
      " Layer (type)                Output Shape              Param #   \n",
      "=================================================================\n",
      " input_1 (InputLayer)        [(None, 7)]               0         \n",
      "                                                                 \n",
      " dense_variational (DenseVar  (None, 5)                860       \n",
      " iational)                                                       \n",
      "                                                                 \n",
      " dense (Dense)               (None, 47)                282       \n",
      "                                                                 \n",
      "=================================================================\n",
      "Total params: 1,142\n",
      "Trainable params: 1,142\n",
      "Non-trainable params: 0\n",
      "_________________________________________________________________\n",
      "Epoch 13/34\n",
      "2639/2639 [==============================] - 18s 6ms/step - loss: 2.1644 - precision: 0.7978 - recall: 0.9487 - AUC_PR: 0.6786 - AUC_ROC: 0.5001 - val_loss: 2.2827 - val_precision: 0.7975 - val_recall: 0.9509 - val_AUC_PR: 0.6757 - val_AUC_ROC: 0.4983\n",
      "Epoch 14/34\n",
      "2639/2639 [==============================] - 14s 5ms/step - loss: 1.9473 - precision: 0.7976 - recall: 0.9492 - AUC_PR: 0.6772 - AUC_ROC: 0.4982 - val_loss: 2.4361 - val_precision: 0.7976 - val_recall: 0.9507 - val_AUC_PR: 0.6758 - val_AUC_ROC: 0.4960\n",
      "Epoch 15/34\n",
      "2639/2639 [==============================] - 14s 5ms/step - loss: 2.1147 - precision: 0.7977 - recall: 0.9490 - AUC_PR: 0.6773 - AUC_ROC: 0.4973 - val_loss: 0.9989 - val_precision: 0.7976 - val_recall: 0.9507 - val_AUC_PR: 0.6777 - val_AUC_ROC: 0.4997\n",
      "Epoch 16/34\n",
      "2639/2639 [==============================] - 14s 5ms/step - loss: 2.0962 - precision: 0.7977 - recall: 0.9491 - AUC_PR: 0.6781 - AUC_ROC: 0.4989 - val_loss: 1.1363 - val_precision: 0.7975 - val_recall: 0.9509 - val_AUC_PR: 0.6799 - val_AUC_ROC: 0.5053\n",
      "Epoch 17/34\n",
      "2639/2639 [==============================] - 14s 5ms/step - loss: 2.0164 - precision: 0.7977 - recall: 0.9491 - AUC_PR: 0.6780 - AUC_ROC: 0.4991 - val_loss: 2.1721 - val_precision: 0.7975 - val_recall: 0.9509 - val_AUC_PR: 0.6777 - val_AUC_ROC: 0.5001\n",
      "Epoch 18/34\n",
      "2639/2639 [==============================] - 14s 5ms/step - loss: 2.0484 - precision: 0.7978 - recall: 0.9488 - AUC_PR: 0.6791 - AUC_ROC: 0.5001 - val_loss: 1.2353 - val_precision: 0.7976 - val_recall: 0.9506 - val_AUC_PR: 0.6777 - val_AUC_ROC: 0.4981\n",
      "Epoch 19/34\n",
      "2639/2639 [==============================] - 14s 5ms/step - loss: 2.0935 - precision: 0.7979 - recall: 0.9487 - AUC_PR: 0.6783 - AUC_ROC: 0.5005 - val_loss: 1.7084 - val_precision: 0.7976 - val_recall: 0.9507 - val_AUC_PR: 0.6789 - val_AUC_ROC: 0.5023\n",
      "Epoch 20/34\n",
      "2639/2639 [==============================] - 14s 5ms/step - loss: 2.0162 - precision: 0.7977 - recall: 0.9490 - AUC_PR: 0.6787 - AUC_ROC: 0.5006 - val_loss: 3.4342 - val_precision: 0.8023 - val_recall: 0.9399 - val_AUC_PR: 0.6775 - val_AUC_ROC: 0.5011\n",
      "Epoch 21/34\n",
      "2639/2639 [==============================] - 15s 6ms/step - loss: 2.0044 - precision: 0.7977 - recall: 0.9489 - AUC_PR: 0.6782 - AUC_ROC: 0.4990 - val_loss: 2.3838 - val_precision: 0.7975 - val_recall: 0.9509 - val_AUC_PR: 0.6780 - val_AUC_ROC: 0.4990\n",
      "Epoch 22/34\n",
      "2639/2639 [==============================] - 14s 5ms/step - loss: 2.0261 - precision: 0.7977 - recall: 0.9490 - AUC_PR: 0.6780 - AUC_ROC: 0.5000 - val_loss: 1.8927 - val_precision: 0.7975 - val_recall: 0.9509 - val_AUC_PR: 0.6780 - val_AUC_ROC: 0.4989\n",
      "Epoch 23/34\n",
      "2020/2639 [=====================>........] - ETA: 2s - loss: 2.2521 - precision: 0.7980 - recall: 0.9492 - AUC_PR: 0.6775 - AUC_ROC: 0.4979"
     ]
    }
   ],
   "source": [
    "tuner.search(X_train, y_train, epochs=150, validation_data=(X_test, y_test),\n",
    "             callbacks=[early_stopping])\n",
    "\n",
    "best_hparams = tuner.get_best_hyperparameters(num_trials=1)[0]"
   ]
  },
  {
   "cell_type": "code",
   "execution_count": null,
   "metadata": {
    "id": "tBiFoqE31wag"
   },
   "outputs": [],
   "source": [
    "best_hparams = tuner.get_best_hyperparameters(num_trials=1)[0]\n",
    "print(best_hparams.get('units0'))\n",
    "print(best_hparams.get('prior'))"
   ]
  },
  {
   "cell_type": "code",
   "execution_count": null,
   "metadata": {
    "id": "QWpkuGWjNzwp"
   },
   "outputs": [],
   "source": [
    "tuner.results_summary()"
   ]
  },
  {
   "cell_type": "code",
   "execution_count": null,
   "metadata": {
    "colab": {
     "base_uri": "https://localhost:8080/"
    },
    "id": "eq9sEzROzGRH",
    "outputId": "09fc75ee-dd3a-4d44-f76f-fb31584dba4b"
   },
   "outputs": [
    {
     "name": "stdout",
     "output_type": "stream",
     "text": [
      "Model: \"optim_BNN\"\n",
      "_________________________________________________________________\n",
      " Layer (type)                Output Shape              Param #   \n",
      "=================================================================\n",
      " input_3 (InputLayer)        [(None, 7)]               0         \n",
      "                                                                 \n",
      " dense_variational_6 (DenseV  (None, 5)                860       \n",
      " ariational)                                                     \n",
      "                                                                 \n",
      " dense_variational_7 (DenseV  (None, 5)                495       \n",
      " ariational)                                                     \n",
      "                                                                 \n",
      " dense_variational_8 (DenseV  (None, 47)               40185     \n",
      " ariational)                                                     \n",
      "                                                                 \n",
      "=================================================================\n",
      "Total params: 41,540\n",
      "Trainable params: 41,540\n",
      "Non-trainable params: 0\n",
      "_________________________________________________________________\n",
      "Found GPU at: /device:GPU:0\n",
      "Epoch 1/100\n",
      "2639/2639 [==============================] - 20s 6ms/step - loss: 0.5426 - precision: 0.7903 - recall: 0.8473 - nll: 25.4294 - kl_divergence: 12.6290 - val_loss: 0.4818 - val_precision: 0.8045 - val_recall: 0.9189 - val_nll: 22.5467 - val_kl_divergence: 9.6370\n",
      "Epoch 2/100\n",
      "2639/2639 [==============================] - 16s 6ms/step - loss: 0.4769 - precision: 0.8023 - recall: 0.9265 - nll: 22.2967 - kl_divergence: 9.4890 - val_loss: 0.4720 - val_precision: 0.8023 - val_recall: 0.9338 - val_nll: 22.0483 - val_kl_divergence: 9.2689\n",
      "Epoch 3/100\n",
      "2639/2639 [==============================] - 16s 6ms/step - loss: 0.4701 - precision: 0.8013 - recall: 0.9357 - nll: 21.9472 - kl_divergence: 9.3244 - val_loss: 0.4678 - val_precision: 0.8020 - val_recall: 0.9382 - val_nll: 21.8244 - val_kl_divergence: 9.2929\n",
      "Epoch 4/100\n",
      "2639/2639 [==============================] - 16s 6ms/step - loss: 0.4675 - precision: 0.8008 - recall: 0.9392 - nll: 21.8011 - kl_divergence: 9.2725 - val_loss: 0.4665 - val_precision: 0.8012 - val_recall: 0.9413 - val_nll: 21.7432 - val_kl_divergence: 9.2187\n",
      "Epoch 5/100\n",
      "2639/2639 [==============================] - 16s 6ms/step - loss: 0.4660 - precision: 0.8004 - recall: 0.9408 - nll: 21.7098 - kl_divergence: 9.2202 - val_loss: 0.4658 - val_precision: 0.8009 - val_recall: 0.9423 - val_nll: 21.6936 - val_kl_divergence: 9.1873\n",
      "Epoch 6/100\n",
      "2639/2639 [==============================] - 17s 6ms/step - loss: 0.4651 - precision: 0.8003 - recall: 0.9418 - nll: 21.6510 - kl_divergence: 9.1706 - val_loss: 0.4638 - val_precision: 0.8011 - val_recall: 0.9429 - val_nll: 21.5776 - val_kl_divergence: 9.0818\n",
      "Epoch 7/100\n",
      "2639/2639 [==============================] - 16s 6ms/step - loss: 0.4628 - precision: 0.8011 - recall: 0.9414 - nll: 21.5176 - kl_divergence: 9.0925 - val_loss: 0.4614 - val_precision: 0.8032 - val_recall: 0.9399 - val_nll: 21.4309 - val_kl_divergence: 9.1016\n",
      "Epoch 8/100\n",
      "2639/2639 [==============================] - 16s 6ms/step - loss: 0.4593 - precision: 0.8032 - recall: 0.9401 - nll: 21.3105 - kl_divergence: 8.9769 - val_loss: 0.4560 - val_precision: 0.8052 - val_recall: 0.9416 - val_nll: 21.1378 - val_kl_divergence: 8.7251\n",
      "Epoch 9/100\n",
      "2639/2639 [==============================] - 16s 6ms/step - loss: 0.4555 - precision: 0.8055 - recall: 0.9398 - nll: 21.1023 - kl_divergence: 8.8695 - val_loss: 0.4534 - val_precision: 0.8072 - val_recall: 0.9405 - val_nll: 20.9876 - val_kl_divergence: 8.8680\n",
      "Epoch 10/100\n",
      "2639/2639 [==============================] - 16s 6ms/step - loss: 0.4534 - precision: 0.8077 - recall: 0.9398 - nll: 20.9789 - kl_divergence: 8.8218 - val_loss: 0.4515 - val_precision: 0.8099 - val_recall: 0.9401 - val_nll: 20.8806 - val_kl_divergence: 8.8372\n",
      "Epoch 11/100\n",
      "2639/2639 [==============================] - 16s 6ms/step - loss: 0.4514 - precision: 0.8095 - recall: 0.9404 - nll: 20.8706 - kl_divergence: 8.7613 - val_loss: 0.4504 - val_precision: 0.8121 - val_recall: 0.9391 - val_nll: 20.8107 - val_kl_divergence: 8.8167\n",
      "Epoch 12/100\n",
      "2639/2639 [==============================] - 16s 6ms/step - loss: 0.4502 - precision: 0.8110 - recall: 0.9397 - nll: 20.7951 - kl_divergence: 8.7276 - val_loss: 0.4493 - val_precision: 0.8126 - val_recall: 0.9401 - val_nll: 20.7448 - val_kl_divergence: 8.6968\n",
      "Epoch 13/100\n",
      "2639/2639 [==============================] - 16s 6ms/step - loss: 0.4484 - precision: 0.8127 - recall: 0.9394 - nll: 20.6979 - kl_divergence: 8.6712 - val_loss: 0.4479 - val_precision: 0.8139 - val_recall: 0.9388 - val_nll: 20.6638 - val_kl_divergence: 8.7451\n",
      "Epoch 14/100\n",
      "2639/2639 [==============================] - 16s 6ms/step - loss: 0.4473 - precision: 0.8133 - recall: 0.9393 - nll: 20.6260 - kl_divergence: 8.6354 - val_loss: 0.4461 - val_precision: 0.8144 - val_recall: 0.9397 - val_nll: 20.5629 - val_kl_divergence: 8.6994\n",
      "Epoch 15/100\n",
      "2639/2639 [==============================] - 16s 6ms/step - loss: 0.4457 - precision: 0.8140 - recall: 0.9388 - nll: 20.5348 - kl_divergence: 8.6158 - val_loss: 0.4441 - val_precision: 0.8143 - val_recall: 0.9404 - val_nll: 20.4455 - val_kl_divergence: 8.4680\n",
      "Epoch 16/100\n",
      "2639/2639 [==============================] - 16s 6ms/step - loss: 0.4445 - precision: 0.8147 - recall: 0.9380 - nll: 20.4573 - kl_divergence: 8.5455 - val_loss: 0.4445 - val_precision: 0.8153 - val_recall: 0.9385 - val_nll: 20.4453 - val_kl_divergence: 8.5140\n",
      "Epoch 17/100\n",
      "2639/2639 [==============================] - 16s 6ms/step - loss: 0.4440 - precision: 0.8150 - recall: 0.9378 - nll: 20.4172 - kl_divergence: 8.5233 - val_loss: 0.4435 - val_precision: 0.8163 - val_recall: 0.9377 - val_nll: 20.3814 - val_kl_divergence: 8.4923\n",
      "Epoch 18/100\n",
      "2639/2639 [==============================] - 16s 6ms/step - loss: 0.4428 - precision: 0.8158 - recall: 0.9373 - nll: 20.3480 - kl_divergence: 8.4995 - val_loss: 0.4412 - val_precision: 0.8167 - val_recall: 0.9381 - val_nll: 20.2687 - val_kl_divergence: 8.4883\n",
      "Epoch 19/100\n",
      "2639/2639 [==============================] - 16s 6ms/step - loss: 0.4418 - precision: 0.8161 - recall: 0.9373 - nll: 20.2869 - kl_divergence: 8.4454 - val_loss: 0.4401 - val_precision: 0.8178 - val_recall: 0.9366 - val_nll: 20.2047 - val_kl_divergence: 8.6760\n",
      "Epoch 20/100\n",
      "2639/2639 [==============================] - 16s 6ms/step - loss: 0.4410 - precision: 0.8167 - recall: 0.9367 - nll: 20.2424 - kl_divergence: 8.4737 - val_loss: 0.4400 - val_precision: 0.8173 - val_recall: 0.9386 - val_nll: 20.1878 - val_kl_divergence: 8.3493\n",
      "Epoch 21/100\n",
      "2639/2639 [==============================] - 16s 6ms/step - loss: 0.4405 - precision: 0.8171 - recall: 0.9366 - nll: 20.2070 - kl_divergence: 8.4267 - val_loss: 0.4397 - val_precision: 0.8189 - val_recall: 0.9350 - val_nll: 20.1656 - val_kl_divergence: 8.5058\n",
      "Epoch 22/100\n",
      "2639/2639 [==============================] - 16s 6ms/step - loss: 0.4399 - precision: 0.8176 - recall: 0.9359 - nll: 20.1651 - kl_divergence: 8.4402 - val_loss: 0.4385 - val_precision: 0.8174 - val_recall: 0.9377 - val_nll: 20.0936 - val_kl_divergence: 8.3146\n",
      "Epoch 23/100\n",
      "2639/2639 [==============================] - 16s 6ms/step - loss: 0.4389 - precision: 0.8176 - recall: 0.9359 - nll: 20.1068 - kl_divergence: 8.3943 - val_loss: 0.4386 - val_precision: 0.8181 - val_recall: 0.9365 - val_nll: 20.0865 - val_kl_divergence: 8.3959\n",
      "Epoch 24/100\n",
      "2639/2639 [==============================] - 16s 6ms/step - loss: 0.4383 - precision: 0.8180 - recall: 0.9357 - nll: 20.0671 - kl_divergence: 8.3857 - val_loss: 0.4372 - val_precision: 0.8188 - val_recall: 0.9353 - val_nll: 20.0112 - val_kl_divergence: 8.3343\n",
      "Epoch 25/100\n",
      "2639/2639 [==============================] - 16s 6ms/step - loss: 0.4380 - precision: 0.8182 - recall: 0.9353 - nll: 20.0432 - kl_divergence: 8.3717 - val_loss: 0.4358 - val_precision: 0.8193 - val_recall: 0.9361 - val_nll: 19.9368 - val_kl_divergence: 8.3935\n",
      "Epoch 26/100\n",
      "2639/2639 [==============================] - 16s 6ms/step - loss: 0.4373 - precision: 0.8185 - recall: 0.9358 - nll: 20.0034 - kl_divergence: 8.3672 - val_loss: 0.4364 - val_precision: 0.8200 - val_recall: 0.9350 - val_nll: 19.9570 - val_kl_divergence: 8.4422\n",
      "Epoch 27/100\n",
      "2639/2639 [==============================] - 16s 6ms/step - loss: 0.4367 - precision: 0.8186 - recall: 0.9353 - nll: 19.9662 - kl_divergence: 8.3577 - val_loss: 0.4351 - val_precision: 0.8191 - val_recall: 0.9371 - val_nll: 19.8901 - val_kl_divergence: 8.2916\n",
      "Epoch 28/100\n",
      "2639/2639 [==============================] - 16s 6ms/step - loss: 0.4365 - precision: 0.8187 - recall: 0.9355 - nll: 19.9527 - kl_divergence: 8.3515 - val_loss: 0.4346 - val_precision: 0.8194 - val_recall: 0.9371 - val_nll: 19.8611 - val_kl_divergence: 8.2485\n",
      "Epoch 29/100\n",
      "2639/2639 [==============================] - 16s 6ms/step - loss: 0.4361 - precision: 0.8189 - recall: 0.9358 - nll: 19.9269 - kl_divergence: 8.3334 - val_loss: 0.4362 - val_precision: 0.8205 - val_recall: 0.9342 - val_nll: 19.9263 - val_kl_divergence: 8.5025\n",
      "Epoch 30/100\n",
      "2639/2639 [==============================] - 16s 6ms/step - loss: 0.4357 - precision: 0.8188 - recall: 0.9356 - nll: 19.9028 - kl_divergence: 8.3406 - val_loss: 0.4346 - val_precision: 0.8194 - val_recall: 0.9373 - val_nll: 19.8490 - val_kl_divergence: 8.2598\n",
      "Epoch 31/100\n",
      "2639/2639 [==============================] - 16s 6ms/step - loss: 0.4351 - precision: 0.8188 - recall: 0.9361 - nll: 19.8713 - kl_divergence: 8.3097 - val_loss: 0.4353 - val_precision: 0.8203 - val_recall: 0.9345 - val_nll: 19.8760 - val_kl_divergence: 8.4793\n",
      "Epoch 32/100\n",
      "2639/2639 [==============================] - 16s 6ms/step - loss: 0.4352 - precision: 0.8190 - recall: 0.9360 - nll: 19.8698 - kl_divergence: 8.3242 - val_loss: 0.4337 - val_precision: 0.8200 - val_recall: 0.9367 - val_nll: 19.7944 - val_kl_divergence: 8.3908\n",
      "Epoch 33/100\n",
      "2639/2639 [==============================] - 16s 6ms/step - loss: 0.4347 - precision: 0.8191 - recall: 0.9360 - nll: 19.8395 - kl_divergence: 8.3171 - val_loss: 0.4332 - val_precision: 0.8189 - val_recall: 0.9389 - val_nll: 19.7721 - val_kl_divergence: 8.2754\n",
      "Epoch 34/100\n",
      "2639/2639 [==============================] - 16s 6ms/step - loss: 0.4343 - precision: 0.8189 - recall: 0.9368 - nll: 19.8193 - kl_divergence: 8.2902 - val_loss: 0.4334 - val_precision: 0.8197 - val_recall: 0.9373 - val_nll: 19.7780 - val_kl_divergence: 8.2309\n",
      "Epoch 35/100\n",
      "2639/2639 [==============================] - 17s 6ms/step - loss: 0.4341 - precision: 0.8191 - recall: 0.9364 - nll: 19.8105 - kl_divergence: 8.2900 - val_loss: 0.4333 - val_precision: 0.8204 - val_recall: 0.9367 - val_nll: 19.7714 - val_kl_divergence: 8.3316\n",
      "Epoch 36/100\n",
      "2639/2639 [==============================] - 16s 6ms/step - loss: 0.4338 - precision: 0.8191 - recall: 0.9366 - nll: 19.7958 - kl_divergence: 8.2969 - val_loss: 0.4337 - val_precision: 0.8202 - val_recall: 0.9372 - val_nll: 19.7855 - val_kl_divergence: 8.1485\n",
      "Epoch 37/100\n",
      "2639/2639 [==============================] - 16s 6ms/step - loss: 0.4337 - precision: 0.8192 - recall: 0.9365 - nll: 19.7865 - kl_divergence: 8.2759 - val_loss: 0.4333 - val_precision: 0.8199 - val_recall: 0.9365 - val_nll: 19.7696 - val_kl_divergence: 8.2546\n",
      "Epoch 38/100\n",
      "2639/2639 [==============================] - 16s 6ms/step - loss: 0.4339 - precision: 0.8192 - recall: 0.9363 - nll: 19.7924 - kl_divergence: 8.2829 - val_loss: 0.4331 - val_precision: 0.8192 - val_recall: 0.9386 - val_nll: 19.7514 - val_kl_divergence: 8.0469\n",
      "Epoch 39/100\n",
      "2639/2639 [==============================] - 16s 6ms/step - loss: 0.4341 - precision: 0.8192 - recall: 0.9368 - nll: 19.7997 - kl_divergence: 8.2829 - val_loss: 0.4326 - val_precision: 0.8198 - val_recall: 0.9374 - val_nll: 19.7282 - val_kl_divergence: 8.2806\n",
      "Epoch 40/100\n",
      "2639/2639 [==============================] - 16s 6ms/step - loss: 0.4330 - precision: 0.8192 - recall: 0.9372 - nll: 19.7436 - kl_divergence: 8.2600 - val_loss: 0.4328 - val_precision: 0.8192 - val_recall: 0.9394 - val_nll: 19.7296 - val_kl_divergence: 8.1408\n",
      "Epoch 41/100\n",
      "2639/2639 [==============================] - 18s 7ms/step - loss: 0.4323 - precision: 0.8192 - recall: 0.9377 - nll: 19.7023 - kl_divergence: 8.2260 - val_loss: 0.4306 - val_precision: 0.8194 - val_recall: 0.9402 - val_nll: 19.6130 - val_kl_divergence: 8.0636\n",
      "Epoch 42/100\n",
      "2639/2639 [==============================] - 16s 6ms/step - loss: 0.4309 - precision: 0.8196 - recall: 0.9383 - nll: 19.6272 - kl_divergence: 8.1755 - val_loss: 0.4301 - val_precision: 0.8200 - val_recall: 0.9396 - val_nll: 19.5851 - val_kl_divergence: 8.0958\n",
      "Epoch 43/100\n",
      "2639/2639 [==============================] - 16s 6ms/step - loss: 0.4303 - precision: 0.8196 - recall: 0.9388 - nll: 19.5869 - kl_divergence: 8.1313 - val_loss: 0.4287 - val_precision: 0.8217 - val_recall: 0.9370 - val_nll: 19.5110 - val_kl_divergence: 8.2329\n",
      "Epoch 44/100\n",
      "2639/2639 [==============================] - 18s 7ms/step - loss: 0.4295 - precision: 0.8201 - recall: 0.9383 - nll: 19.5400 - kl_divergence: 8.1244 - val_loss: 0.4286 - val_precision: 0.8209 - val_recall: 0.9385 - val_nll: 19.4970 - val_kl_divergence: 8.1890\n",
      "Epoch 45/100\n",
      "2639/2639 [==============================] - 16s 6ms/step - loss: 0.4291 - precision: 0.8205 - recall: 0.9379 - nll: 19.5161 - kl_divergence: 8.1277 - val_loss: 0.4283 - val_precision: 0.8214 - val_recall: 0.9383 - val_nll: 19.4761 - val_kl_divergence: 8.1592\n",
      "Epoch 46/100\n",
      "2639/2639 [==============================] - 16s 6ms/step - loss: 0.4288 - precision: 0.8209 - recall: 0.9378 - nll: 19.5015 - kl_divergence: 8.1179 - val_loss: 0.4277 - val_precision: 0.8218 - val_recall: 0.9386 - val_nll: 19.4451 - val_kl_divergence: 8.1140\n",
      "Epoch 47/100\n",
      "2639/2639 [==============================] - 17s 7ms/step - loss: 0.4288 - precision: 0.8210 - recall: 0.9375 - nll: 19.4929 - kl_divergence: 8.1144 - val_loss: 0.4277 - val_precision: 0.8217 - val_recall: 0.9385 - val_nll: 19.4383 - val_kl_divergence: 8.0187\n",
      "Epoch 48/100\n",
      "2639/2639 [==============================] - 18s 7ms/step - loss: 0.4283 - precision: 0.8216 - recall: 0.9367 - nll: 19.4680 - kl_divergence: 8.1244 - val_loss: 0.4273 - val_precision: 0.8209 - val_recall: 0.9402 - val_nll: 19.4201 - val_kl_divergence: 7.8861\n",
      "Epoch 49/100\n",
      "2639/2639 [==============================] - 16s 6ms/step - loss: 0.4283 - precision: 0.8216 - recall: 0.9371 - nll: 19.4634 - kl_divergence: 8.0979 - val_loss: 0.4282 - val_precision: 0.8228 - val_recall: 0.9367 - val_nll: 19.4588 - val_kl_divergence: 8.1691\n",
      "Epoch 50/100\n",
      "2639/2639 [==============================] - 16s 6ms/step - loss: 0.4280 - precision: 0.8217 - recall: 0.9367 - nll: 19.4490 - kl_divergence: 8.1025 - val_loss: 0.4274 - val_precision: 0.8235 - val_recall: 0.9358 - val_nll: 19.4195 - val_kl_divergence: 8.2281\n",
      "Epoch 51/100\n",
      "2639/2639 [==============================] - 16s 6ms/step - loss: 0.4282 - precision: 0.8219 - recall: 0.9366 - nll: 19.4568 - kl_divergence: 8.1046 - val_loss: 0.4274 - val_precision: 0.8234 - val_recall: 0.9353 - val_nll: 19.4220 - val_kl_divergence: 8.2377\n",
      "Epoch 52/100\n",
      "2639/2639 [==============================] - 16s 6ms/step - loss: 0.4277 - precision: 0.8222 - recall: 0.9358 - nll: 19.4337 - kl_divergence: 8.1143 - val_loss: 0.4264 - val_precision: 0.8235 - val_recall: 0.9362 - val_nll: 19.3750 - val_kl_divergence: 8.0931\n",
      "Epoch 53/100\n",
      "2639/2639 [==============================] - 16s 6ms/step - loss: 0.4279 - precision: 0.8223 - recall: 0.9363 - nll: 19.4439 - kl_divergence: 8.1054 - val_loss: 0.4274 - val_precision: 0.8231 - val_recall: 0.9362 - val_nll: 19.4169 - val_kl_divergence: 8.0401\n",
      "Epoch 54/100\n",
      "2639/2639 [==============================] - 16s 6ms/step - loss: 0.4276 - precision: 0.8225 - recall: 0.9358 - nll: 19.4244 - kl_divergence: 8.1153 - val_loss: 0.4266 - val_precision: 0.8222 - val_recall: 0.9388 - val_nll: 19.3771 - val_kl_divergence: 7.8836\n",
      "Epoch 55/100\n",
      "2639/2639 [==============================] - 16s 6ms/step - loss: 0.4276 - precision: 0.8227 - recall: 0.9357 - nll: 19.4229 - kl_divergence: 8.1021 - val_loss: 0.4270 - val_precision: 0.8242 - val_recall: 0.9343 - val_nll: 19.3974 - val_kl_divergence: 8.2074\n",
      "Epoch 56/100\n",
      "2639/2639 [==============================] - 17s 6ms/step - loss: 0.4273 - precision: 0.8228 - recall: 0.9358 - nll: 19.4107 - kl_divergence: 8.0918 - val_loss: 0.4268 - val_precision: 0.8237 - val_recall: 0.9358 - val_nll: 19.3853 - val_kl_divergence: 8.0656\n",
      "Epoch 57/100\n",
      "2639/2639 [==============================] - 18s 7ms/step - loss: 0.4273 - precision: 0.8229 - recall: 0.9351 - nll: 19.4104 - kl_divergence: 8.1134 - val_loss: 0.4269 - val_precision: 0.8240 - val_recall: 0.9352 - val_nll: 19.3877 - val_kl_divergence: 8.0787\n",
      "Epoch 58/100\n",
      "2639/2639 [==============================] - 16s 6ms/step - loss: 0.4276 - precision: 0.8230 - recall: 0.9355 - nll: 19.4192 - kl_divergence: 8.0911 - val_loss: 0.4267 - val_precision: 0.8237 - val_recall: 0.9351 - val_nll: 19.3793 - val_kl_divergence: 8.2152\n",
      "Epoch 59/100\n",
      "2639/2639 [==============================] - 16s 6ms/step - loss: 0.4275 - precision: 0.8231 - recall: 0.9351 - nll: 19.4149 - kl_divergence: 8.1138 - val_loss: 0.4272 - val_precision: 0.8232 - val_recall: 0.9363 - val_nll: 19.3993 - val_kl_divergence: 8.0684\n",
      "Epoch 60/100\n",
      "2639/2639 [==============================] - 16s 6ms/step - loss: 0.4273 - precision: 0.8232 - recall: 0.9351 - nll: 19.4072 - kl_divergence: 8.1142 - val_loss: 0.4272 - val_precision: 0.8227 - val_recall: 0.9382 - val_nll: 19.4002 - val_kl_divergence: 7.9545\n",
      "Epoch 61/100\n",
      "2639/2639 [==============================] - 16s 6ms/step - loss: 0.4277 - precision: 0.8229 - recall: 0.9350 - nll: 19.4209 - kl_divergence: 8.1027 - val_loss: 0.4262 - val_precision: 0.8240 - val_recall: 0.9363 - val_nll: 19.3533 - val_kl_divergence: 8.0465\n",
      "Epoch 62/100\n",
      "2639/2639 [==============================] - 16s 6ms/step - loss: 0.4274 - precision: 0.8231 - recall: 0.9347 - nll: 19.4097 - kl_divergence: 8.1055 - val_loss: 0.4265 - val_precision: 0.8241 - val_recall: 0.9357 - val_nll: 19.3668 - val_kl_divergence: 8.1175\n",
      "Epoch 63/100\n",
      "2639/2639 [==============================] - 16s 6ms/step - loss: 0.4272 - precision: 0.8234 - recall: 0.9347 - nll: 19.3984 - kl_divergence: 8.1124 - val_loss: 0.4263 - val_precision: 0.8240 - val_recall: 0.9355 - val_nll: 19.3587 - val_kl_divergence: 8.1166\n",
      "Epoch 64/100\n",
      "2639/2639 [==============================] - 16s 6ms/step - loss: 0.4275 - precision: 0.8234 - recall: 0.9347 - nll: 19.4098 - kl_divergence: 8.1085 - val_loss: 0.4263 - val_precision: 0.8226 - val_recall: 0.9383 - val_nll: 19.3557 - val_kl_divergence: 7.8775\n",
      "Epoch 65/100\n",
      "2639/2639 [==============================] - 16s 6ms/step - loss: 0.4276 - precision: 0.8231 - recall: 0.9348 - nll: 19.4135 - kl_divergence: 8.1137 - val_loss: 0.4260 - val_precision: 0.8235 - val_recall: 0.9373 - val_nll: 19.3368 - val_kl_divergence: 7.8962\n",
      "Epoch 66/100\n",
      "2639/2639 [==============================] - 16s 6ms/step - loss: 0.4272 - precision: 0.8237 - recall: 0.9344 - nll: 19.3946 - kl_divergence: 8.1021 - val_loss: 0.4267 - val_precision: 0.8236 - val_recall: 0.9369 - val_nll: 19.3712 - val_kl_divergence: 7.9524\n",
      "Epoch 67/100\n",
      "2639/2639 [==============================] - 16s 6ms/step - loss: 0.4273 - precision: 0.8237 - recall: 0.9346 - nll: 19.4007 - kl_divergence: 8.1041 - val_loss: 0.4263 - val_precision: 0.8243 - val_recall: 0.9356 - val_nll: 19.3541 - val_kl_divergence: 8.0772\n",
      "Epoch 68/100\n",
      "2639/2639 [==============================] - 16s 6ms/step - loss: 0.4272 - precision: 0.8236 - recall: 0.9345 - nll: 19.3962 - kl_divergence: 8.0973 - val_loss: 0.4273 - val_precision: 0.8245 - val_recall: 0.9341 - val_nll: 19.4012 - val_kl_divergence: 8.1930\n",
      "Epoch 69/100\n",
      "2639/2639 [==============================] - 16s 6ms/step - loss: 0.4270 - precision: 0.8239 - recall: 0.9342 - nll: 19.3873 - kl_divergence: 8.1220 - val_loss: 0.4270 - val_precision: 0.8243 - val_recall: 0.9347 - val_nll: 19.3835 - val_kl_divergence: 8.1116\n",
      "Epoch 70/100\n",
      "2639/2639 [==============================] - 16s 6ms/step - loss: 0.4271 - precision: 0.8236 - recall: 0.9347 - nll: 19.3903 - kl_divergence: 8.0885 - val_loss: 0.4265 - val_precision: 0.8238 - val_recall: 0.9362 - val_nll: 19.3622 - val_kl_divergence: 8.0150\n",
      "Epoch 71/100\n",
      "2639/2639 [==============================] - 16s 6ms/step - loss: 0.4270 - precision: 0.8240 - recall: 0.9343 - nll: 19.3844 - kl_divergence: 8.1136 - val_loss: 0.4263 - val_precision: 0.8242 - val_recall: 0.9357 - val_nll: 19.3553 - val_kl_divergence: 8.0722\n",
      "Epoch 72/100\n",
      "2639/2639 [==============================] - 16s 6ms/step - loss: 0.4272 - precision: 0.8239 - recall: 0.9341 - nll: 19.3938 - kl_divergence: 8.1051 - val_loss: 0.4263 - val_precision: 0.8235 - val_recall: 0.9373 - val_nll: 19.3556 - val_kl_divergence: 7.9485\n",
      "Epoch 73/100\n",
      "2639/2639 [==============================] - 16s 6ms/step - loss: 0.4274 - precision: 0.8236 - recall: 0.9342 - nll: 19.4047 - kl_divergence: 8.1083 - val_loss: 0.4256 - val_precision: 0.8239 - val_recall: 0.9363 - val_nll: 19.3198 - val_kl_divergence: 7.9939\n",
      "Epoch 74/100\n",
      "2639/2639 [==============================] - 16s 6ms/step - loss: 0.4271 - precision: 0.8239 - recall: 0.9343 - nll: 19.3924 - kl_divergence: 8.1118 - val_loss: 0.4257 - val_precision: 0.8240 - val_recall: 0.9359 - val_nll: 19.3239 - val_kl_divergence: 8.0120\n",
      "Epoch 75/100\n",
      "2639/2639 [==============================] - 16s 6ms/step - loss: 0.4273 - precision: 0.8236 - recall: 0.9346 - nll: 19.3981 - kl_divergence: 8.0846 - val_loss: 0.4262 - val_precision: 0.8267 - val_recall: 0.9313 - val_nll: 19.3462 - val_kl_divergence: 8.3375\n",
      "Epoch 76/100\n",
      "2639/2639 [==============================] - 16s 6ms/step - loss: 0.4272 - precision: 0.8239 - recall: 0.9338 - nll: 19.3940 - kl_divergence: 8.1227 - val_loss: 0.4265 - val_precision: 0.8244 - val_recall: 0.9347 - val_nll: 19.3599 - val_kl_divergence: 8.1900\n",
      "Epoch 77/100\n",
      "2639/2639 [==============================] - 16s 6ms/step - loss: 0.4270 - precision: 0.8238 - recall: 0.9347 - nll: 19.3848 - kl_divergence: 8.1206 - val_loss: 0.4261 - val_precision: 0.8228 - val_recall: 0.9379 - val_nll: 19.3417 - val_kl_divergence: 7.8283\n",
      "Epoch 78/100\n",
      "2639/2639 [==============================] - 16s 6ms/step - loss: 0.4269 - precision: 0.8238 - recall: 0.9343 - nll: 19.3765 - kl_divergence: 8.0930 - val_loss: 0.4264 - val_precision: 0.8242 - val_recall: 0.9369 - val_nll: 19.3536 - val_kl_divergence: 8.0181\n",
      "Epoch 79/100\n",
      "2639/2639 [==============================] - 16s 6ms/step - loss: 0.4272 - precision: 0.8237 - recall: 0.9344 - nll: 19.3918 - kl_divergence: 8.1042 - val_loss: 0.4268 - val_precision: 0.8241 - val_recall: 0.9365 - val_nll: 19.3715 - val_kl_divergence: 8.0053\n",
      "Epoch 80/100\n",
      "2639/2639 [==============================] - 16s 6ms/step - loss: 0.4270 - precision: 0.8239 - recall: 0.9343 - nll: 19.3799 - kl_divergence: 8.1119 - val_loss: 0.4260 - val_precision: 0.8234 - val_recall: 0.9372 - val_nll: 19.3323 - val_kl_divergence: 7.9344\n",
      "Epoch 81/100\n",
      "2639/2639 [==============================] - 16s 6ms/step - loss: 0.4270 - precision: 0.8238 - recall: 0.9344 - nll: 19.3817 - kl_divergence: 8.0943 - val_loss: 0.4266 - val_precision: 0.8245 - val_recall: 0.9348 - val_nll: 19.3664 - val_kl_divergence: 8.1105\n",
      "Epoch 82/100\n",
      "2639/2639 [==============================] - 16s 6ms/step - loss: 0.4266 - precision: 0.8241 - recall: 0.9340 - nll: 19.3653 - kl_divergence: 8.0978 - val_loss: 0.4267 - val_precision: 0.8245 - val_recall: 0.9346 - val_nll: 19.3709 - val_kl_divergence: 8.0220\n",
      "Epoch 83/100\n",
      "2634/2639 [============================>.] - ETA: 0s - loss: 0.4269 - precision: 0.8240 - recall: 0.9339 - nll: 19.3776 - kl_divergence: 8.1078Restoring model weights from the end of the best epoch: 73.\n",
      "2639/2639 [==============================] - 16s 6ms/step - loss: 0.4269 - precision: 0.8240 - recall: 0.9339 - nll: 19.3760 - kl_divergence: 8.1098 - val_loss: 0.4262 - val_precision: 0.8240 - val_recall: 0.9362 - val_nll: 19.3463 - val_kl_divergence: 8.0164\n",
      "Epoch 83: early stopping\n"
     ]
    }
   ],
   "source": [
    "opt_model = tuner.hypermodel.build(best_hparams)\n",
    "opt_model = train_model(X_train, X_test, y_train, y_test, model=opt_model, batch_size=best_hparams.get('batch_size'))"
   ]
  },
  {
   "cell_type": "code",
   "execution_count": null,
   "metadata": {
    "cellView": "form",
    "colab": {
     "base_uri": "https://localhost:8080/"
    },
    "id": "B7Xd6z7mEvxN",
    "outputId": "b9238c7a-8ebf-476b-941a-340b03d03d86"
   },
   "outputs": [
    {
     "name": "stdout",
     "output_type": "stream",
     "text": [
      "Model: \"optim_BNN\"\n",
      "_________________________________________________________________\n",
      " Layer (type)                Output Shape              Param #   \n",
      "=================================================================\n",
      " input_3 (InputLayer)        [(None, 7)]               0         \n",
      "                                                                 \n",
      " dense_variational_6 (DenseV  (None, 5)                860       \n",
      " ariational)                                                     \n",
      "                                                                 \n",
      " dense_variational_7 (DenseV  (None, 5)                495       \n",
      " ariational)                                                     \n",
      "                                                                 \n",
      " dense_variational_8 (DenseV  (None, 47)               40185     \n",
      " ariational)                                                     \n",
      "                                                                 \n",
      "=================================================================\n",
      "Total params: 41,540\n",
      "Trainable params: 41,540\n",
      "Non-trainable params: 0\n",
      "_________________________________________________________________\n",
      "******************************\n",
      "Evaluation all stades : \n",
      "(17316, 47)\n",
      "0.69516784\n",
      "sklearn auc :  0.683234818086774\n",
      "tf auc :  0.69516784\n",
      "precision recall f-score (0.8100401278681683, 0.9444182217343579, 0.8639933324278842, None)\n",
      "\n",
      "\n",
      "Evaluation for each stade : \n",
      "\n",
      "\n",
      "---------------STADE 1---------------\n",
      "(4329, 47)\n",
      "0.6249398\n",
      "sklearn auc :  0.6378632128549735\n",
      "tf auc :  0.6249398\n",
      "precision recall f-score (0.771367438729671, 0.9390340285400659, 0.8433772527537553, None)\n",
      "\n",
      "\n",
      "---------------STADE 2---------------\n",
      "(4329, 47)\n",
      "0.48564947\n",
      "sklearn auc :  0.5416944538441498\n",
      "tf auc :  0.48564947\n",
      "precision recall f-score (0.770930840804028, 0.9304207830223198, 0.8394628881976443, None)\n",
      "\n",
      "\n",
      "---------------STADE 3---------------\n",
      "(4329, 47)\n",
      "0.77427447\n",
      "sklearn auc :  0.7598595333736392\n",
      "tf auc :  0.77427447\n",
      "precision recall f-score (0.8263820821729313, 0.9485693377241127, 0.8788681856602661, None)\n",
      "\n",
      "\n",
      "---------------STADE 4---------------\n",
      "(4329, 47)\n",
      "0.5102348\n",
      "sklearn auc :  0.511401434980999\n",
      "tf auc :  0.5102348\n",
      "precision recall f-score (0.766432041116445, 0.9480790340285401, 0.8431208404863965, None)\n"
     ]
    }
   ],
   "source": [
    "# @title opt model eval\n",
    "results = runEval(opt_model)"
   ]
  },
  {
   "cell_type": "markdown",
   "metadata": {
    "id": "-0Pbc2XeZKlx"
   },
   "source": [
    "# 5. Corner cases "
   ]
  },
  {
   "cell_type": "markdown",
   "metadata": {
    "id": "oJfv4ZiyfzLk"
   },
   "source": []
  },
  {
   "cell_type": "code",
   "execution_count": null,
   "metadata": {
    "colab": {
     "base_uri": "https://localhost:8080/"
    },
    "id": "x6jN5LeCZJ-i",
    "outputId": "3c485ffe-ece2-4897-8b5b-e25d21b19002"
   },
   "outputs": [
    {
     "name": "stdout",
     "output_type": "stream",
     "text": [
      "Model: \"base_BNN\"\n",
      "_________________________________________________________________\n",
      " Layer (type)                Output Shape              Param #   \n",
      "=================================================================\n",
      " input_1 (InputLayer)        [(None, 7)]               0         \n",
      "                                                                 \n",
      " dense_variational (DenseVar  (None, 100)              321200    \n",
      " iational)                                                       \n",
      "                                                                 \n",
      " dense (Dense)               (None, 47)                4747      \n",
      "                                                                 \n",
      "=================================================================\n",
      "Total params: 325,947\n",
      "Trainable params: 325,947\n",
      "Non-trainable params: 0\n",
      "_________________________________________________________________\n",
      "******************************\n",
      "Evaluation all stades : \n",
      "auc precision recall curve (tf) :  0.70107085\n",
      "precision recall f-score (0.7677925748326843, 0.802533190904929, 0.7728557774820753, None)\n",
      "\n",
      "\n",
      "Evaluation for each stade : \n",
      "\n",
      "\n",
      "---------------STADE 1---------------\n",
      "auc precision recall curve (tf) :  0.6367786\n",
      "precision recall f-score (0.7216890648827018, 0.7419502517930718, 0.7093365418028078, None)\n",
      "\n",
      "\n",
      "---------------STADE 2---------------\n",
      "auc precision recall curve (tf) :  0.6738136\n",
      "precision recall f-score (0.738656744657897, 0.7790325041965512, 0.7351085560842663, None)\n",
      "\n",
      "\n",
      "---------------STADE 3---------------\n",
      "auc precision recall curve (tf) :  0.7442779\n",
      "precision recall f-score (0.7720594143254574, 0.7598046696169694, 0.7489092086280772, None)\n",
      "\n",
      "\n",
      "---------------STADE 4---------------\n",
      "auc precision recall curve (tf) :  0.668293\n",
      "precision recall f-score (0.7218513798798771, 0.9288875324278956, 0.8060874555434847, None)\n",
      "Model: \"base_BNN\"\n",
      "_________________________________________________________________\n",
      " Layer (type)                Output Shape              Param #   \n",
      "=================================================================\n",
      " input_1 (InputLayer)        [(None, 7)]               0         \n",
      "                                                                 \n",
      " dense_variational (DenseVar  (None, 100)              321200    \n",
      " iational)                                                       \n",
      "                                                                 \n",
      " dense (Dense)               (None, 47)                4747      \n",
      "                                                                 \n",
      "=================================================================\n",
      "Total params: 325,947\n",
      "Trainable params: 325,947\n",
      "Non-trainable params: 0\n",
      "_________________________________________________________________\n",
      "******************************\n",
      "Evaluation all stades : \n",
      "auc precision recall curve (tf) :  0.65568185\n",
      "precision recall f-score (0.7354045101760711, 0.7693509973206312, 0.7312412454098587, None)\n",
      "\n",
      "\n",
      "Evaluation for each stade : \n",
      "\n",
      "\n",
      "---------------STADE 1---------------\n",
      "auc precision recall curve (tf) :  0.5976919\n",
      "precision recall f-score (0.6699491775545425, 0.7013992259601072, 0.6618605607211271, None)\n",
      "\n",
      "\n",
      "---------------STADE 2---------------\n",
      "auc precision recall curve (tf) :  0.61736\n",
      "precision recall f-score (0.6805584369910198, 0.7253646918725811, 0.6761068320004621, None)\n",
      "\n",
      "\n",
      "---------------STADE 3---------------\n",
      "auc precision recall curve (tf) :  0.6831916\n",
      "precision recall f-score (0.7318187731350505, 0.7277463530812742, 0.7080665686058075, None)\n",
      "\n",
      "\n",
      "---------------STADE 4---------------\n",
      "auc precision recall curve (tf) :  0.65338916\n",
      "precision recall f-score (0.6773381093577546, 0.8911878535278357, 0.7542251789818977, None)\n",
      "Model: \"base_BNN\"\n",
      "_________________________________________________________________\n",
      " Layer (type)                Output Shape              Param #   \n",
      "=================================================================\n",
      " input_1 (InputLayer)        [(None, 7)]               0         \n",
      "                                                                 \n",
      " dense_variational (DenseVar  (None, 100)              321200    \n",
      " iational)                                                       \n",
      "                                                                 \n",
      " dense (Dense)               (None, 47)                4747      \n",
      "                                                                 \n",
      "=================================================================\n",
      "Total params: 325,947\n",
      "Trainable params: 325,947\n",
      "Non-trainable params: 0\n",
      "_________________________________________________________________\n",
      "******************************\n",
      "Evaluation all stades : \n",
      "auc precision recall curve (tf) :  0.6451021\n",
      "precision recall f-score (0.7266675260753448, 0.7976315394993254, 0.7422984181327685, None)\n",
      "\n",
      "\n",
      "Evaluation for each stade : \n",
      "\n",
      "\n",
      "---------------STADE 1---------------\n",
      "auc precision recall curve (tf) :  0.597234\n",
      "precision recall f-score (0.6510618040289365, 0.7336231449557787, 0.6756726284260253, None)\n",
      "\n",
      "\n",
      "---------------STADE 2---------------\n",
      "auc precision recall curve (tf) :  0.62042755\n",
      "precision recall f-score (0.6863244353851862, 0.7660020986358866, 0.6976035708254233, None)\n",
      "\n",
      "\n",
      "---------------STADE 3---------------\n",
      "auc precision recall curve (tf) :  0.6881196\n",
      "precision recall f-score (0.7317787876910481, 0.7655523909458851, 0.7320955542169543, None)\n",
      "\n",
      "\n",
      "---------------STADE 4---------------\n",
      "auc precision recall curve (tf) :  0.6586374\n",
      "precision recall f-score (0.6644114519090243, 0.896717133862989, 0.750664163185729, None)\n",
      "Model: \"base_BNN\"\n",
      "_________________________________________________________________\n",
      " Layer (type)                Output Shape              Param #   \n",
      "=================================================================\n",
      " input_1 (InputLayer)        [(None, 7)]               0         \n",
      "                                                                 \n",
      " dense_variational (DenseVar  (None, 100)              321200    \n",
      " iational)                                                       \n",
      "                                                                 \n",
      " dense (Dense)               (None, 47)                4747      \n",
      "                                                                 \n",
      "=================================================================\n",
      "Total params: 325,947\n",
      "Trainable params: 325,947\n",
      "Non-trainable params: 0\n",
      "_________________________________________________________________\n",
      "******************************\n",
      "Evaluation all stades : \n",
      "auc precision recall curve (tf) :  0.6741691\n",
      "precision recall f-score (0.7464211648087166, 0.804230055658627, 0.7609588126440971, None)\n",
      "\n",
      "\n",
      "Evaluation for each stade : \n",
      "\n",
      "\n",
      "---------------STADE 1---------------\n",
      "auc precision recall curve (tf) :  0.6245986\n",
      "precision recall f-score (0.7133283244058243, 0.7447866419294991, 0.7081019771124186, None)\n",
      "\n",
      "\n",
      "---------------STADE 2---------------\n",
      "auc precision recall curve (tf) :  0.62610716\n",
      "precision recall f-score (0.7185421526778446, 0.7597773654916512, 0.7174697988311494, None)\n",
      "\n",
      "\n",
      "---------------STADE 3---------------\n",
      "auc precision recall curve (tf) :  0.69774926\n",
      "precision recall f-score (0.7541590125346381, 0.7678664192949908, 0.7443163977426376, None)\n",
      "\n",
      "\n",
      "---------------STADE 4---------------\n",
      "auc precision recall curve (tf) :  0.65620506\n",
      "precision recall f-score (0.7113482272838912, 0.9364749536178107, 0.8005054610253806, None)\n"
     ]
    }
   ],
   "source": [
    "# @title corner cases w/ base line bnn model\n",
    "for dataframe in [df_E, df_F, df_G, df_H]:\n",
    "  runEval(base_bnn, df_=dataframe)"
   ]
  },
  {
   "cell_type": "code",
   "execution_count": null,
   "metadata": {
    "id": "TdajIme-hH4K"
   },
   "outputs": [],
   "source": [
    "# @title corner cases w/ optimized bnn model\n",
    "for  dataframe in [df_E, df_F, df_G, df_H]:\n",
    "  runEval(opt_model, df_=dataframe)"
   ]
  },
  {
   "cell_type": "markdown",
   "metadata": {
    "id": "JZhrjeR212v5"
   },
   "source": [
    "# 6. Metrics"
   ]
  },
  {
   "cell_type": "markdown",
   "metadata": {
    "id": "F_C9QH02Pxm8"
   },
   "source": [
    "## Sharpness\n",
    "\n",
    "How sharp our predictions are i.e if the predictions are closer to 0 or 1 the classfier is sharp, if they are closer to 0.5 it is not sharp."
   ]
  },
  {
   "cell_type": "markdown",
   "metadata": {
    "id": "Szy4ltNxNky8"
   },
   "source": [
    "[Probabilistic forecasts, calibration and sharpness\n",
    "](https://sites.stat.washington.edu/raftery/Research/PDF/Gneiting2007jrssb.pdf)"
   ]
  },
  {
   "cell_type": "code",
   "execution_count": null,
   "metadata": {
    "colab": {
     "base_uri": "https://localhost:8080/",
     "height": 281
    },
    "id": "RoqEMEGFMgFk",
    "outputId": "8b98f558-667d-459b-f16f-703101d0fc67"
   },
   "outputs": [
    {
     "data": {
      "image/png": "[encoded data removed]",
      "text/plain": [
       "<Figure size 432x288 with 1 Axes>"
      ]
     },
     "metadata": {},
     "output_type": "display_data"
    }
   ],
   "source": [
    "plt.hist(means[0], bins=20)\n",
    "plt.title('distribution of predictions means (for a single input)')\n",
    "plt.show()"
   ]
  },
  {
   "cell_type": "code",
   "execution_count": null,
   "metadata": {
    "colab": {
     "base_uri": "https://localhost:8080/",
     "height": 281
    },
    "id": "iVVoM1_BS5A9",
    "outputId": "1f7e116a-1705-43d3-b6cd-99a4650ee1c5"
   },
   "outputs": [
    {
     "data": {
      "image/png": "[encoded data removed]",
      "text/plain": [
       "<Figure size 432x288 with 1 Axes>"
      ]
     },
     "metadata": {},
     "output_type": "display_data"
    }
   ],
   "source": [
    "plt.hist(np.mean(y_score, axis=0), bins=20)\n",
    "plt.title('distribution of predictions means over validation set')\n",
    "plt.show()"
   ]
  },
  {
   "cell_type": "code",
   "execution_count": null,
   "metadata": {
    "colab": {
     "base_uri": "https://localhost:8080/",
     "height": 281
    },
    "id": "6PhVy6SuPtj8",
    "outputId": "63664fea-e17b-4080-99c6-f14dce7bb15c"
   },
   "outputs": [
    {
     "data": {
      "image/png": "[encoded data removed]",
      "text/plain": [
       "<Figure size 432x288 with 1 Axes>"
      ]
     },
     "metadata": {},
     "output_type": "display_data"
    }
   ],
   "source": [
    "plt.boxplot(means[0])\n",
    "plt.title('box plot of prediction means (for a single input)')\n",
    "plt.show()"
   ]
  },
  {
   "cell_type": "code",
   "execution_count": null,
   "metadata": {
    "colab": {
     "base_uri": "https://localhost:8080/",
     "height": 281
    },
    "id": "5FtLTJu8SFl-",
    "outputId": "331f7840-7454-4706-a588-bb95360efaec"
   },
   "outputs": [
    {
     "data": {
      "image/png": "[encoded data removed]",
      "text/plain": [
       "<Figure size 432x288 with 1 Axes>"
      ]
     },
     "metadata": {},
     "output_type": "display_data"
    }
   ],
   "source": [
    "plt.boxplot(np.mean(y_score, axis=0))\n",
    "plt.title('box plot of predictions over valiation set')\n",
    "plt.show()"
   ]
  },
  {
   "cell_type": "code",
   "execution_count": null,
   "metadata": {
    "colab": {
     "base_uri": "https://localhost:8080/",
     "height": 762
    },
    "id": "bMHD-i2MVIv2",
    "outputId": "94e5d975-f751-4152-c3b0-de938fa93cf1"
   },
   "outputs": [
    {
     "data": {
      "image/png": "[encoded data removed]",
      "text/plain": [
       "<Figure size 2160x1080 with 45 Axes>"
      ]
     },
     "metadata": {},
     "output_type": "display_data"
    }
   ],
   "source": [
    "fig, axs = plt.subplots(5, 9, figsize=(30,15))\n",
    "plt.title('box plot for each antibiotic on the validation set')\n",
    "\n",
    "for i, ax in enumerate(axs.ravel()):\n",
    "    ax.boxplot(y_score[:,i])\n",
    "    ax.set_title(antibiotiques[i], pad=20)\n",
    "\n",
    "plt.tight_layout()"
   ]
  },
  {
   "cell_type": "markdown",
   "metadata": {
    "id": "wMyZyej0S9im"
   },
   "source": [
    "## Calibration curves / Reliability diagrams"
   ]
  },
  {
   "cell_type": "code",
   "execution_count": null,
   "metadata": {
    "id": "VVwHF1vBJZ27"
   },
   "outputs": [],
   "source": [
    "y_score = opt_model(X_val.values)"
   ]
  },
  {
   "cell_type": "code",
   "execution_count": null,
   "metadata": {
    "colab": {
     "base_uri": "https://localhost:8080/",
     "height": 635
    },
    "id": "I8af0NhytvXh",
    "outputId": "1a4726b5-5474-42d3-81b7-b61bd44dfac6"
   },
   "outputs": [
    {
     "ename": "NameError",
     "evalue": "ignored",
     "output_type": "error",
     "traceback": [
      "\u001b[0;31m---------------------------------------------------------------------------\u001b[0m",
      "\u001b[0;31mNameError\u001b[0m                                 Traceback (most recent call last)",
      "\u001b[0;32m<ipython-input-18-89dce2099f07>\u001b[0m in \u001b[0;36m<module>\u001b[0;34m\u001b[0m\n\u001b[1;32m      3\u001b[0m \u001b[0;34m\u001b[0m\u001b[0m\n\u001b[1;32m      4\u001b[0m \u001b[0;32mfor\u001b[0m \u001b[0mi\u001b[0m\u001b[0;34m,\u001b[0m \u001b[0max\u001b[0m \u001b[0;32min\u001b[0m \u001b[0menumerate\u001b[0m\u001b[0;34m(\u001b[0m\u001b[0maxs\u001b[0m\u001b[0;34m.\u001b[0m\u001b[0mravel\u001b[0m\u001b[0;34m(\u001b[0m\u001b[0;34m)\u001b[0m\u001b[0;34m)\u001b[0m\u001b[0;34m:\u001b[0m\u001b[0;34m\u001b[0m\u001b[0;34m\u001b[0m\u001b[0m\n\u001b[0;32m----> 5\u001b[0;31m     \u001b[0mprob_true\u001b[0m\u001b[0;34m,\u001b[0m \u001b[0mprob_pred\u001b[0m \u001b[0;34m=\u001b[0m \u001b[0mcalibration_curve\u001b[0m\u001b[0;34m(\u001b[0m\u001b[0my_val\u001b[0m\u001b[0;34m.\u001b[0m\u001b[0mvalues\u001b[0m\u001b[0;34m[\u001b[0m\u001b[0;34m:\u001b[0m\u001b[0;34m,\u001b[0m\u001b[0mi\u001b[0m\u001b[0;34m]\u001b[0m\u001b[0;34m,\u001b[0m \u001b[0my_score\u001b[0m\u001b[0;34m[\u001b[0m\u001b[0;34m:\u001b[0m\u001b[0;34m,\u001b[0m\u001b[0mi\u001b[0m\u001b[0;34m]\u001b[0m\u001b[0;34m)\u001b[0m\u001b[0;34m\u001b[0m\u001b[0;34m\u001b[0m\u001b[0m\n\u001b[0m\u001b[1;32m      6\u001b[0m \u001b[0;34m\u001b[0m\u001b[0m\n\u001b[1;32m      7\u001b[0m     \u001b[0max\u001b[0m\u001b[0;34m.\u001b[0m\u001b[0mplot\u001b[0m\u001b[0;34m(\u001b[0m\u001b[0mprob_pred\u001b[0m\u001b[0;34m,\u001b[0m \u001b[0mprob_true\u001b[0m\u001b[0;34m,\u001b[0m \u001b[0;34m's-'\u001b[0m\u001b[0;34m,\u001b[0m\u001b[0mlabel\u001b[0m\u001b[0;34m=\u001b[0m\u001b[0;34m'mean calibrations'\u001b[0m\u001b[0;34m)\u001b[0m\u001b[0;34m\u001b[0m\u001b[0;34m\u001b[0m\u001b[0m\n",
      "\u001b[0;31mNameError\u001b[0m: name 'y_score' is not defined"
     ]
    },
    {
     "data": {
      "image/png": "[encoded data removed]",
      "text/plain": [
       "<Figure size 2160x1080 with 45 Axes>"
      ]
     },
     "metadata": {
      "needs_background": "light"
     },
     "output_type": "display_data"
    }
   ],
   "source": [
    "fig, axs = plt.subplots(5, 9, figsize=(30,15))\n",
    "plt.title('box plot for each antibiotic on the validation set')\n",
    "\n",
    "for i, ax in enumerate(axs.ravel()):\n",
    "    prob_true, prob_pred = calibration_curve(y_val.values[:,i], y_score[:,i])\n",
    "\n",
    "    ax.plot(prob_pred, prob_true, 's-',label='mean calibrations')\n",
    "    ax.plot([0,1], [0,1], '--', label='Perfectly calibrated')\n",
    "    ax.set_title(y_val.columns[i], pad=15)\n",
    "    ax.set_xlabel('Mean predicted probability')\n",
    "    ax.set_ylabel('Fraction of positive')\n",
    "    ax.legend()\n",
    "\n",
    "plt.tight_layout()"
   ]
  },
  {
   "cell_type": "markdown",
   "metadata": {
    "id": "sidrep7fZYbe"
   },
   "source": [
    "# 7. Hybrid bayesian neural network "
   ]
  },
  {
   "cell_type": "code",
   "execution_count": 132,
   "metadata": {},
   "outputs": [],
   "source": [
    "def eval_aleatoric(model, X_val, y_val):\n",
    "  preds_distributions = model(X_val.to_numpy())\n",
    "  preds_means = preds_distributions.mean().numpy()\n",
    "  preds_stdvs = preds_distributions.stddev().numpy()\n",
    "  \n",
    "  print('precision, recall, f1, support : ', precision_recall_fscore_support(y_val, preds_means.round(), average='weighted'))\n",
    "  print('auc : ', roc_auc_score(y_val, preds_means))\n",
    "  print('mean uncertainty : ', preds_stdvs.mean())\n",
    "  \n",
    "        \n",
    "def run_eval_aleatoric(model, df_=df_D): \n",
    "  model.summary()\n",
    "  print('******************************')\n",
    "  print('Evaluation all stades : ')\n",
    "  X_val, y_val = createDataSet(df_)\n",
    "  all_stades = eval_aleatoric(model, X_val, y_val)\n",
    "\n",
    "  eval_stades = [all_stades]\n",
    "  print('\\n\\nEvaluation for each stade : ')\n",
    "  # AUC for each stades \n",
    "  stades = [1, 2, 3, 4]\n",
    "  for stade in stades:\n",
    "    print('\\n')\n",
    "    print('---------------STADE {}---------------'.format(stade))\n",
    "    X_val, y_val = getXY(df_, stade)\n",
    "    \n",
    "    eval_stades.append(eval_aleatoric(model, X_val, y_val))\n",
    "\n",
    "  return eval_stades"
   ]
  },
  {
   "cell_type": "code",
   "execution_count": 80,
   "metadata": {},
   "outputs": [],
   "source": [
    "nll = lambda y, yhat : -yhat.log_prob(y)"
   ]
  },
  {
   "cell_type": "code",
   "execution_count": 134,
   "metadata": {
    "id": "iuw0x1-hZXye"
   },
   "outputs": [],
   "source": [
    "def create_aleatoric_model(units1=100, units2=100, units3=100, activation='elu'): \n",
    "  # input layer \n",
    "  inputs = keras.Input(shape=(X_train.shape[1],))\n",
    "  x = BatchNormalization()(inputs)\n",
    "\n",
    "  # hidden \n",
    "  x = Dense(500, activation='elu')(inputs)\n",
    "  x = BatchNormalization()(x)\n",
    "  x = Dropout(0.2)(x)\n",
    "  \n",
    "  x = Dense(400, activation='elu')(x)\n",
    "  x = BatchNormalization()(x)\n",
    "  x = Dropout(0.2)(x)\n",
    "  \n",
    "  x = Dense(100, activation='elu')(x)\n",
    "  x = BatchNormalization()(x)\n",
    "  x = Dropout(0.2)(x)\n",
    "\n",
    "  # output \n",
    "  outputs = Dense(47)(x)\n",
    "  outputs = tfp.layers.IndependentBernoulli(n_antibiotiques)(outputs)\n",
    "\n",
    "  # model compile\n",
    "  model = keras.Model(inputs=inputs, outputs=outputs, name='HBNN')\n",
    "\n",
    "  opt = keras.optimizers.Adam(learning_rate=0.0024)\n",
    "\n",
    "  model.compile(loss=lambda y, yhat : -yhat.log_prob(y), \n",
    "                optimizer=opt, metrics=['Precision',\n",
    "                                        'Recall',\n",
    "                                        'AUC'\n",
    "                                        ])\n",
    "  model.summary()\n",
    "\n",
    "  return model"
   ]
  },
  {
   "cell_type": "code",
   "execution_count": 135,
   "metadata": {
    "colab": {
     "base_uri": "https://localhost:8080/"
    },
    "id": "cioaGd6edKY3",
    "outputId": "2e49147f-554e-431c-c8ed-f08a0e57427f"
   },
   "outputs": [
    {
     "name": "stdout",
     "output_type": "stream",
     "text": [
      "Model: \"HBNN\"\n",
      "_________________________________________________________________\n",
      " Layer (type)                Output Shape              Param #   \n",
      "=================================================================\n",
      " input_34 (InputLayer)       [(None, 7)]               0         \n",
      "                                                                 \n",
      " dense_61 (Dense)            (None, 500)               4000      \n",
      "                                                                 \n",
      " batch_normalization_58 (Bat  (None, 500)              2000      \n",
      " chNormalization)                                                \n",
      "                                                                 \n",
      " dropout_33 (Dropout)        (None, 500)               0         \n",
      "                                                                 \n",
      " dense_62 (Dense)            (None, 400)               200400    \n",
      "                                                                 \n",
      " batch_normalization_59 (Bat  (None, 400)              1600      \n",
      " chNormalization)                                                \n",
      "                                                                 \n",
      " dropout_34 (Dropout)        (None, 400)               0         \n",
      "                                                                 \n",
      " dense_63 (Dense)            (None, 100)               40100     \n",
      "                                                                 \n",
      " batch_normalization_60 (Bat  (None, 100)              400       \n",
      " chNormalization)                                                \n",
      "                                                                 \n",
      " dropout_35 (Dropout)        (None, 100)               0         \n",
      "                                                                 \n",
      " dense_64 (Dense)            (None, 47)                4747      \n",
      "                                                                 \n",
      " independent_bernoulli_25 (I  ((None, 47),             0         \n",
      " ndependentBernoulli)         (None, 47))                        \n",
      "                                                                 \n",
      "=================================================================\n",
      "Total params: 253,247\n",
      "Trainable params: 251,247\n",
      "Non-trainable params: 2,000\n",
      "_________________________________________________________________\n",
      "No GPU, using /device:CPU:0.\n",
      "Epoch 1/200\n",
      "2639/2639 [==============================] - 16s 6ms/step - loss: 17.8809 - precision: 0.8276 - recall: 0.8215 - auc: 0.7308 - val_loss: 15.7987 - val_precision: 0.8475 - val_recall: 0.8301 - val_auc: 0.7562\n",
      "Epoch 2/200\n",
      "2639/2639 [==============================] - 14s 5ms/step - loss: 16.4761 - precision: 0.8394 - recall: 0.8387 - auc: 0.7506 - val_loss: 15.8654 - val_precision: 0.8500 - val_recall: 0.8317 - val_auc: 0.7598\n",
      "Epoch 3/200\n",
      "2639/2639 [==============================] - 14s 5ms/step - loss: 16.2064 - precision: 0.8420 - recall: 0.8415 - auc: 0.7547 - val_loss: 15.3894 - val_precision: 0.8464 - val_recall: 0.8521 - val_auc: 0.7615\n",
      "Epoch 4/200\n",
      "2639/2639 [==============================] - 15s 6ms/step - loss: 16.0312 - precision: 0.8439 - recall: 0.8429 - auc: 0.7575 - val_loss: 15.1243 - val_precision: 0.8500 - val_recall: 0.8581 - val_auc: 0.7680\n",
      "Epoch 5/200\n",
      "2639/2639 [==============================] - 14s 5ms/step - loss: 15.8618 - precision: 0.8452 - recall: 0.8450 - auc: 0.7598 - val_loss: 15.0545 - val_precision: 0.8561 - val_recall: 0.8411 - val_auc: 0.7702\n",
      "Epoch 6/200\n",
      "2639/2639 [==============================] - 14s 5ms/step - loss: 15.7993 - precision: 0.8461 - recall: 0.8449 - auc: 0.7608 - val_loss: 15.0528 - val_precision: 0.8511 - val_recall: 0.8523 - val_auc: 0.7676\n",
      "Epoch 7/200\n",
      "2639/2639 [==============================] - 15s 6ms/step - loss: 15.7225 - precision: 0.8468 - recall: 0.8466 - auc: 0.7623 - val_loss: 14.9411 - val_precision: 0.8548 - val_recall: 0.8492 - val_auc: 0.7712\n",
      "Epoch 8/200\n",
      "2639/2639 [==============================] - 15s 6ms/step - loss: 15.6748 - precision: 0.8471 - recall: 0.8468 - auc: 0.7627 - val_loss: 14.8623 - val_precision: 0.8534 - val_recall: 0.8511 - val_auc: 0.7700\n",
      "Epoch 9/200\n",
      "2639/2639 [==============================] - 15s 6ms/step - loss: 15.6377 - precision: 0.8474 - recall: 0.8471 - auc: 0.7631 - val_loss: 14.8005 - val_precision: 0.8556 - val_recall: 0.8552 - val_auc: 0.7741\n",
      "Epoch 10/200\n",
      "2639/2639 [==============================] - 15s 6ms/step - loss: 15.5725 - precision: 0.8482 - recall: 0.8476 - auc: 0.7642 - val_loss: 14.7757 - val_precision: 0.8564 - val_recall: 0.8590 - val_auc: 0.7763\n",
      "Epoch 11/200\n",
      "2639/2639 [==============================] - 15s 6ms/step - loss: 15.5227 - precision: 0.8488 - recall: 0.8487 - auc: 0.7654 - val_loss: 14.6675 - val_precision: 0.8574 - val_recall: 0.8508 - val_auc: 0.7749\n",
      "Epoch 12/200\n",
      "2639/2639 [==============================] - 15s 6ms/step - loss: 15.5380 - precision: 0.8486 - recall: 0.8482 - auc: 0.7649 - val_loss: 14.7984 - val_precision: 0.8562 - val_recall: 0.8542 - val_auc: 0.7745\n",
      "Epoch 13/200\n",
      "2639/2639 [==============================] - 15s 6ms/step - loss: 15.4619 - precision: 0.8495 - recall: 0.8493 - auc: 0.7664 - val_loss: 14.7876 - val_precision: 0.8549 - val_recall: 0.8540 - val_auc: 0.7728\n",
      "Epoch 14/200\n",
      "2639/2639 [==============================] - 15s 6ms/step - loss: 15.4431 - precision: 0.8497 - recall: 0.8492 - auc: 0.7666 - val_loss: 14.6875 - val_precision: 0.8577 - val_recall: 0.8611 - val_auc: 0.7786\n",
      "Epoch 15/200\n",
      "2639/2639 [==============================] - 15s 6ms/step - loss: 15.4373 - precision: 0.8499 - recall: 0.8497 - auc: 0.7670 - val_loss: 14.6651 - val_precision: 0.8556 - val_recall: 0.8550 - val_auc: 0.7740\n",
      "Epoch 16/200\n",
      "2639/2639 [==============================] - 14s 5ms/step - loss: 15.4122 - precision: 0.8502 - recall: 0.8498 - auc: 0.7674 - val_loss: 14.6900 - val_precision: 0.8593 - val_recall: 0.8486 - val_auc: 0.7765\n",
      "Epoch 17/200\n",
      "2639/2639 [==============================] - 14s 5ms/step - loss: 15.4101 - precision: 0.8501 - recall: 0.8500 - auc: 0.7673 - val_loss: 14.6420 - val_precision: 0.8581 - val_recall: 0.8574 - val_auc: 0.7779\n",
      "Epoch 18/200\n",
      "2639/2639 [==============================] - 14s 5ms/step - loss: 15.4082 - precision: 0.8501 - recall: 0.8498 - auc: 0.7673 - val_loss: 14.8118 - val_precision: 0.8578 - val_recall: 0.8518 - val_auc: 0.7757\n",
      "Epoch 19/200\n",
      "2639/2639 [==============================] - 15s 6ms/step - loss: 15.3577 - precision: 0.8504 - recall: 0.8501 - auc: 0.7678 - val_loss: 17.3466 - val_precision: 0.8567 - val_recall: 0.8397 - val_auc: 0.7705\n",
      "Epoch 20/200\n",
      "2639/2639 [==============================] - 15s 6ms/step - loss: 15.3522 - precision: 0.8507 - recall: 0.8505 - auc: 0.7682 - val_loss: 14.6207 - val_precision: 0.8597 - val_recall: 0.8491 - val_auc: 0.7772\n",
      "Epoch 21/200\n",
      "2639/2639 [==============================] - 14s 5ms/step - loss: 15.3216 - precision: 0.8510 - recall: 0.8509 - auc: 0.7687 - val_loss: 14.5363 - val_precision: 0.8603 - val_recall: 0.8452 - val_auc: 0.7766\n",
      "Epoch 22/200\n",
      "2639/2639 [==============================] - 15s 6ms/step - loss: 15.3193 - precision: 0.8512 - recall: 0.8509 - auc: 0.7690 - val_loss: 14.5358 - val_precision: 0.8566 - val_recall: 0.8654 - val_auc: 0.7786\n",
      "Epoch 23/200\n",
      "2639/2639 [==============================] - 15s 6ms/step - loss: 15.3243 - precision: 0.8509 - recall: 0.8510 - auc: 0.7686 - val_loss: 15.3475 - val_precision: 0.8596 - val_recall: 0.8536 - val_auc: 0.7785\n",
      "Epoch 24/200\n",
      "2639/2639 [==============================] - 15s 6ms/step - loss: 15.3179 - precision: 0.8511 - recall: 0.8505 - auc: 0.7687 - val_loss: 14.6363 - val_precision: 0.8567 - val_recall: 0.8494 - val_auc: 0.7736\n",
      "Epoch 25/200\n",
      "2639/2639 [==============================] - 15s 6ms/step - loss: 15.2933 - precision: 0.8512 - recall: 0.8513 - auc: 0.7691 - val_loss: 14.5841 - val_precision: 0.8606 - val_recall: 0.8542 - val_auc: 0.7800\n",
      "Epoch 26/200\n",
      "2639/2639 [==============================] - 15s 6ms/step - loss: 15.2889 - precision: 0.8514 - recall: 0.8514 - auc: 0.7694 - val_loss: 14.5272 - val_precision: 0.8620 - val_recall: 0.8500 - val_auc: 0.7802\n",
      "Epoch 27/200\n",
      "2639/2639 [==============================] - 15s 6ms/step - loss: 15.2723 - precision: 0.8517 - recall: 0.8516 - auc: 0.7699 - val_loss: 14.4382 - val_precision: 0.8606 - val_recall: 0.8562 - val_auc: 0.7806\n"
     ]
    },
    {
     "name": "stdout",
     "output_type": "stream",
     "text": [
      "Epoch 28/200\n",
      "2639/2639 [==============================] - 15s 6ms/step - loss: 15.2713 - precision: 0.8517 - recall: 0.8513 - auc: 0.7697 - val_loss: 14.7223 - val_precision: 0.8581 - val_recall: 0.8590 - val_auc: 0.7784\n",
      "Epoch 29/200\n",
      "2639/2639 [==============================] - 15s 6ms/step - loss: 15.2627 - precision: 0.8515 - recall: 0.8516 - auc: 0.7696 - val_loss: 14.5967 - val_precision: 0.8564 - val_recall: 0.8702 - val_auc: 0.7799\n",
      "Epoch 30/200\n",
      "2639/2639 [==============================] - 15s 6ms/step - loss: 15.2188 - precision: 0.8520 - recall: 0.8523 - auc: 0.7705 - val_loss: 14.5931 - val_precision: 0.8578 - val_recall: 0.8578 - val_auc: 0.7776\n",
      "Epoch 31/200\n",
      "2639/2639 [==============================] - 14s 5ms/step - loss: 15.2350 - precision: 0.8521 - recall: 0.8519 - auc: 0.7704 - val_loss: 14.5019 - val_precision: 0.8590 - val_recall: 0.8590 - val_auc: 0.7795\n",
      "Epoch 32/200\n",
      "2639/2639 [==============================] - 14s 5ms/step - loss: 15.2184 - precision: 0.8520 - recall: 0.8521 - auc: 0.7704 - val_loss: 14.4202 - val_precision: 0.8586 - val_recall: 0.8588 - val_auc: 0.7790\n",
      "Epoch 33/200\n",
      "2639/2639 [==============================] - 14s 5ms/step - loss: 15.2353 - precision: 0.8522 - recall: 0.8518 - auc: 0.7705 - val_loss: 14.5530 - val_precision: 0.8576 - val_recall: 0.8734 - val_auc: 0.7824\n",
      "Epoch 34/200\n",
      "2639/2639 [==============================] - 15s 6ms/step - loss: 15.1756 - precision: 0.8525 - recall: 0.8525 - auc: 0.7711 - val_loss: 14.4057 - val_precision: 0.8587 - val_recall: 0.8557 - val_auc: 0.7780\n",
      "Epoch 35/200\n",
      "2639/2639 [==============================] - 15s 5ms/step - loss: 15.1857 - precision: 0.8523 - recall: 0.8524 - auc: 0.7709 - val_loss: 14.4629 - val_precision: 0.8585 - val_recall: 0.8639 - val_auc: 0.7805\n",
      "Epoch 36/200\n",
      "2639/2639 [==============================] - 15s 6ms/step - loss: 15.1879 - precision: 0.8526 - recall: 0.8526 - auc: 0.7713 - val_loss: 14.4969 - val_precision: 0.8620 - val_recall: 0.8530 - val_auc: 0.7813\n",
      "Epoch 37/200\n",
      "2639/2639 [==============================] - 15s 6ms/step - loss: 15.1562 - precision: 0.8526 - recall: 0.8525 - auc: 0.7713 - val_loss: 15.2501 - val_precision: 0.8603 - val_recall: 0.8491 - val_auc: 0.7779\n",
      "Epoch 38/200\n",
      "2639/2639 [==============================] - 15s 6ms/step - loss: 15.1619 - precision: 0.8528 - recall: 0.8527 - auc: 0.7716 - val_loss: 14.3747 - val_precision: 0.8610 - val_recall: 0.8562 - val_auc: 0.7811\n",
      "Epoch 39/200\n",
      "2639/2639 [==============================] - 15s 6ms/step - loss: 15.1840 - precision: 0.8525 - recall: 0.8524 - auc: 0.7711 - val_loss: 14.3930 - val_precision: 0.8609 - val_recall: 0.8536 - val_auc: 0.7801\n",
      "Epoch 40/200\n",
      "2639/2639 [==============================] - 15s 6ms/step - loss: 15.1552 - precision: 0.8528 - recall: 0.8527 - auc: 0.7715 - val_loss: 14.6271 - val_precision: 0.8584 - val_recall: 0.8564 - val_auc: 0.7779\n",
      "Epoch 41/200\n",
      "2639/2639 [==============================] - 15s 6ms/step - loss: 15.1783 - precision: 0.8526 - recall: 0.8522 - auc: 0.7711 - val_loss: 14.5495 - val_precision: 0.8606 - val_recall: 0.8534 - val_auc: 0.7797\n",
      "Epoch 42/200\n",
      "2639/2639 [==============================] - 15s 6ms/step - loss: 15.1522 - precision: 0.8525 - recall: 0.8527 - auc: 0.7712 - val_loss: 15.3623 - val_precision: 0.8647 - val_recall: 0.8454 - val_auc: 0.7820\n",
      "Epoch 43/200\n",
      "2639/2639 [==============================] - 16s 6ms/step - loss: 15.1797 - precision: 0.8525 - recall: 0.8522 - auc: 0.7710 - val_loss: 16.6111 - val_precision: 0.8577 - val_recall: 0.8493 - val_auc: 0.7748\n",
      "Epoch 44/200\n",
      "2639/2639 [==============================] - 15s 6ms/step - loss: 15.1375 - precision: 0.8528 - recall: 0.8526 - auc: 0.7715 - val_loss: 14.4870 - val_precision: 0.8599 - val_recall: 0.8639 - val_auc: 0.7823\n",
      "Epoch 45/200\n",
      "2639/2639 [==============================] - 15s 6ms/step - loss: 15.1579 - precision: 0.8528 - recall: 0.8527 - auc: 0.7716 - val_loss: 14.5860 - val_precision: 0.8636 - val_recall: 0.8402 - val_auc: 0.7790\n",
      "Epoch 46/200\n",
      "2639/2639 [==============================] - 15s 6ms/step - loss: 15.1281 - precision: 0.8529 - recall: 0.8528 - auc: 0.7717 - val_loss: 14.3397 - val_precision: 0.8629 - val_recall: 0.8580 - val_auc: 0.7840\n",
      "Epoch 47/200\n",
      "2639/2639 [==============================] - 15s 6ms/step - loss: 15.1309 - precision: 0.8530 - recall: 0.8533 - auc: 0.7720 - val_loss: 14.6246 - val_precision: 0.8593 - val_recall: 0.8640 - val_auc: 0.7816\n",
      "Epoch 48/200\n",
      "2639/2639 [==============================] - 15s 6ms/step - loss: 15.1391 - precision: 0.8529 - recall: 0.8526 - auc: 0.7716 - val_loss: 14.3709 - val_precision: 0.8605 - val_recall: 0.8609 - val_auc: 0.7820\n",
      "Epoch 49/200\n",
      "2639/2639 [==============================] - 15s 6ms/step - loss: 15.1579 - precision: 0.8527 - recall: 0.8530 - auc: 0.7715 - val_loss: 14.6638 - val_precision: 0.8623 - val_recall: 0.8545 - val_auc: 0.7821\n",
      "Epoch 50/200\n",
      "2639/2639 [==============================] - 15s 6ms/step - loss: 15.1310 - precision: 0.8530 - recall: 0.8527 - auc: 0.7718 - val_loss: 14.6344 - val_precision: 0.8565 - val_recall: 0.8718 - val_auc: 0.7806\n",
      "Epoch 51/200\n",
      "2630/2639 [============================>.] - ETA: 0s - loss: 15.1111 - precision: 0.8532 - recall: 0.8533 - auc: 0.7723Restoring model weights from the end of the best epoch: 1.\n",
      "2639/2639 [==============================] - 15s 6ms/step - loss: 15.1104 - precision: 0.8532 - recall: 0.8533 - auc: 0.7723 - val_loss: 14.3116 - val_precision: 0.8607 - val_recall: 0.8596 - val_auc: 0.7818\n",
      "Epoch 51: early stopping\n"
     ]
    }
   ],
   "source": [
    "aleatoric_bnn = create_aleatoric_model()\n",
    "model = train_model(X_train, X_test, y_train, y_test, batch_size=32, model=aleatoric_bnn)"
   ]
  },
  {
   "cell_type": "code",
   "execution_count": 137,
   "metadata": {
    "colab": {
     "base_uri": "https://localhost:8080/"
    },
    "id": "U5UZY6LYCFdZ",
    "outputId": "3c134173-ddcc-4889-bf75-d04d54a48c4c"
   },
   "outputs": [
    {
     "name": "stdout",
     "output_type": "stream",
     "text": [
      "Model: \"HBNN\"\n",
      "_________________________________________________________________\n",
      " Layer (type)                Output Shape              Param #   \n",
      "=================================================================\n",
      " input_34 (InputLayer)       [(None, 7)]               0         \n",
      "                                                                 \n",
      " dense_61 (Dense)            (None, 500)               4000      \n",
      "                                                                 \n",
      " batch_normalization_58 (Bat  (None, 500)              2000      \n",
      " chNormalization)                                                \n",
      "                                                                 \n",
      " dropout_33 (Dropout)        (None, 500)               0         \n",
      "                                                                 \n",
      " dense_62 (Dense)            (None, 400)               200400    \n",
      "                                                                 \n",
      " batch_normalization_59 (Bat  (None, 400)              1600      \n",
      " chNormalization)                                                \n",
      "                                                                 \n",
      " dropout_34 (Dropout)        (None, 400)               0         \n",
      "                                                                 \n",
      " dense_63 (Dense)            (None, 100)               40100     \n",
      "                                                                 \n",
      " batch_normalization_60 (Bat  (None, 100)              400       \n",
      " chNormalization)                                                \n",
      "                                                                 \n",
      " dropout_35 (Dropout)        (None, 100)               0         \n",
      "                                                                 \n",
      " dense_64 (Dense)            (None, 47)                4747      \n",
      "                                                                 \n",
      " independent_bernoulli_25 (I  ((None, 47),             0         \n",
      " ndependentBernoulli)         (None, 47))                        \n",
      "                                                                 \n",
      "=================================================================\n",
      "Total params: 253,247\n",
      "Trainable params: 251,247\n",
      "Non-trainable params: 2,000\n",
      "_________________________________________________________________\n",
      "******************************\n",
      "Evaluation all stades : \n",
      "precision, recall, f1, support :  (0.8494100507798976, 0.9484431028174167, 0.8921008494668723, None)\n",
      "auc :  0.8069481936814127\n",
      "mean uncertainty :  0.30944958\n",
      "\n",
      "\n",
      "Evaluation for each stade : \n",
      "\n",
      "\n",
      "---------------STADE 1---------------\n",
      "precision, recall, f1, support :  (0.7764333828014381, 0.9212221002561288, 0.8404027393592528, None)\n",
      "auc :  0.6591264079229563\n",
      "mean uncertainty :  0.37456477\n",
      "\n",
      "\n",
      "---------------STADE 2---------------\n",
      "precision, recall, f1, support :  (0.7495475885983192, 0.8089718258324186, 0.7669050738762244, None)\n",
      "auc :  0.4841927837415668\n",
      "mean uncertainty :  0.36879098\n",
      "\n",
      "\n",
      "---------------STADE 3---------------\n",
      "precision, recall, f1, support :  (0.869561740357356, 0.9639224295645811, 0.9118701001656859, None)\n",
      "auc :  0.8468094417688667\n",
      "mean uncertainty :  0.2876446\n",
      "\n",
      "\n",
      "---------------STADE 4---------------\n",
      "precision, recall, f1, support :  (0.8683995453241334, 0.9780387852177095, 0.9168421856086887, None)\n",
      "auc :  0.8580612876265756\n",
      "mean uncertainty :  0.25849712\n"
     ]
    }
   ],
   "source": [
    "results = run_eval_aleatoric(aleatoric_bnn)"
   ]
  },
  {
   "cell_type": "code",
   "execution_count": 84,
   "metadata": {
    "cellView": "form",
    "id": "43mVadmgZ1FY"
   },
   "outputs": [],
   "source": [
    "def create_hbnn_transfer_model(base_model='saved/model_bs_64_e_100_n1_300_n2_100_n3_300_n4_100_a_leaky_relu_lr_0.0014.h5'): \n",
    "  # input layer \n",
    "  inputs = keras.Input(shape=(X_train.shape[1],))\n",
    "  x = BatchNormalization()(inputs)\n",
    "\n",
    "  model = load_model(base_model)\n",
    "  # model.trainable = False\n",
    "\n",
    "  for layer in model.layers:\n",
    "    layer.trainable = False\n",
    "    x = layer(x)\n",
    "\n",
    "  # output \n",
    "  outputs = Dense(n_antibiotiques)(x)\n",
    "  outputs = tfp.layers.IndependentBernoulli(n_antibiotiques)(outputs)\n",
    "  # model compile\n",
    "  model = keras.Model(inputs=inputs, outputs=outputs, name='transfer_aleatoric')\n",
    "\n",
    "  opt = keras.optimizers.Adam(learning_rate=0.005)\n",
    "\n",
    "  model.compile(loss=nll, \n",
    "                optimizer=opt, metrics=['Precision',\n",
    "                                        'Recall',\n",
    "                                        tf.keras.metrics.AUC(name='val_auc')])\n",
    "  model.summary()\n",
    "\n",
    "  return model"
   ]
  },
  {
   "cell_type": "code",
   "execution_count": 85,
   "metadata": {
    "colab": {
     "base_uri": "https://localhost:8080/"
    },
    "id": "k6k62ukJi-TF",
    "outputId": "7c513580-b43f-4091-b673-1192be84ebf6"
   },
   "outputs": [
    {
     "name": "stdout",
     "output_type": "stream",
     "text": [
      "Model: \"transfer_aleatoric\"\n",
      "_________________________________________________________________\n",
      " Layer (type)                Output Shape              Param #   \n",
      "=================================================================\n",
      " input_23 (InputLayer)       [(None, 7)]               0         \n",
      "                                                                 \n",
      " batch_normalization_29 (Bat  (None, 7)                28        \n",
      " chNormalization)                                                \n",
      "                                                                 \n",
      " batch_normalization (BatchN  (None, 7)                28        \n",
      " ormalization)                                                   \n",
      "                                                                 \n",
      " input_1 (InputLayer)        multiple                  0         \n",
      "                                                                 \n",
      " batch_normalization_1 (Batc  (None, 7)                28        \n",
      " hNormalization)                                                 \n",
      "                                                                 \n",
      " dense (Dense)               (None, 300)               2400      \n",
      "                                                                 \n",
      " leaky_re_lu (LeakyReLU)     (None, 300)               0         \n",
      "                                                                 \n",
      " batch_normalization_2 (Batc  (None, 300)              1200      \n",
      " hNormalization)                                                 \n",
      "                                                                 \n",
      " dropout (Dropout)           (None, 300)               0         \n",
      "                                                                 \n",
      " dense_1 (Dense)             (None, 100)               30100     \n",
      "                                                                 \n",
      " leaky_re_lu_1 (LeakyReLU)   (None, 100)               0         \n",
      "                                                                 \n",
      " batch_normalization_3 (Batc  (None, 100)              400       \n",
      " hNormalization)                                                 \n",
      "                                                                 \n",
      " dropout_1 (Dropout)         (None, 100)               0         \n",
      "                                                                 \n",
      " dense_2 (Dense)             (None, 300)               30300     \n",
      "                                                                 \n",
      " leaky_re_lu_2 (LeakyReLU)   (None, 300)               0         \n",
      "                                                                 \n",
      " batch_normalization_4 (Batc  (None, 300)              1200      \n",
      " hNormalization)                                                 \n",
      "                                                                 \n",
      " dropout_2 (Dropout)         (None, 300)               0         \n",
      "                                                                 \n",
      " dense_3 (Dense)             (None, 100)               30100     \n",
      "                                                                 \n",
      " leaky_re_lu_3 (LeakyReLU)   (None, 100)               0         \n",
      "                                                                 \n",
      " batch_normalization_5 (Batc  (None, 100)              400       \n",
      " hNormalization)                                                 \n",
      "                                                                 \n",
      " dropout_3 (Dropout)         (None, 100)               0         \n",
      "                                                                 \n",
      " dense_4 (Dense)             (None, 47)                4747      \n",
      "                                                                 \n",
      " dense_31 (Dense)            (None, 47)                2256      \n",
      "                                                                 \n",
      " independent_bernoulli_14 (I  ((None, 47),             0         \n",
      " ndependentBernoulli)         (None, 47))                        \n",
      "                                                                 \n",
      "=================================================================\n",
      "Total params: 103,187\n",
      "Trainable params: 2,270\n",
      "Non-trainable params: 100,917\n",
      "_________________________________________________________________\n",
      "No GPU, using /device:CPU:0.\n",
      "Epoch 1/200\n",
      "2639/2639 [==============================] - 8s 3ms/step - loss: 19.3123 - precision: 0.8069 - recall: 0.8080 - val_auc: 0.7003 - val_loss: 18.1395 - val_precision: 0.8174 - val_recall: 0.8271 - val_val_auc: 0.7182\n",
      "Epoch 2/200\n",
      "2639/2639 [==============================] - 7s 3ms/step - loss: 18.7815 - precision: 0.8136 - recall: 0.8142 - val_auc: 0.7106 - val_loss: 17.9587 - val_precision: 0.8185 - val_recall: 0.8145 - val_val_auc: 0.7163\n",
      "Epoch 3/200\n",
      "2639/2639 [==============================] - 7s 3ms/step - loss: 18.6374 - precision: 0.8151 - recall: 0.8158 - val_auc: 0.7130 - val_loss: 17.6870 - val_precision: 0.8176 - val_recall: 0.8277 - val_val_auc: 0.7187\n",
      "Epoch 4/200\n",
      "2639/2639 [==============================] - 7s 3ms/step - loss: 18.5633 - precision: 0.8165 - recall: 0.8167 - val_auc: 0.7150 - val_loss: 17.7529 - val_precision: 0.8291 - val_recall: 0.8001 - val_val_auc: 0.7257\n",
      "Epoch 5/200\n",
      "2639/2639 [==============================] - 7s 3ms/step - loss: 18.4724 - precision: 0.8171 - recall: 0.8176 - val_auc: 0.7161 - val_loss: 17.4610 - val_precision: 0.8256 - val_recall: 0.8289 - val_val_auc: 0.7293\n",
      "Epoch 6/200\n",
      "2639/2639 [==============================] - 7s 3ms/step - loss: 18.4977 - precision: 0.8174 - recall: 0.8174 - val_auc: 0.7163 - val_loss: 17.3719 - val_precision: 0.8233 - val_recall: 0.8348 - val_val_auc: 0.7279\n",
      "Epoch 7/200\n",
      "2639/2639 [==============================] - 7s 3ms/step - loss: 18.4458 - precision: 0.8181 - recall: 0.8183 - val_auc: 0.7175 - val_loss: 17.3513 - val_precision: 0.8312 - val_recall: 0.8155 - val_val_auc: 0.7327\n",
      "Epoch 8/200\n",
      "2639/2639 [==============================] - 7s 3ms/step - loss: 18.4150 - precision: 0.8186 - recall: 0.8188 - val_auc: 0.7182 - val_loss: 17.2466 - val_precision: 0.8270 - val_recall: 0.8276 - val_val_auc: 0.7308\n",
      "Epoch 9/200\n",
      "2639/2639 [==============================] - 7s 3ms/step - loss: 18.4379 - precision: 0.8185 - recall: 0.8187 - val_auc: 0.7181 - val_loss: 17.2987 - val_precision: 0.8226 - val_recall: 0.8453 - val_val_auc: 0.7299\n",
      "Epoch 10/200\n",
      "2639/2639 [==============================] - 7s 3ms/step - loss: 18.4510 - precision: 0.8180 - recall: 0.8185 - val_auc: 0.7175 - val_loss: 17.5310 - val_precision: 0.8232 - val_recall: 0.8524 - val_val_auc: 0.7326\n",
      "Epoch 11/200\n",
      "2639/2639 [==============================] - 7s 3ms/step - loss: 18.3935 - precision: 0.8187 - recall: 0.8188 - val_auc: 0.7184 - val_loss: 17.2230 - val_precision: 0.8286 - val_recall: 0.8217 - val_val_auc: 0.7312\n",
      "Epoch 12/200\n",
      "2639/2639 [==============================] - 7s 3ms/step - loss: 18.4306 - precision: 0.8187 - recall: 0.8186 - val_auc: 0.7183 - val_loss: 17.3348 - val_precision: 0.8225 - val_recall: 0.8467 - val_val_auc: 0.7301\n",
      "Epoch 13/200\n",
      "2639/2639 [==============================] - 7s 3ms/step - loss: 18.3957 - precision: 0.8188 - recall: 0.8186 - val_auc: 0.7184 - val_loss: 17.3985 - val_precision: 0.8266 - val_recall: 0.8145 - val_val_auc: 0.7266\n",
      "Epoch 14/200\n",
      "2639/2639 [==============================] - 7s 3ms/step - loss: 18.3872 - precision: 0.8188 - recall: 0.8190 - val_auc: 0.7186 - val_loss: 17.3085 - val_precision: 0.8223 - val_recall: 0.8298 - val_val_auc: 0.7253\n",
      "Epoch 15/200\n",
      "2639/2639 [==============================] - 7s 3ms/step - loss: 18.3783 - precision: 0.8192 - recall: 0.8194 - val_auc: 0.7192 - val_loss: 17.1829 - val_precision: 0.8250 - val_recall: 0.8409 - val_val_auc: 0.7318\n",
      "Epoch 16/200\n",
      "2639/2639 [==============================] - 7s 3ms/step - loss: 18.3644 - precision: 0.8191 - recall: 0.8190 - val_auc: 0.7190 - val_loss: 17.2106 - val_precision: 0.8239 - val_recall: 0.8366 - val_val_auc: 0.7293\n",
      "Epoch 17/200\n",
      "2639/2639 [==============================] - 7s 3ms/step - loss: 18.3590 - precision: 0.8192 - recall: 0.8191 - val_auc: 0.7191 - val_loss: 17.1298 - val_precision: 0.8266 - val_recall: 0.8303 - val_val_auc: 0.7310\n",
      "Epoch 18/200\n",
      "2639/2639 [==============================] - 7s 3ms/step - loss: 18.4236 - precision: 0.8189 - recall: 0.8189 - val_auc: 0.7187 - val_loss: 17.1910 - val_precision: 0.8320 - val_recall: 0.8092 - val_val_auc: 0.7319\n"
     ]
    },
    {
     "name": "stdout",
     "output_type": "stream",
     "text": [
      "Epoch 19/200\n",
      "2639/2639 [==============================] - 7s 3ms/step - loss: 18.3606 - precision: 0.8195 - recall: 0.8194 - val_auc: 0.7196 - val_loss: 17.1142 - val_precision: 0.8287 - val_recall: 0.8337 - val_val_auc: 0.7346\n",
      "Epoch 20/200\n",
      "2639/2639 [==============================] - 7s 3ms/step - loss: 18.3630 - precision: 0.8192 - recall: 0.8194 - val_auc: 0.7193 - val_loss: 17.1798 - val_precision: 0.8252 - val_recall: 0.8431 - val_val_auc: 0.7328\n",
      "Epoch 21/200\n",
      "2639/2639 [==============================] - 7s 3ms/step - loss: 18.3112 - precision: 0.8198 - recall: 0.8197 - val_auc: 0.7200 - val_loss: 17.1611 - val_precision: 0.8263 - val_recall: 0.8194 - val_val_auc: 0.7276\n",
      "Epoch 22/200\n",
      "2639/2639 [==============================] - 7s 3ms/step - loss: 18.3525 - precision: 0.8195 - recall: 0.8193 - val_auc: 0.7195 - val_loss: 17.0915 - val_precision: 0.8244 - val_recall: 0.8395 - val_val_auc: 0.7308\n",
      "Epoch 23/200\n",
      "2639/2639 [==============================] - 7s 3ms/step - loss: 18.3361 - precision: 0.8198 - recall: 0.8197 - val_auc: 0.7200 - val_loss: 17.0702 - val_precision: 0.8302 - val_recall: 0.8353 - val_val_auc: 0.7370\n",
      "Epoch 24/200\n",
      "2639/2639 [==============================] - 7s 3ms/step - loss: 18.3531 - precision: 0.8197 - recall: 0.8194 - val_auc: 0.7199 - val_loss: 17.2582 - val_precision: 0.8262 - val_recall: 0.8104 - val_val_auc: 0.7250\n",
      "Epoch 25/200\n",
      "2639/2639 [==============================] - 7s 3ms/step - loss: 18.3304 - precision: 0.8195 - recall: 0.8198 - val_auc: 0.7197 - val_loss: 17.0745 - val_precision: 0.8276 - val_recall: 0.8358 - val_val_auc: 0.7339\n",
      "Epoch 26/200\n",
      "2639/2639 [==============================] - 7s 3ms/step - loss: 18.3626 - precision: 0.8195 - recall: 0.8199 - val_auc: 0.7197 - val_loss: 17.2513 - val_precision: 0.8290 - val_recall: 0.8090 - val_val_auc: 0.7281\n",
      "Epoch 27/200\n",
      "2639/2639 [==============================] - 7s 3ms/step - loss: 18.3370 - precision: 0.8199 - recall: 0.8196 - val_auc: 0.7202 - val_loss: 17.1656 - val_precision: 0.8248 - val_recall: 0.8249 - val_val_auc: 0.7272\n",
      "Epoch 28/200\n",
      "2639/2639 [==============================] - 7s 3ms/step - loss: 18.3128 - precision: 0.8198 - recall: 0.8197 - val_auc: 0.7200 - val_loss: 17.1027 - val_precision: 0.8314 - val_recall: 0.8183 - val_val_auc: 0.7337\n",
      "Epoch 29/200\n",
      "2639/2639 [==============================] - 7s 3ms/step - loss: 18.2884 - precision: 0.8200 - recall: 0.8201 - val_auc: 0.7204 - val_loss: 17.1243 - val_precision: 0.8272 - val_recall: 0.8424 - val_val_auc: 0.7351\n",
      "Epoch 30/200\n",
      "2639/2639 [==============================] - 7s 3ms/step - loss: 18.2945 - precision: 0.8204 - recall: 0.8203 - val_auc: 0.7211 - val_loss: 17.2261 - val_precision: 0.8262 - val_recall: 0.8289 - val_val_auc: 0.7301\n",
      "Epoch 31/200\n",
      "2639/2639 [==============================] - 7s 3ms/step - loss: 18.2862 - precision: 0.8204 - recall: 0.8203 - val_auc: 0.7210 - val_loss: 17.0470 - val_precision: 0.8320 - val_recall: 0.8209 - val_val_auc: 0.7352\n",
      "Epoch 32/200\n",
      "2639/2639 [==============================] - 7s 3ms/step - loss: 18.3407 - precision: 0.8199 - recall: 0.8201 - val_auc: 0.7203 - val_loss: 17.1626 - val_precision: 0.8307 - val_recall: 0.8093 - val_val_auc: 0.7303\n",
      "Epoch 33/200\n",
      "2639/2639 [==============================] - 7s 3ms/step - loss: 18.3307 - precision: 0.8198 - recall: 0.8199 - val_auc: 0.7202 - val_loss: 17.0231 - val_precision: 0.8312 - val_recall: 0.8258 - val_val_auc: 0.7356\n",
      "Epoch 34/200\n",
      "2639/2639 [==============================] - 7s 3ms/step - loss: 18.2735 - precision: 0.8202 - recall: 0.8203 - val_auc: 0.7207 - val_loss: 17.1362 - val_precision: 0.8274 - val_recall: 0.8124 - val_val_auc: 0.7270\n",
      "Epoch 35/200\n",
      "2639/2639 [==============================] - 7s 3ms/step - loss: 18.3186 - precision: 0.8202 - recall: 0.8196 - val_auc: 0.7206 - val_loss: 17.1510 - val_precision: 0.8242 - val_recall: 0.8416 - val_val_auc: 0.7309\n",
      "Epoch 36/200\n",
      "2639/2639 [==============================] - 7s 3ms/step - loss: 18.3492 - precision: 0.8196 - recall: 0.8196 - val_auc: 0.7198 - val_loss: 17.2222 - val_precision: 0.8264 - val_recall: 0.8454 - val_val_auc: 0.7350\n",
      "Epoch 37/200\n",
      "2639/2639 [==============================] - 7s 3ms/step - loss: 18.3056 - precision: 0.8202 - recall: 0.8201 - val_auc: 0.7207 - val_loss: 17.0548 - val_precision: 0.8303 - val_recall: 0.8249 - val_val_auc: 0.7341\n",
      "Epoch 38/200\n",
      "2639/2639 [==============================] - 7s 3ms/step - loss: 18.3083 - precision: 0.8201 - recall: 0.8199 - val_auc: 0.7205 - val_loss: 17.0720 - val_precision: 0.8292 - val_recall: 0.8282 - val_val_auc: 0.7337\n",
      "Epoch 39/200\n",
      "2639/2639 [==============================] - 7s 3ms/step - loss: 18.3344 - precision: 0.8201 - recall: 0.8198 - val_auc: 0.7205 - val_loss: 17.0422 - val_precision: 0.8292 - val_recall: 0.8243 - val_val_auc: 0.7326\n",
      "Epoch 40/200\n",
      "2639/2639 [==============================] - 7s 3ms/step - loss: 18.3238 - precision: 0.8201 - recall: 0.8196 - val_auc: 0.7204 - val_loss: 17.1044 - val_precision: 0.8230 - val_recall: 0.8384 - val_val_auc: 0.7286\n",
      "Epoch 41/200\n",
      "2639/2639 [==============================] - 7s 3ms/step - loss: 18.2909 - precision: 0.8203 - recall: 0.8204 - val_auc: 0.7208 - val_loss: 16.9864 - val_precision: 0.8276 - val_recall: 0.8378 - val_val_auc: 0.7344\n",
      "Epoch 42/200\n",
      "2639/2639 [==============================] - 7s 3ms/step - loss: 18.2907 - precision: 0.8204 - recall: 0.8205 - val_auc: 0.7211 - val_loss: 17.0099 - val_precision: 0.8287 - val_recall: 0.8305 - val_val_auc: 0.7337\n",
      "Epoch 43/200\n",
      "2639/2639 [==============================] - 7s 3ms/step - loss: 18.3089 - precision: 0.8203 - recall: 0.8203 - val_auc: 0.7209 - val_loss: 17.0219 - val_precision: 0.8300 - val_recall: 0.8261 - val_val_auc: 0.7342\n",
      "Epoch 44/200\n",
      "2639/2639 [==============================] - 7s 3ms/step - loss: 18.3211 - precision: 0.8202 - recall: 0.8201 - val_auc: 0.7206 - val_loss: 17.0212 - val_precision: 0.8270 - val_recall: 0.8431 - val_val_auc: 0.7351\n",
      "Epoch 45/200\n",
      "2639/2639 [==============================] - 7s 3ms/step - loss: 18.2883 - precision: 0.8202 - recall: 0.8204 - val_auc: 0.7208 - val_loss: 17.0383 - val_precision: 0.8310 - val_recall: 0.8239 - val_val_auc: 0.7348\n",
      "Epoch 46/200\n",
      "2639/2639 [==============================] - 7s 3ms/step - loss: 18.3190 - precision: 0.8198 - recall: 0.8196 - val_auc: 0.7200 - val_loss: 17.0060 - val_precision: 0.8304 - val_recall: 0.8268 - val_val_auc: 0.7349\n",
      "Epoch 47/200\n",
      "2639/2639 [==============================] - 7s 3ms/step - loss: 18.3090 - precision: 0.8201 - recall: 0.8207 - val_auc: 0.7208 - val_loss: 17.1480 - val_precision: 0.8259 - val_recall: 0.8267 - val_val_auc: 0.7291\n",
      "Epoch 48/200\n",
      "2639/2639 [==============================] - 7s 3ms/step - loss: 18.3141 - precision: 0.8201 - recall: 0.8199 - val_auc: 0.7205 - val_loss: 17.1046 - val_precision: 0.8313 - val_recall: 0.8126 - val_val_auc: 0.7320\n",
      "Epoch 49/200\n",
      "2639/2639 [==============================] - 7s 3ms/step - loss: 18.3318 - precision: 0.8201 - recall: 0.8201 - val_auc: 0.7206 - val_loss: 17.1633 - val_precision: 0.8260 - val_recall: 0.8293 - val_val_auc: 0.7299\n",
      "Epoch 50/200\n",
      "2639/2639 [==============================] - 8s 3ms/step - loss: 18.2970 - precision: 0.8202 - recall: 0.8201 - val_auc: 0.7207 - val_loss: 17.0693 - val_precision: 0.8263 - val_recall: 0.8365 - val_val_auc: 0.7323\n",
      "Epoch 51/200\n",
      "2637/2639 [============================>.] - ETA: 0s - loss: 18.2892 - precision: 0.8202 - recall: 0.8201 - val_auc: 0.7207Restoring model weights from the end of the best epoch: 1.\n",
      "2639/2639 [==============================] - 8s 3ms/step - loss: 18.2897 - precision: 0.8202 - recall: 0.8201 - val_auc: 0.7206 - val_loss: 17.3060 - val_precision: 0.8179 - val_recall: 0.8563 - val_val_auc: 0.7266\n",
      "Epoch 51: early stopping\n"
     ]
    }
   ],
   "source": [
    "transfer_bnn = create_hbnn_transfer_model()\n",
    "model = train_model(X_train, X_test, y_train, y_test, batch_size=32, model=transfer_bnn)"
   ]
  },
  {
   "cell_type": "code",
   "execution_count": 86,
   "metadata": {
    "colab": {
     "base_uri": "https://localhost:8080/"
    },
    "id": "XFxwYiLbqIxI",
    "outputId": "ab846e26-35b5-41ed-86fa-e7cd3d7180e7"
   },
   "outputs": [
    {
     "name": "stdout",
     "output_type": "stream",
     "text": [
      "Model: \"transfer_aleatoric\"\n",
      "_________________________________________________________________\n",
      " Layer (type)                Output Shape              Param #   \n",
      "=================================================================\n",
      " input_23 (InputLayer)       [(None, 7)]               0         \n",
      "                                                                 \n",
      " batch_normalization_29 (Bat  (None, 7)                28        \n",
      " chNormalization)                                                \n",
      "                                                                 \n",
      " batch_normalization (BatchN  (None, 7)                28        \n",
      " ormalization)                                                   \n",
      "                                                                 \n",
      " input_1 (InputLayer)        multiple                  0         \n",
      "                                                                 \n",
      " batch_normalization_1 (Batc  (None, 7)                28        \n",
      " hNormalization)                                                 \n",
      "                                                                 \n",
      " dense (Dense)               (None, 300)               2400      \n",
      "                                                                 \n",
      " leaky_re_lu (LeakyReLU)     (None, 300)               0         \n",
      "                                                                 \n",
      " batch_normalization_2 (Batc  (None, 300)              1200      \n",
      " hNormalization)                                                 \n",
      "                                                                 \n",
      " dropout (Dropout)           (None, 300)               0         \n",
      "                                                                 \n",
      " dense_1 (Dense)             (None, 100)               30100     \n",
      "                                                                 \n",
      " leaky_re_lu_1 (LeakyReLU)   (None, 100)               0         \n",
      "                                                                 \n",
      " batch_normalization_3 (Batc  (None, 100)              400       \n",
      " hNormalization)                                                 \n",
      "                                                                 \n",
      " dropout_1 (Dropout)         (None, 100)               0         \n",
      "                                                                 \n",
      " dense_2 (Dense)             (None, 300)               30300     \n",
      "                                                                 \n",
      " leaky_re_lu_2 (LeakyReLU)   (None, 300)               0         \n",
      "                                                                 \n",
      " batch_normalization_4 (Batc  (None, 300)              1200      \n",
      " hNormalization)                                                 \n",
      "                                                                 \n",
      " dropout_2 (Dropout)         (None, 300)               0         \n",
      "                                                                 \n",
      " dense_3 (Dense)             (None, 100)               30100     \n",
      "                                                                 \n",
      " leaky_re_lu_3 (LeakyReLU)   (None, 100)               0         \n",
      "                                                                 \n",
      " batch_normalization_5 (Batc  (None, 100)              400       \n",
      " hNormalization)                                                 \n",
      "                                                                 \n",
      " dropout_3 (Dropout)         (None, 100)               0         \n",
      "                                                                 \n",
      " dense_4 (Dense)             (None, 47)                4747      \n",
      "                                                                 \n",
      " dense_31 (Dense)            (None, 47)                2256      \n",
      "                                                                 \n",
      " independent_bernoulli_14 (I  ((None, 47),             0         \n",
      " ndependentBernoulli)         (None, 47))                        \n",
      "                                                                 \n",
      "=================================================================\n",
      "Total params: 103,187\n",
      "Trainable params: 2,270\n",
      "Non-trainable params: 100,917\n",
      "_________________________________________________________________\n",
      "******************************\n",
      "Evaluation all stades : \n",
      "auc precision recall curve (tf) :  0.7879583\n",
      "precision recall f-score (0.827262433416531, 0.8944383461397731, 0.8554968335084593, None)\n",
      "\n",
      "\n",
      "Evaluation for each stade : \n",
      "\n",
      "\n",
      "---------------STADE 1---------------\n",
      "auc precision recall curve (tf) :  0.6964334\n",
      "precision recall f-score (0.7942820299694353, 0.8627222832052689, 0.8213135597449462, None)\n",
      "\n",
      "\n",
      "---------------STADE 2---------------\n",
      "auc precision recall curve (tf) :  0.6483533\n",
      "precision recall f-score (0.773340226175208, 0.8650054884742042, 0.8129395696280143, None)\n",
      "\n",
      "\n",
      "---------------STADE 3---------------\n",
      "auc precision recall curve (tf) :  0.81522954\n",
      "precision recall f-score (0.8353352973345632, 0.9118258324185876, 0.8670267481347897, None)\n",
      "\n",
      "\n",
      "---------------STADE 4---------------\n",
      "auc precision recall curve (tf) :  0.81523037\n",
      "precision recall f-score (0.8355389109198881, 0.9104134650567143, 0.8666849377981372, None)\n"
     ]
    }
   ],
   "source": [
    "results = runEval(transfer_bnn)"
   ]
  },
  {
   "cell_type": "code",
   "execution_count": 31,
   "metadata": {},
   "outputs": [],
   "source": [
    "def multilabel_bce(y_true, y_pred): \n",
    "  bces = []\n",
    "  for i in range(len(y_pred)):\n",
    "    bce = tf.keras.losses.BinaryCrossentropy()\n",
    "    bces.append(bce(y_true[:,i],  y_pred[:,i]).numpy())\n",
    "  return np.mean(bces)\n"
   ]
  },
  {
   "cell_type": "code",
   "execution_count": 32,
   "metadata": {},
   "outputs": [
    {
     "name": "stdout",
     "output_type": "stream",
     "text": [
      "0.15686159095544797\n",
      "0.15686159095544797\n"
     ]
    }
   ],
   "source": [
    "bce = tf.keras.losses.BinaryCrossentropy()\n",
    "\n",
    "y_pred = np.array([[0.00001, 1., 0.5],\n",
    "                  [.022, 1., 0.2],\n",
    "                  [.0, .89, 0.70]])\n",
    "          \n",
    "\n",
    "y_true = np.round(y_pred)\n",
    "\n",
    "print(bce(y_true, y_pred).numpy())\n",
    "print(multilabel_bce(y_true, y_pred))"
   ]
  },
  {
   "cell_type": "code",
   "execution_count": 35,
   "metadata": {},
   "outputs": [],
   "source": []
  },
  {
   "cell_type": "code",
   "execution_count": 41,
   "metadata": {},
   "outputs": [
    {
     "name": "stdout",
     "output_type": "stream",
     "text": [
      "[0. 1.]\n"
     ]
    }
   ],
   "source": [
    "print(np.unique(y_train))"
   ]
  },
  {
   "cell_type": "code",
   "execution_count": 48,
   "metadata": {},
   "outputs": [
    {
     "data": {
      "text/plain": [
       "array([0., 1.])"
      ]
     },
     "execution_count": 48,
     "metadata": {},
     "output_type": "execute_result"
    }
   ],
   "source": [
    "np.unique(y_train.values)"
   ]
  },
  {
   "cell_type": "code",
   "execution_count": 59,
   "metadata": {},
   "outputs": [
    {
     "name": "stdout",
     "output_type": "stream",
     "text": [
      "{'Amoxicilline': array([0.70711413, 1.70706394]), 'Augmentin': array([1.08128168, 0.93008409]), 'Oxacilline - Cefazoline': array([0.56361848, 4.42967596]), 'Tazocilline': array([2.09095383, 0.65713844]), 'Cefotaxime - Ceftriaxone': array([1.37394913, 0.78605784]), 'Ceftazidime': array([1.14265866, 0.889009  ]), 'Cefepime': array([1.8255048 , 0.68860739]), 'Aztreonam': array([0.60923592, 2.78862456]), 'Imipenem': array([4.29860057, 0.56581371]), 'Meropenem': array([7.37916064, 0.53634164]), 'Ertapenem': array([2.06889556, 0.65934776]), 'Amikacine': array([1.56858523, 0.7339542 ]), 'Gentamicine': array([1.80323231, 0.69183073]), 'Ciprofloxacine': array([1.39515158, 0.77928231]), 'Levofloxacine': array([1.80713071, 0.69125861]), 'Bactrim': array([1.43318905, 0.76789856]), 'Vancomycine': array([0.68992112, 1.81633598]), 'Rifampicine': array([0.61060018, 2.76039411]), 'Clindamycine': array([0.58203112, 3.54762402]), 'Macrolides': array([0.57421171, 3.86874052]), 'Linezolide': array([0.68691904, 1.83747748]), 'Metronidazole': array([ 0.51071715, 23.8271028 ]), 'Augmentin + Amikacine': array([5.89820706, 0.54631167]), 'Tazocilline + Amikacine': array([7.21931191, 0.53720619]), 'Cefotaxime - Ceftriaxone + Amikacine': array([2.81946364, 0.60778354]), 'Ceftazidime + Amikacine': array([1.79365414, 0.69325103]), 'Cefepime + Amikacine': array([2.88813367, 0.60468426]), 'Aztreonam + Amikacine': array([1.63466162, 0.72033   ]), 'Imipenem + Amikacine': array([10.87670648,  0.52409242]), 'Meropenem + Amikacine': array([11.17466579,  0.52341994]), 'Augmentin + Gentamicine': array([4.6119754 , 0.56079803]), 'Tazocilline + Gentamicine': array([5.34542405, 0.55159507]), 'Imipenem + Gentamicine': array([11.77326253,  0.52217637]), 'Vancomycine + Gentamicine': array([3.8500453 , 0.57462586]), 'Augmentin + Ciprofloxacine': array([2.85242784, 0.60627319]), 'Tazocilline + Ciprofloxacine': array([3.55975984, 0.58170576]), 'Cefotaxime - Ceftriaxone + Ciprofloxacine': array([1.98799173, 0.66801169]), 'Ceftazidime + Ciprofloxacine': array([1.78931116, 0.69390199]), 'Cefepime + Ciprofloxacine': array([2.11673378, 0.65463276]), 'Aztreonam + Ciprofloxacine': array([1.45544328, 0.76165865]), 'Imipenem + Ciprofloxacine': array([8.4434509 , 0.53147247]), 'Meropenem + Ciprofloxacine': array([10.04135486,  0.52620173]), 'Tazocilline + Vancomycine': array([2.39209983, 0.63212833]), 'Cefepime + Vancomycine': array([3.26440461, 0.59043539]), 'Meropenem + Vancomycine': array([12.52825553,  0.52078439]), 'Cefotaxime - Ceftriaxone + Metronidazole': array([1.45802356, 0.76095392]), 'Cefepime + Metronidazole': array([1.9769696, 0.6692655])}\n"
     ]
    }
   ],
   "source": [
    "weights = {}\n",
    "\n",
    "for i in range(n_antibiotiques):\n",
    "  weights[y_train.columns[i]]  = class_weight.compute_class_weight('balanced',\n",
    "                                            np.unique(y_train.values),\n",
    "                                            y_train.values[:,i])\n",
    "print(weights)\n"
   ]
  },
  {
   "cell_type": "code",
   "execution_count": 60,
   "metadata": {},
   "outputs": [],
   "source": [
    "def multilabel_bce(y_true, y_pred, class_weights): \n",
    "  y_pred = K.clip(y_pred, K.epsilon(), 1.0-K.epsilon())\n",
    "  out = -(y_true * K.log(y_pred)*class_weights[1] + (1.0 - y_true) * K.log(1.0 - y_pred)*class_weights[0])\n",
    "  \n",
    "  return K.mean(out, axis=-1)"
   ]
  },
  {
   "cell_type": "code",
   "execution_count": 38,
   "metadata": {},
   "outputs": [
    {
     "name": "stdout",
     "output_type": "stream",
     "text": [
      "[[0 0 1]\n",
      " [1 0 1]\n",
      " [0 0 1]]\n"
     ]
    },
    {
     "data": {
      "text/plain": [
       "0.11111111111111112"
      ]
     },
     "execution_count": 38,
     "metadata": {},
     "output_type": "execute_result"
    }
   ],
   "source": [
    "def multilabel_var_ratio(predictions, average=False):\n",
    "  # https://arxiv.org/pdf/1506.02142.pdf\n",
    "  # 1 - (f_c^* / T)\n",
    "  predictions = np.round(predictions).astype('int32')\n",
    "  var_ratios = np.zeros(predictions.shape[1])\n",
    "  for i in range(predictions.shape[1]):\n",
    "    counts = np.bincount(predictions[:,i])\n",
    "    var_ratios[i] = 1 - np.max(counts)/predictions.shape[0]\n",
    "\n",
    "  if average:\n",
    "    return var_ratios.mean()\n",
    "  return var_ratios\n",
    "\n",
    "\n",
    "predictions = np.array([[0.1, 0.1, 0.7],\n",
    "                        [0.7, 0.2, 0.6],\n",
    "                        [0.1, 0.1, 0.8]])\n",
    "\n",
    "\n",
    "multilabel_var_ratio(predictions, average=True)"
   ]
  }
 ],
 "metadata": {
  "accelerator": "GPU",
  "colab": {
   "collapsed_sections": [
    "QKnZYLrPwcUT",
    "0VUEjOsBIr4F",
    "8fVq86GdNtCH",
    "-0Pbc2XeZKlx",
    "JZhrjeR212v5",
    "F_C9QH02Pxm8",
    "wMyZyej0S9im",
    "sidrep7fZYbe"
   ],
   "machine_shape": "hm",
   "provenance": []
  },
  "gpuClass": "standard",
  "kernelspec": {
   "display_name": "Python 3 (ipykernel)",
   "language": "python",
   "name": "python3"
  },
  "language_info": {
   "codemirror_mode": {
    "name": "ipython",
    "version": 3
   },
   "file_extension": ".py",
   "mimetype": "text/x-python",
   "name": "python",
   "nbconvert_exporter": "python",
   "pygments_lexer": "ipython3",
   "version": "3.9.7"
  }
 },
 "nbformat": 4,
 "nbformat_minor": 1
}
